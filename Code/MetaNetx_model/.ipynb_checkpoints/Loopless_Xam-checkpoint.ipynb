{
 "cells": [
  {
   "cell_type": "markdown",
   "metadata": {},
   "source": [
    "### Loopless FBA"
   ]
  },
  {
   "cell_type": "code",
   "execution_count": 1,
   "metadata": {
    "collapsed": false
   },
   "outputs": [],
   "source": [
    "import os\n",
    "from os.path import join\n",
    "import pandas\n",
    "pandas.options.display.max_rows = 100\n",
    "\n",
    "import cobra\n",
    "\n",
    "data_dir = \"/Users/davidbotero/Dropbox (UCSD SBRG)/Xam_Multistrain_Recon/Metabolic_model/\"\n",
    "xam_model = cobra.io.read_sbml_model(join(data_dir, \"Xam_CIO151.sbml\"))\n",
    "\n",
    "%matplotlib inline\n",
    "import matplotlib\n",
    "matplotlib.style.use('ggplot')\n",
    "import matplotlib.pyplot as plt"
   ]
  },
  {
   "cell_type": "code",
   "execution_count": 2,
   "metadata": {
    "collapsed": false
   },
   "outputs": [],
   "source": [
    "import sys\n",
    "sys.path.append('/Users/davidbotero/anaconda/envs/python2/lib/python2.7/site-packages/cobra/cobrapy/documentation_builder')"
   ]
  },
  {
   "cell_type": "code",
   "execution_count": 11,
   "metadata": {
    "collapsed": false
   },
   "outputs": [],
   "source": [
    "%matplotlib inline\n",
    "import plot_helper\n",
    "from gurobipy import *\n",
    "\n",
    "from cobra import Reaction, Metabolite\n",
    "from cobra.flux_analysis.loopless import construct_loopless_model\n",
    "from cobra.solvers import get_solver_name"
   ]
  },
  {
   "cell_type": "code",
   "execution_count": 12,
   "metadata": {
    "collapsed": false
   },
   "outputs": [
    {
     "data": {
      "text/plain": [
       "<Solution 180.49 at 0x1210cba10>"
      ]
     },
     "execution_count": 12,
     "metadata": {},
     "output_type": "execute_result"
    }
   ],
   "source": [
    "construct_loopless_model(xam_model).optimize(solver = get_solver_name(gurobi), mip=True)"
   ]
  }
 ],
 "metadata": {
  "anaconda-cloud": {},
  "kernelspec": {
   "display_name": "Python [conda env:python2]",
   "language": "python",
   "name": "conda-env-python2-py"
  },
  "language_info": {
   "codemirror_mode": {
    "name": "ipython",
    "version": 2
   },
   "file_extension": ".py",
   "mimetype": "text/x-python",
   "name": "python",
   "nbconvert_exporter": "python",
   "pygments_lexer": "ipython2",
   "version": "2.7.12"
  }
 },
 "nbformat": 4,
 "nbformat_minor": 0
}
