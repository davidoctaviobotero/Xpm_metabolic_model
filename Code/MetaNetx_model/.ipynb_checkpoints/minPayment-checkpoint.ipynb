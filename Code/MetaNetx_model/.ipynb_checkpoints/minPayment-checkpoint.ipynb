{
 "cells": [
  {
   "cell_type": "code",
   "execution_count": 7,
   "metadata": {
    "collapsed": true
   },
   "outputs": [],
   "source": [
    "def minPayment(balance, annualInterestRate, monthlyPaymentRate):\n",
    "    \n",
    "    month = 1\n",
    "    minMonthPayment = 0\n",
    "    upBalance = balance\n",
    "    totalPaid = 0\n",
    "    monthInterestRate = annualInterestRate/12.0\n",
    "    \n",
    "    for month in range(12):\n",
    "        balance = upBalance\n",
    "        minMonthPayment = monthlyPaymentRate * balance\n",
    "        balance = balance - minMonthPayment\n",
    "        upBalance = balance + (monthInterestRate * balance)\n",
    "        totalPaid = totalPaid + minMonthPayment\n",
    "    print(round(upBalance, 2))"
   ]
  },
  {
   "cell_type": "code",
   "execution_count": 9,
   "metadata": {
    "collapsed": false
   },
   "outputs": [
    {
     "name": "stdout",
     "output_type": "stream",
     "text": [
      "361.61\n"
     ]
    }
   ],
   "source": [
    "minPayment(balance=484, annualInterestRate=0.2, monthlyPaymentRate=0.04)"
   ]
  }
 ],
 "metadata": {
  "kernelspec": {
   "display_name": "Python [Root]",
   "language": "python",
   "name": "Python [Root]"
  },
  "language_info": {
   "codemirror_mode": {
    "name": "ipython",
    "version": 3
   },
   "file_extension": ".py",
   "mimetype": "text/x-python",
   "name": "python",
   "nbconvert_exporter": "python",
   "pygments_lexer": "ipython3",
   "version": "3.5.2"
  }
 },
 "nbformat": 4,
 "nbformat_minor": 0
}
