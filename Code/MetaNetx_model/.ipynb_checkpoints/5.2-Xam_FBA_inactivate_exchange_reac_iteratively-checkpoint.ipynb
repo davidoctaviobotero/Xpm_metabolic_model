{
 "cells": [
  {
   "cell_type": "code",
   "execution_count": 8,
   "metadata": {
    "collapsed": false
   },
   "outputs": [],
   "source": [
    "import cobra\n",
    "import os\n",
    "from os.path import join\n",
    "from cobra.flux_analysis import calculate_phenotype_phase_plane\n",
    "import pandas\n",
    "pandas.options.display.max_rows = 100\n",
    "\n",
    "data_dir = \"/Users/davidbotero/Dropbox (UCSD SBRG)/Xam_Multistrain_Recon/Metabolic_model/\"\n",
    "#data_dir = \"/Users/david/Dropbox (UCSD SBRG)/Xam_Multistrain_Recon/Metabolic_model/\"\n",
    "xam_model = cobra.io.read_sbml_model(join(data_dir, \"Xam_CIO151.sbml\"))\n",
    "\n",
    "import matplotlib\n",
    "matplotlib.style.use('ggplot')\n",
    "import matplotlib.pyplot as plt\n",
    "%matplotlib inline\n",
    "\n",
    "from IPython.display import set_matplotlib_formats\n",
    "set_matplotlib_formats('png', 'pdf')\n",
    "from time import time"
   ]
  },
  {
   "cell_type": "markdown",
   "metadata": {},
   "source": [
    "### Original model"
   ]
  },
  {
   "cell_type": "code",
   "execution_count": 9,
   "metadata": {
    "collapsed": false
   },
   "outputs": [
    {
     "name": "stdout",
     "output_type": "stream",
     "text": [
      "1542\n",
      "1521\n",
      "874\n"
     ]
    }
   ],
   "source": [
    "print (len(xam_model.reactions))\n",
    "print (len(xam_model.metabolites))\n",
    "print (len(xam_model.genes))"
   ]
  },
  {
   "cell_type": "markdown",
   "metadata": {},
   "source": [
    "### FBA"
   ]
  },
  {
   "cell_type": "code",
   "execution_count": 10,
   "metadata": {
    "collapsed": false
   },
   "outputs": [
    {
     "name": "stdout",
     "output_type": "stream",
     "text": [
      "<Solution 180.49 at 0x1201f9750>\n"
     ]
    }
   ],
   "source": [
    "FBA_sol = xam_model.optimize()\n",
    "print (FBA_sol)"
   ]
  },
  {
   "cell_type": "code",
   "execution_count": 11,
   "metadata": {
    "collapsed": false
   },
   "outputs": [
    {
     "data": {
      "text/plain": [
       "'optimal'"
      ]
     },
     "execution_count": 11,
     "metadata": {},
     "output_type": "execute_result"
    }
   ],
   "source": [
    "xam_model.solution.status"
   ]
  },
  {
   "cell_type": "markdown",
   "metadata": {},
   "source": [
    "### Bounds of Exchange Reactions"
   ]
  },
  {
   "cell_type": "code",
   "execution_count": 12,
   "metadata": {
    "collapsed": false,
    "scrolled": true
   },
   "outputs": [
    {
     "name": "stdout",
     "output_type": "stream",
     "text": [
      "rxn13783_c0 DNA_replication_c0: 1000, 0\n",
      "rxn13784_c0 RNA_transcription_c0: 1000, 0\n",
      "rxn13782_c0 Protein_biosynthesis_c0: 1000, 0\n",
      "EX_cpd00067_e0 EX_H_e0: 1000, -1000\n",
      "EX_cpd00182_e0 EX_Adenosine_e0: 1000, -1000\n",
      "EX_cpd00106_e0 EX_Fumarate_e0: 1000, -1000\n",
      "EX_cpd00075_e0 EX_Nitrite_e0: 1000, -1000\n",
      "EX_cpd00036_e0 EX_Succinate_e0: 1000, -1000\n",
      "EX_cpd11576_e0 EX_L_methionine_R_oxide_e0: 1000, -1000\n",
      "EX_cpd00033_e0 EX_Glycine_e0: 1000, -1000\n",
      "EX_cpd00412_e0 EX_Deoxyuridine_e0: 1000, -1000\n",
      "EX_cpd00012_e0 EX_PPi_e0: 1000, -1000\n",
      "EX_cpd01030_e0 EX_Salicin_e0: 1000, -1000\n",
      "EX_cpd00635_e0 EX_Cbl_e0: 1000, -1000\n",
      "EX_cpd00246_e0 EX_Inosine_e0: 1000, -1000\n",
      "EX_cpd00276_e0 EX_GLUM_e0: 1000, -1000\n",
      "EX_cpd00082_e0 EX_D_Fructose_e0: 1000, -1000\n",
      "EX_cpd00001_e0 EX_H2O_e0: 1000, -1000\n",
      "EX_cpd00023_e0 EX_L_Glutamate_e0: 1000, -1000\n",
      "EX_cpd00971_e0 EX_Na_e0: 1000, -1000\n",
      "EX_cpd15560_e0 EX_Ubiquinone_8_e0: 1000, -1000\n",
      "EX_cpd15561_e0 EX_Ubiquinol_8_e0: 1000, -1000\n",
      "EX_cpd00367_e0 EX_Cytidine_e0: 1000, -1000\n",
      "EX_cpd00184_e0 EX_Thymidine_e0: 1000, -1000\n",
      "EX_cpd00314_e0 EX_D_Mannitol_e0: 1000, -1000\n",
      "EX_cpd00013_e0 EX_NH3_e0: 1000, -1000\n",
      "EX_cpd00051_e0 EX_L_Arginine_e0: 1000, -1000\n",
      "EX_cpd00064_e0 EX_Ornithine_e0: 1000, -1000\n",
      "EX_cpd10515_e0 EX_Fe2_e0: 1000, -1000\n",
      "EX_cpd00179_e0 EX_Maltose_e0: 1000, -1000\n",
      "EX_cpd00355_e0 EX_Nicotinamide_ribonucleotide_e0: 1000, -1000\n",
      "EX_cpd00100_e0 EX_Glycerol_e0: 1000, -1000\n",
      "EX_cpd00009_e0 EX_Phosphate_e0: 1000, -1000\n",
      "EX_cpd00060_e0 EX_L_Methionine_e0: 1000, -1000\n",
      "EX_cpd00137_e0 EX_Citrate_e0: 1000, -1000\n",
      "EX_cpd00438_e0 EX_Deoxyadenosine_e0: 1000, -1000\n",
      "EX_cpd00249_e0 EX_Uridine_e0: 1000, -1000\n",
      "EX_cpd00214_e0 EX_Palmitate_e0: 1000, -1000\n",
      "EX_cpd00654_e0 EX_Deoxycytidine_e0: 1000, -1000\n",
      "EX_cpd00076_e0 EX_Sucrose_e0: 1000, -1000\n",
      "EX_cpd01171_e0 EX_Dulcose_e0: 1000, -1000\n",
      "EX_cpd00210_e0 EX_Taurine_e0: 1000, -1000\n",
      "EX_cpd00176_e0 EX_2_keto_3_deoxygluconate_e0: 1000, -1000\n",
      "EX_cpd15302_c0 EX_glycogenn_1_c0: 1000, -1000\n",
      "EX_cpd00550_e0 EX_D_Serine_e0: 1000, -1000\n",
      "EX_cpd00264_e0 EX_Spermidine_e0: 1000, -1000\n",
      "EX_cpd00054_e0 EX_L_Serine_e0: 1000, -1000\n",
      "EX_cpd00154_e0 EX_Xylose_e0: 1000, -1000\n",
      "EX_cpd00637_e0 EX_D_Methionine_e0: 1000, -1000\n",
      "EX_cpd00122_e0 EX_N_Acetyl_D_glucosamine_e0: 1000, -1000\n",
      "EX_cpd03696_e0 EX_Ursin_e0: 1000, -1000\n",
      "EX_cpd00277_e0 EX_Deoxyguanosine_e0: 1000, -1000\n",
      "EX_cpd00118_e0 EX_Putrescine_e0: 1000, -1000\n",
      "EX_cpd00164_e0 EX_Glucuronate_e0: 1000, -1000\n",
      "EX_cpd03279_e0 EX_Deoxyinosine_e0: 1000, -1000\n",
      "EX_cpd00224_e0 EX_L_Arabinose_e0: 1000, -1000\n",
      "EX_cpd00588_e0 EX_Sorbitol_e0: 1000, -1000\n",
      "EX_cpd00280_e0 EX_D_Galacturonate_e0: 1000, -1000\n",
      "EX_cpd00117_e0 EX_D_Alanine_e0: 1000, -1000\n",
      "EX_cpd00254_e0 EX_Mg_e0: 1000, -1000\n",
      "EX_cpd00205_e0 EX_K_e0: 1000, -1000\n",
      "EX_cpd00138_e0 EX_D_Mannose_e0: 1000, -1000\n",
      "EX_cpd00540_e0 EX_BET_e0: 1000, -1000\n",
      "EX_cpd00034_e0 EX_Zn2_e0: 1000, -1000\n",
      "EX_cpd00130_e0 EX_L_Malate_e0: 1000, -1000\n",
      "EX_cpd00048_e0 EX_Sulfate_e0: 1000, -1000\n",
      "EX_cpd00129_e0 EX_L_Proline_e0: 1000, -1000\n",
      "EX_cpd10516_e0 EX_fe3_e0: 1000, -1000\n",
      "EX_cpd03847_e0 EX_Myristic_acid_e0: 1000, -1000\n",
      "EX_cpd00030_e0 EX_Mn2_e0: 1000, -1000\n",
      "EX_cpd00149_e0 EX_Co2_e0: 1000, -1000\n",
      "EX_cpd01914_e0 EX_L_Methionine_S_oxide_e0: 1000, -1000\n",
      "EX_cpd00099_e0 EX_Cl__e0: 1000, -1000\n",
      "EX_cpd01012_e0 EX_Cd2_e0: 1000, -1000\n",
      "EX_cpd00162_e0 EX_Aminoethanol_e0: 1000, -1000\n",
      "EX_cpd00027_e0 EX_D_Glucose_e0: 1000, -1000\n",
      "EX_cpd00209_e0 EX_Nitrate_e0: 1000, -1000\n",
      "EX_cpd00794_e0 EX_TRHL_e0: 1000, -1000\n",
      "EX_cpd00226_e0 EX_HYXN_e0: 1000, -1000\n",
      "EX_cpd00268_e0 EX_H2S2O3_e0: 1000, -1000\n",
      "EX_cpd00007_e0 EX_O2_e0: 1000, -1000\n",
      "EX_cpd00098_e0 EX_Choline_e0: 1000, -1000\n",
      "EX_cpd00041_e0 EX_L_Aspartate_e0: 1000, -1000\n",
      "EX_cpd01080_e0 EX_ocdca_e0: 1000, -1000\n",
      "EX_cpd00039_e0 EX_L_Lysine_e0: 1000, -1000\n",
      "EX_cpd00011_e0 EX_CO2_e0: 1000, -1000\n",
      "EX_cpd11416_c0 EX_Biomass_c0: 1000, -1000\n",
      "EX_cpd00063_e0 EX_Ca2_e0: 1000, -1000\n",
      "EX_cpd11606_e0 EX_Menaquinone_7_e0: 1000, -1000\n",
      "EX_cpd00793_e0 EX_Thiamine_phosphate_e0: 1000, -1000\n",
      "EX_cpd00136_e0 EX_4_Hydroxybenzoate_e0: 1000, -1000\n",
      "EX_cpd00065_e0 EX_L_Tryptophan_e0: 1000, -1000\n",
      "EX_cpd00058_e0 EX_Cu2_e0: 1000, -1000\n"
     ]
    }
   ],
   "source": [
    "for i in [i.id for i in xam_model.reactions if len(i.metabolites) == 1]:\n",
    "    reaction = xam_model.reactions.get_by_id(i)\n",
    "    print('%s %s: %i, %i' % (reaction.id, reaction.name, reaction.upper_bound, reaction.lower_bound))"
   ]
  },
  {
   "cell_type": "markdown",
   "metadata": {},
   "source": [
    "### Write down all exchange reactions"
   ]
  },
  {
   "cell_type": "code",
   "execution_count": 13,
   "metadata": {
    "collapsed": false,
    "scrolled": true
   },
   "outputs": [],
   "source": [
    "f1=open('./Exchange_reactions_Xam.txt', 'w+')\n",
    "reactions = 0\n",
    "\n",
    "for reaction in xam_model.reactions:\n",
    "    if len(reaction.metabolites) == 1:\n",
    "        react = reaction.name\n",
    "        f1.write(react)\n",
    "        f1.write('\\n')"
   ]
  },
  {
   "cell_type": "markdown",
   "metadata": {},
   "source": [
    "### Inactivate Each Exchange Reactions and Perform a FBA"
   ]
  },
  {
   "cell_type": "code",
   "execution_count": 14,
   "metadata": {
    "collapsed": false,
    "scrolled": true
   },
   "outputs": [],
   "source": [
    "FBA_Ex = {}\n",
    "for i in [i.id for i in xam_model.reactions if len(i.metabolites) == 1]:\n",
    "    reaction = xam_model.reactions.get_by_id(i)\n",
    "    lower = reaction.lower_bound\n",
    "    upper = reaction.upper_bound\n",
    "    reaction.lower_bound = 0\n",
    "    reaction.upper_bound = 0\n",
    "    FBA_sol = xam_model.optimize()\n",
    "    FBA_Ex[reaction.name] = FBA_sol.f\n",
    "    reaction.lower_bound = lower\n",
    "    reaction.upper_bound = upper"
   ]
  },
  {
   "cell_type": "code",
   "execution_count": null,
   "metadata": {
    "collapsed": false,
    "scrolled": true
   },
   "outputs": [],
   "source": [
    "fbaex_df = pandas.DataFrame.from_dict(FBA_Ex, orient='index').T.round(5)\n",
    "fbaex_df_t = pandas.DataFrame.transpose(fbaex_df)\n",
    "fbaex_df_t = fbaex_df_t.rename_axis(\"Reaction\")\n",
    "fbaex_df_t = fbaex_df_t.rename_axis({0: \"Flux\"}, axis=\"columns\")\n",
    "fbaex_df_t_sort = fbaex_df_t.sort_values(by=\"Flux\")\n",
    "print(fbaex_df_t_sort)"
   ]
  },
  {
   "cell_type": "code",
   "execution_count": null,
   "metadata": {
    "collapsed": false
   },
   "outputs": [
    {
     "data": {
      "application/pdf": "[encoded data removed]",
      "image/png": "[encoded data removed]",
      "text/plain": [
       "<matplotlib.figure.Figure at 0x131bfed50>"
      ]
     },
     "metadata": {},
     "output_type": "display_data"
    }
   ],
   "source": [
    "fbaex_df_t_sort.plot.bar()\n",
    "plt.tick_params(labeltop=False, labelbottom=False, bottom=False, top=False, labelright=True)"
   ]
  },
  {
   "cell_type": "markdown",
   "metadata": {},
   "source": [
    "### Perform a PP for every Exchange Reactions "
   ]
  },
  {
   "cell_type": "code",
   "execution_count": 1,
   "metadata": {
    "collapsed": false
   },
   "outputs": [],
   "source": [
    "# for i in [i.id for i in xam_model.reactions if len(i.metabolites) == 1]:\n",
    "#     reaction = xam_model.reactions.get_by_id(i)\n",
    "#     data = calculate_phenotype_phase_plane(xam_model, reaction, reaction)\n",
    "#     data.plot_matplotlib();"
   ]
  }
 ],
 "metadata": {
  "anaconda-cloud": {},
  "kernelspec": {
   "display_name": "Python [conda env:python2]",
   "language": "python",
   "name": "conda-env-python2-py"
  },
  "language_info": {
   "codemirror_mode": {
    "name": "ipython",
    "version": 2
   },
   "file_extension": ".py",
   "mimetype": "text/x-python",
   "name": "python",
   "nbconvert_exporter": "python",
   "pygments_lexer": "ipython2",
   "version": "2.7.12"
  }
 },
 "nbformat": 4,
 "nbformat_minor": 1
}
