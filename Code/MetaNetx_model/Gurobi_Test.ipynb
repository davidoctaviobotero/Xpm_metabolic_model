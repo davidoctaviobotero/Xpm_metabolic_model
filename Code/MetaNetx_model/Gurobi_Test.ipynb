{
 "cells": [
  {
   "cell_type": "code",
   "execution_count": 6,
   "metadata": {
    "collapsed": false
   },
   "outputs": [
    {
     "name": "stdout",
     "output_type": "stream",
     "text": [
      "Optimize a model with 3 rows, 2 columns and 6 nonzeros\n",
      "Coefficient statistics:\n",
      "  Matrix range    [2e-01, 1e+00]\n",
      "  Objective range [1e+00, 1e+00]\n",
      "  Bounds range    [0e+00, 0e+00]\n",
      "  RHS range       [1e+00, 1e+00]\n",
      "Presolve removed 3 rows and 2 columns\n",
      "Presolve time: 0.01s\n",
      "Presolve: All rows and columns removed\n",
      "Iteration    Objective       Primal Inf.    Dual Inf.      Time\n",
      "       0   -0.0000000e+00   0.000000e+00   0.000000e+00      0s\n",
      "\n",
      "Solved in 0 iterations and 0.02 seconds\n",
      "Optimal objective -0.000000000e+00\n"
     ]
    }
   ],
   "source": [
    "from gurobipy import *\n",
    "m = Model()\n",
    "v0 = m.addVar()\n",
    "v1 = m.addVar()\n",
    "m.update()\n",
    "m.addConstr(v0 - v1 <=0)\n",
    "m.addConstr(v0 + v1 <=0)\n",
    "m.addConstr(-0.25*v0 + v1 <=1)\n",
    "m.setObjective(v1, GRB.MAXIMIZE)\n",
    "m.optimize()"
   ]
  }
 ],
 "metadata": {
  "kernelspec": {
   "display_name": "Python [conda env:python2]",
   "language": "python",
   "name": "conda-env-python2-py"
  },
  "language_info": {
   "codemirror_mode": {
    "name": "ipython",
    "version": 2
   },
   "file_extension": ".py",
   "mimetype": "text/x-python",
   "name": "python",
   "nbconvert_exporter": "python",
   "pygments_lexer": "ipython2",
   "version": "2.7.12"
  }
 },
 "nbformat": 4,
 "nbformat_minor": 1
}
