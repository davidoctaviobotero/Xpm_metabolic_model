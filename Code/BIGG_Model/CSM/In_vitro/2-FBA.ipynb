{
 "cells": [
  {
   "cell_type": "markdown",
   "metadata": {
    "nbpresent": {
     "id": "fc845f2d-32cd-4d1a-b494-86ca667a869f"
    }
   },
   "source": [
    "# FBA"
   ]
  },
  {
   "cell_type": "code",
   "execution_count": 1,
   "metadata": {
    "collapsed": true,
    "nbpresent": {
     "id": "736496c3-d272-43f4-bb80-815c3f55bc01"
    }
   },
   "outputs": [],
   "source": [
    "import os\n",
    "from os.path import join\n",
    "import pandas\n",
    "pandas.options.display.max_rows = 100\n",
    "\n",
    "import cobra\n",
    "\n",
    "data_dir = \"/Users/david/Dropbox (UCSD SBRG)/Xam_Multistrain_Recon/Metabolic_model/BiGG_Model/CSM/In_vitro\"\n",
    "xam_void = cobra.io.load_matlab_model(join(data_dir, \"Xam_void_CSM.mat\"))\n",
    "xam_rpfCGH = cobra.io.load_matlab_model(join(data_dir, \"Xam_rpfCGH_CSM.mat\"))\n",
    "xam_rpfCGH_DEGs = cobra.io.load_matlab_model(join(data_dir, \"Xam_rpfCGH_CSM_DEGs.mat\"))\n",
    "\n",
    "%matplotlib inline\n",
    "import matplotlib\n",
    "matplotlib.style.use('ggplot')\n",
    "import matplotlib.pyplot as plt"
   ]
  },
  {
   "cell_type": "code",
   "execution_count": 7,
   "metadata": {
    "collapsed": false
   },
   "outputs": [],
   "source": [
    "xam_void.objective =\"OF_Biomass_Synthesis\"\n",
    "xam_rpfCGH.objective =\"OF_Biomass_Synthesis\"\n",
    "xam_rpfCGH_DEGs.objective =\"OF_Biomass_Synthesis\""
   ]
  },
  {
   "cell_type": "code",
   "execution_count": 3,
   "metadata": {
    "collapsed": false
   },
   "outputs": [
    {
     "data": {
      "text/plain": [
       "'0.2 BIOMASS_c + 0.8 MNXM22459_c --> '"
      ]
     },
     "execution_count": 3,
     "metadata": {},
     "output_type": "execute_result"
    }
   ],
   "source": [
    "xam_void.reactions.get_by_id(\"OF_Biomass_Synthesis\").reaction"
   ]
  },
  {
   "cell_type": "code",
   "execution_count": 8,
   "metadata": {
    "collapsed": false
   },
   "outputs": [
    {
     "name": "stdout",
     "output_type": "stream",
     "text": [
      "<Solution 0.49 at 0x105f4fd90>\n",
      "<Solution 0.49 at 0x105f4ff90>\n",
      "<Solution 0.49 at 0x105f4ffd0>\n"
     ]
    }
   ],
   "source": [
    "FBA_sol_void = xam_void.optimize()\n",
    "print (FBA_sol_void)\n",
    "FBA_sol_rpfCGH = xam_rpfCGH.optimize()\n",
    "print (FBA_sol_rpfCGH)\n",
    "FBA_sol_rpfCGH_DEGs = xam_rpfCGH_DEGs.optimize()\n",
    "print (FBA_sol_rpfCGH_DEGs)"
   ]
  },
  {
   "cell_type": "code",
   "execution_count": 9,
   "metadata": {
    "collapsed": false,
    "nbpresent": {
     "id": "05aba8c4-a2d9-4139-b870-027435f4da5d"
    },
    "scrolled": true
   },
   "outputs": [
    {
     "name": "stdout",
     "output_type": "stream",
     "text": [
      "                      Flux\n",
      "Reaction                  \n",
      "G6PDH2r            0.00000\n",
      "MNXR94198       1000.00000\n",
      "AGGPR             -0.02463\n",
      "MNXR53361          0.00840\n",
      "MNXR94197       1000.00000\n",
      "MNXR94196       1000.00000\n",
      "MNXR94194       1000.00000\n",
      "UAMAGS             0.00247\n",
      "MNXR53363          0.00840\n",
      "CPS               -0.02041\n",
      "XTSNH           1000.00000\n",
      "DDPA              -0.02805\n",
      "MNXR28723          0.00315\n",
      "MNXR28722          0.00315\n",
      "DHPS2              0.00000\n",
      "P5CD               0.01818\n",
      "MNXR4335        1000.00000\n",
      "MNXR27681          0.00840\n",
      "MNXR27680         -0.00840\n",
      "IMDHT_3c2hmp       0.03701\n",
      "P5CR              -0.01818\n",
      "MNXR93748       1000.00000\n",
      "ARGORNt7          10.00000\n",
      "DMPH               0.00000\n",
      "MNXR79548       -999.97616\n",
      "rxn05342_c0        0.00986\n",
      "GLUTRR            -0.00488\n",
      "GLUTRS            -0.00488\n",
      "BCTA_val_h      -997.30612\n",
      "FACOAL180          0.00000\n",
      "KARI_23dhmp        0.03224\n",
      "FOMETRi           -0.02798\n",
      "SHKK              -0.02805\n",
      "CO2t             -17.85395\n",
      "LPLIPAL1A160pp     0.00000\n",
      "KARI_23dhmb    -1000.00000\n",
      "TRE6PS             0.00000\n",
      "MNXR8605       -1000.00000\n",
      "MNXR55989         -0.00247\n",
      "GUDBUTNAH         -9.97537\n",
      "NNDMBRT           -0.00031\n",
      "ACACT1            -0.00840\n",
      "PANTS             -0.00061\n",
      "OCDCAt2            0.00840\n",
      "ECOAH9ir           0.00000\n",
      "PUTA3              0.00000\n",
      "O2t                0.00168\n",
      "MNXR87148          0.00986\n",
      "PPNCL2            -0.00061\n",
      "AMMQT8_2           0.00031\n",
      "...                    ...\n",
      "EDTXS2             0.00247\n",
      "DCTPD2             0.00000\n",
      "OPHBDC            -0.00031\n",
      "FBA             -229.36053\n",
      "MNXR5404           0.00000\n",
      "MNXR94252      -1000.00000\n",
      "GDH             1000.00000\n",
      "CBIAT              0.00031\n",
      "MOAT              -0.00247\n",
      "NTD11            770.42943\n",
      "ACOAD8m           -0.00840\n",
      "CPPPGO            -0.00031\n",
      "UAGDP             -0.00986\n",
      "CYTBD2pp           0.00000\n",
      "ASAD               0.04514\n",
      "MNXR14578        994.48913\n",
      "OHPHM              0.00031\n",
      "KARI               0.03224\n",
      "RZ5PP              0.00031\n",
      "IMDHT             -0.03701\n",
      "MNXR85267       1000.00000\n",
      "MOHMT              0.00061\n",
      "MNXR79601          0.00000\n",
      "UDPGD             -0.78872\n",
      "GCCb               0.00000\n",
      "GGTT              -0.00031\n",
      "EX_cl_e           -0.00031\n",
      "AFAT               0.00031\n",
      "MNXR80501         -0.00420\n",
      "EX_lys__L_e       -0.03061\n",
      "ICH               -0.03854\n",
      "NTD6               0.00000\n",
      "MNXR69346      -1000.00000\n",
      "ADCL               0.00092\n",
      "DGK1               0.00000\n",
      "MNXR85287      -1000.00000\n",
      "DPCOAK            -0.00061\n",
      "EX_mn2_e          -0.00031\n",
      "ADCS              -0.00092\n",
      "MNXR94325        999.99969\n",
      "HSDH               0.04514\n",
      "EX_hdca_e          0.00000\n",
      "ACCOAC          1000.00000\n",
      "COBALT2tex         0.00031\n",
      "PLIPA1E180         0.00000\n",
      "GF6PTA            -0.00986\n",
      "NTD4               0.00000\n",
      "GLYAT             -0.02081\n",
      "ADSL1r            -0.02209\n",
      "CDPMEK            -4.36811\n",
      "\n",
      "[685 rows x 1 columns]\n"
     ]
    }
   ],
   "source": [
    "FBA_results_void = xam_void.solution.x_dict\n",
    "fba_void_df = pandas.DataFrame.from_dict(FBA_results_void, orient='index').T.round(5)\n",
    "fba_void_df_t = pandas.DataFrame.transpose(fba_void_df)\n",
    "fba_void_df_t = fba_void_df_t.rename_axis(\"Reaction\")\n",
    "fba_void_df_t = fba_void_df_t.rename_axis({0: \"Flux\"}, axis=\"columns\")\n",
    "print(fba_void_df_t)\n",
    "fba_void_df_t.to_csv(path_or_buf='FBA_Xam_void_Xanth.csv', header=True)"
   ]
  },
  {
   "cell_type": "code",
   "execution_count": 10,
   "metadata": {
    "collapsed": false,
    "scrolled": true
   },
   "outputs": [
    {
     "name": "stdout",
     "output_type": "stream",
     "text": [
      "                      Flux\n",
      "Reaction                  \n",
      "G6PDH2r            0.00000\n",
      "MNXR94198       1000.00000\n",
      "AGGPR             -0.02463\n",
      "MNXR53361          0.00840\n",
      "MNXR94197       1000.00000\n",
      "MNXR94196       1000.00000\n",
      "MNXR94194       1000.00000\n",
      "UAMAGS             0.00247\n",
      "MNXR53363          0.00840\n",
      "CPS               -0.02041\n",
      "XTSNH           1000.00000\n",
      "DDPA              -0.02805\n",
      "MNXR28723          0.00315\n",
      "MNXR28722          0.00315\n",
      "DHPS2              0.00000\n",
      "P5CD               0.01818\n",
      "MNXR4335        1000.00000\n",
      "MNXR27681          0.00840\n",
      "MNXR27680         -0.00840\n",
      "IMDHT_3c2hmp       0.03701\n",
      "P5CR              -0.01818\n",
      "MNXR93748       1000.00000\n",
      "ARGORNt7          10.00000\n",
      "DMPH               0.00000\n",
      "MNXR79548       -999.97616\n",
      "rxn05342_c0        0.00986\n",
      "GLUTRR            -0.00488\n",
      "GLUTRS            -0.00488\n",
      "BCTA_val_h      -997.30612\n",
      "FACOAL180          0.00000\n",
      "KARI_23dhmp        0.03224\n",
      "FOMETRi           -0.02798\n",
      "SHKK              -0.02805\n",
      "CO2t             -17.85395\n",
      "LPLIPAL1A160pp     0.00000\n",
      "KARI_23dhmb    -1000.00000\n",
      "TRE6PS             0.00000\n",
      "MNXR8605       -1000.00000\n",
      "MNXR55989         -0.00247\n",
      "GUDBUTNAH         -9.97537\n",
      "NNDMBRT           -0.00031\n",
      "ACACT1            -0.00840\n",
      "PANTS             -0.00061\n",
      "OCDCAt2            0.00840\n",
      "ECOAH9ir           0.00000\n",
      "PUTA3              0.00000\n",
      "O2t                0.00168\n",
      "MNXR87148          0.00986\n",
      "PPNCL2            -0.00061\n",
      "AMMQT8_2           0.00031\n",
      "...                    ...\n",
      "EDTXS2             0.00247\n",
      "DCTPD2             0.00000\n",
      "OPHBDC            -0.00031\n",
      "FBA             -229.36053\n",
      "MNXR5404           0.00000\n",
      "MNXR94252      -1000.00000\n",
      "GDH             1000.00000\n",
      "CBIAT              0.00031\n",
      "MOAT              -0.00247\n",
      "NTD11            770.42943\n",
      "ACOAD8m           -0.00840\n",
      "CPPPGO            -0.00031\n",
      "UAGDP             -0.00986\n",
      "CYTBD2pp           0.00000\n",
      "ASAD               0.04514\n",
      "MNXR14578        994.48913\n",
      "OHPHM              0.00031\n",
      "KARI               0.03224\n",
      "RZ5PP              0.00031\n",
      "IMDHT             -0.03701\n",
      "MNXR85267       1000.00000\n",
      "MOHMT              0.00061\n",
      "MNXR79601          0.00000\n",
      "UDPGD             -0.78872\n",
      "GCCb               0.00000\n",
      "GGTT              -0.00031\n",
      "EX_cl_e           -0.00031\n",
      "AFAT               0.00031\n",
      "MNXR80501         -0.00420\n",
      "EX_lys__L_e       -0.03061\n",
      "ICH               -0.03854\n",
      "NTD6               0.00000\n",
      "MNXR69346      -1000.00000\n",
      "ADCL               0.00092\n",
      "DGK1               0.00000\n",
      "MNXR85287      -1000.00000\n",
      "DPCOAK            -0.00061\n",
      "EX_mn2_e          -0.00031\n",
      "ADCS              -0.00092\n",
      "MNXR94325        999.99969\n",
      "HSDH               0.04514\n",
      "EX_hdca_e          0.00000\n",
      "ACCOAC          1000.00000\n",
      "COBALT2tex         0.00031\n",
      "PLIPA1E180         0.00000\n",
      "GF6PTA            -0.00986\n",
      "NTD4               0.00000\n",
      "GLYAT             -0.02081\n",
      "ADSL1r            -0.02209\n",
      "CDPMEK            -4.36811\n",
      "\n",
      "[685 rows x 1 columns]\n"
     ]
    }
   ],
   "source": [
    "FBA_results_rpfCGH = xam_rpfCGH.solution.x_dict\n",
    "fba_rpfCGH_df = pandas.DataFrame.from_dict(FBA_results_rpfCGH, orient='index').T.round(5)\n",
    "fba_rpfCGH_df_t = pandas.DataFrame.transpose(fba_rpfCGH_df)\n",
    "fba_rpfCGH_df_t = fba_rpfCGH_df_t.rename_axis(\"Reaction\")\n",
    "fba_rpfCGH_df_t = fba_rpfCGH_df_t.rename_axis({0: \"Flux\"}, axis=\"columns\")\n",
    "print(fba_void_df_t)\n",
    "fba_rpfCGH_df_t.to_csv(path_or_buf='FBA_Xam_rpfCGH_Xanth.csv', header=True)"
   ]
  },
  {
   "cell_type": "code",
   "execution_count": 13,
   "metadata": {
    "collapsed": false,
    "scrolled": true
   },
   "outputs": [
    {
     "name": "stdout",
     "output_type": "stream",
     "text": [
      "                      Flux\n",
      "Reaction                  \n",
      "G6PDH2r            0.00000\n",
      "MNXR94198       1000.00000\n",
      "AGGPR             -0.02463\n",
      "MNXR53361          0.00840\n",
      "MNXR94197       1000.00000\n",
      "MNXR94196       1000.00000\n",
      "MNXR94194       1000.00000\n",
      "UAMAGS             0.00247\n",
      "MNXR53363          0.00840\n",
      "CPS               -0.02041\n",
      "XTSNH           1000.00000\n",
      "DDPA              -0.02805\n",
      "MNXR28723          0.00315\n",
      "MNXR28722          0.00315\n",
      "DHPS2              0.00000\n",
      "P5CD               0.01818\n",
      "MNXR4335        1000.00000\n",
      "MNXR27681          0.00840\n",
      "MNXR27680         -0.00840\n",
      "IMDHT_3c2hmp       0.03701\n",
      "P5CR              -0.01818\n",
      "MNXR93748       1000.00000\n",
      "ARGORNt7          10.00000\n",
      "DMPH               0.00000\n",
      "MNXR79548       -999.97616\n",
      "rxn05342_c0        0.00986\n",
      "GLUTRR            -0.00488\n",
      "GLUTRS            -0.00488\n",
      "BCTA_val_h      -997.30612\n",
      "FACOAL180          0.00000\n",
      "KARI_23dhmp        0.03224\n",
      "FOMETRi           -0.02798\n",
      "SHKK              -0.02805\n",
      "CO2t             -17.85395\n",
      "LPLIPAL1A160pp     0.00000\n",
      "KARI_23dhmb    -1000.00000\n",
      "TRE6PS             0.00000\n",
      "MNXR8605       -1000.00000\n",
      "MNXR55989         -0.00247\n",
      "GUDBUTNAH         -9.97537\n",
      "NNDMBRT           -0.00031\n",
      "ACACT1            -0.00840\n",
      "PANTS             -0.00061\n",
      "OCDCAt2            0.00840\n",
      "ECOAH9ir           0.00000\n",
      "PUTA3              0.00000\n",
      "O2t                0.00168\n",
      "MNXR87148          0.00986\n",
      "PPNCL2            -0.00061\n",
      "AMMQT8_2           0.00031\n",
      "...                    ...\n",
      "EDTXS2             0.00247\n",
      "DCTPD2             0.00000\n",
      "OPHBDC            -0.00031\n",
      "FBA             -229.36053\n",
      "MNXR5404           0.00000\n",
      "MNXR94252      -1000.00000\n",
      "GDH             1000.00000\n",
      "CBIAT              0.00031\n",
      "MOAT              -0.00247\n",
      "NTD11            770.42943\n",
      "ACOAD8m           -0.00840\n",
      "CPPPGO            -0.00031\n",
      "UAGDP             -0.00986\n",
      "CYTBD2pp           0.00000\n",
      "ASAD               0.04514\n",
      "MNXR14578        994.48913\n",
      "OHPHM              0.00031\n",
      "KARI               0.03224\n",
      "RZ5PP              0.00031\n",
      "IMDHT             -0.03701\n",
      "MNXR85267       1000.00000\n",
      "MOHMT              0.00061\n",
      "MNXR79601          0.00000\n",
      "UDPGD             -0.78872\n",
      "GCCb               0.00000\n",
      "GGTT              -0.00031\n",
      "EX_cl_e           -0.00031\n",
      "AFAT               0.00031\n",
      "MNXR80501         -0.00420\n",
      "EX_lys__L_e       -0.03061\n",
      "ICH               -0.03854\n",
      "NTD6               0.00000\n",
      "MNXR69346      -1000.00000\n",
      "ADCL               0.00092\n",
      "DGK1               0.00000\n",
      "MNXR85287      -1000.00000\n",
      "DPCOAK            -0.00061\n",
      "EX_mn2_e          -0.00031\n",
      "ADCS              -0.00092\n",
      "MNXR94325        999.99969\n",
      "HSDH               0.04514\n",
      "EX_hdca_e          0.00000\n",
      "ACCOAC          1000.00000\n",
      "COBALT2tex         0.00031\n",
      "PLIPA1E180         0.00000\n",
      "GF6PTA            -0.00986\n",
      "NTD4               0.00000\n",
      "GLYAT             -0.02081\n",
      "ADSL1r            -0.02209\n",
      "CDPMEK            -4.36811\n",
      "\n",
      "[685 rows x 1 columns]\n"
     ]
    }
   ],
   "source": [
    "FBA_results_rpfCGH_DEGs = xam_rpfCGH_DEGs.solution.x_dict\n",
    "fba_rpfCGH_DEGs_df = pandas.DataFrame.from_dict(FBA_results_rpfCGH_DEGs, orient='index').T.round(5)\n",
    "fba_rpfCGH_DEGs_df_t = pandas.DataFrame.transpose(fba_rpfCGH_DEGs_df)\n",
    "fba_rpfCGH_DEGs_df_t = fba_rpfCGH_DEGs_df_t.rename_axis(\"Reaction\")\n",
    "fba_rpfCGH_DEGs_df_t = fba_rpfCGH_DEGs_df_t.rename_axis({0: \"Flux\"}, axis=\"columns\")\n",
    "print(fba_void_df_t)\n",
    "fba_rpfCGH_DEGs_df_t.to_csv(path_or_buf='FBA_Xam_rpfCGH_DEGs_Xanth.csv', header=True)"
   ]
  }
 ],
 "metadata": {
  "anaconda-cloud": {},
  "kernelspec": {
   "display_name": "Python [conda env:python2]",
   "language": "python",
   "name": "conda-env-python2-py"
  },
  "language_info": {
   "codemirror_mode": {
    "name": "ipython",
    "version": 2
   },
   "file_extension": ".py",
   "mimetype": "text/x-python",
   "name": "python",
   "nbconvert_exporter": "python",
   "pygments_lexer": "ipython2",
   "version": "2.7.12"
  },
  "nbpresent": {
   "slides": {
    "119309f6-cd6f-476d-8ed7-e0e675a60c38": {
     "id": "119309f6-cd6f-476d-8ed7-e0e675a60c38",
     "prev": "4f24e721-cf11-4e3b-b115-f35167ae34a2",
     "regions": {
      "2d74ddc0-9eef-4ad9-8a22-cfb7759ce808": {
       "attrs": {
        "height": 0.8,
        "width": 0.8,
        "x": 0.1,
        "y": 0.1
       },
       "content": {
        "cell": "e0a579e0-a8f3-48a5-ba04-a67c34d92958",
        "part": "whole"
       },
       "id": "2d74ddc0-9eef-4ad9-8a22-cfb7759ce808"
      }
     }
    },
    "1f0d93ec-01b2-4ffb-8abe-3386176fc5cd": {
     "id": "1f0d93ec-01b2-4ffb-8abe-3386176fc5cd",
     "prev": "3339cae2-b882-47dd-b557-ede244d76cf1",
     "regions": {
      "dc718618-d852-49f5-96b7-36bac32c1b89": {
       "attrs": {
        "height": 0.8,
        "width": 0.8,
        "x": 0.1,
        "y": 0.1
       },
       "content": {
        "cell": "210ef375-0724-46ae-b5f7-d5aadc32df11",
        "part": "whole"
       },
       "id": "dc718618-d852-49f5-96b7-36bac32c1b89"
      }
     }
    },
    "26a6df42-71f6-4e37-b682-8e3ab2ef16db": {
     "id": "26a6df42-71f6-4e37-b682-8e3ab2ef16db",
     "prev": "119309f6-cd6f-476d-8ed7-e0e675a60c38",
     "regions": {
      "8eb2843f-de53-4bae-9385-c6c1ad94d8b8": {
       "attrs": {
        "height": 0.8,
        "width": 0.8,
        "x": 0.1,
        "y": 0.1
       },
       "content": {
        "cell": "b88f9111-ba96-4573-b358-ec290ba123db",
        "part": "whole"
       },
       "id": "8eb2843f-de53-4bae-9385-c6c1ad94d8b8"
      }
     }
    },
    "296ab81d-9ede-447b-99f4-239669289a70": {
     "id": "296ab81d-9ede-447b-99f4-239669289a70",
     "prev": "fd276e80-641c-44fa-8ceb-96c9fc2111c4",
     "regions": {
      "89016892-b240-4726-9ec6-9e5fabfed28d": {
       "attrs": {
        "height": 0.8,
        "width": 0.8,
        "x": 0.1,
        "y": 0.1
       },
       "content": {
        "cell": "aea6a92f-03de-4f66-8ee0-1a44672d6dad",
        "part": "whole"
       },
       "id": "89016892-b240-4726-9ec6-9e5fabfed28d"
      }
     }
    },
    "2c35c218-f927-4b63-892b-1d98a09f0a47": {
     "id": "2c35c218-f927-4b63-892b-1d98a09f0a47",
     "prev": "f0a5b65c-42b1-4395-a9a3-8b92d148d5a5",
     "regions": {
      "3a4ae935-2d4d-40c4-a228-e318f47f0cc4": {
       "attrs": {
        "height": 0.8,
        "width": 0.8,
        "x": 0.1,
        "y": 0.1
       },
       "content": {
        "cell": "69f66504-6d49-4d8c-a5a3-ab8f921f4dbf",
        "part": "whole"
       },
       "id": "3a4ae935-2d4d-40c4-a228-e318f47f0cc4"
      }
     }
    },
    "3339cae2-b882-47dd-b557-ede244d76cf1": {
     "id": "3339cae2-b882-47dd-b557-ede244d76cf1",
     "prev": "d93a2e1b-930d-4f81-96ac-0dabd7a6b3be",
     "regions": {
      "0be80782-98b7-4837-985a-ceebe1f31ab8": {
       "attrs": {
        "height": 0.8,
        "width": 0.8,
        "x": 0.1,
        "y": 0.1
       },
       "content": {
        "cell": "45ce90e6-c867-4814-a6a7-6329cb44b38c",
        "part": "whole"
       },
       "id": "0be80782-98b7-4837-985a-ceebe1f31ab8"
      }
     }
    },
    "473c19a5-af0a-4222-b915-39d31cc98024": {
     "id": "473c19a5-af0a-4222-b915-39d31cc98024",
     "prev": "81ab21ea-cc12-4a8d-875a-058afc358892",
     "regions": {
      "fd1a8f14-23e8-4245-97e0-9f85e8cdccc2": {
       "attrs": {
        "height": 0.8,
        "width": 0.8,
        "x": 0.1,
        "y": 0.1
       },
       "content": {
        "cell": "736496c3-d272-43f4-bb80-815c3f55bc01",
        "part": "whole"
       },
       "id": "fd1a8f14-23e8-4245-97e0-9f85e8cdccc2"
      }
     }
    },
    "4aefdb87-52f6-467e-8153-ecb986a1b3bd": {
     "id": "4aefdb87-52f6-467e-8153-ecb986a1b3bd",
     "prev": "7a25e160-8802-4dd0-9e5c-787fa9e1254d",
     "regions": {
      "834d450e-80b9-41cb-b20d-8664b7c35ef6": {
       "attrs": {
        "height": 0.8,
        "width": 0.8,
        "x": 0.1,
        "y": 0.1
       },
       "content": {
        "cell": "62bfbed0-e99c-489c-bee1-1c545b713de0",
        "part": "whole"
       },
       "id": "834d450e-80b9-41cb-b20d-8664b7c35ef6"
      }
     }
    },
    "4f24e721-cf11-4e3b-b115-f35167ae34a2": {
     "id": "4f24e721-cf11-4e3b-b115-f35167ae34a2",
     "prev": "cfb55e8d-3741-4520-a19c-e6e8e168e04c",
     "regions": {
      "573bd6d9-0889-49ff-821b-9fd7f35b7b9a": {
       "attrs": {
        "height": 0.8,
        "width": 0.8,
        "x": 0.1,
        "y": 0.1
       },
       "content": {
        "cell": "ba77a9e9-8b01-44e7-8566-4c938698ba58",
        "part": "whole"
       },
       "id": "573bd6d9-0889-49ff-821b-9fd7f35b7b9a"
      }
     }
    },
    "5f68fab9-9bea-4705-9d54-b207c88c789d": {
     "id": "5f68fab9-9bea-4705-9d54-b207c88c789d",
     "prev": "1f0d93ec-01b2-4ffb-8abe-3386176fc5cd",
     "regions": {
      "59596a12-a94f-47e7-994c-90752c4c865e": {
       "attrs": {
        "height": 0.8,
        "width": 0.8,
        "x": 0.1,
        "y": 0.1
       },
       "content": {
        "cell": "f8516322-89f8-45d5-aaff-c16efa62c6a8",
        "part": "whole"
       },
       "id": "59596a12-a94f-47e7-994c-90752c4c865e"
      }
     }
    },
    "6dbb033b-5093-40ca-8ac5-f6ab580cf58c": {
     "id": "6dbb033b-5093-40ca-8ac5-f6ab580cf58c",
     "prev": "296ab81d-9ede-447b-99f4-239669289a70",
     "regions": {
      "477b03bd-7641-4bc1-a654-f8b4a8683d88": {
       "attrs": {
        "height": 0.8,
        "width": 0.8,
        "x": 0.1,
        "y": 0.1
       },
       "content": {
        "cell": "b7d6bd13-ed7a-43a6-b878-6a84fc5e4934",
        "part": "whole"
       },
       "id": "477b03bd-7641-4bc1-a654-f8b4a8683d88"
      }
     }
    },
    "798ed030-9d8d-48f8-a76d-431db0078628": {
     "id": "798ed030-9d8d-48f8-a76d-431db0078628",
     "prev": "b95488ca-82f5-44c2-a7fa-d4d55b49c12a",
     "regions": {
      "d7e0e304-2d2c-4422-ab9e-c05675862a9c": {
       "attrs": {
        "height": 0.8,
        "width": 0.8,
        "x": 0.1,
        "y": 0.1
       },
       "content": {
        "cell": "74944b1c-2e67-4d31-8c8a-895d6440eb76",
        "part": "whole"
       },
       "id": "d7e0e304-2d2c-4422-ab9e-c05675862a9c"
      }
     }
    },
    "79f8cc4f-4a1c-4ba8-a878-ebb589c64cfd": {
     "id": "79f8cc4f-4a1c-4ba8-a878-ebb589c64cfd",
     "prev": "de1afcbc-2732-4dbc-8f98-dbf2b32e9ee7",
     "regions": {
      "25e8ae73-2f1f-4a23-823b-448d9319836d": {
       "attrs": {
        "height": 0.8,
        "width": 0.8,
        "x": 0.1,
        "y": 0.1
       },
       "content": {
        "cell": "60a77757-d3fc-43dc-9156-af6c9e843585",
        "part": "whole"
       },
       "id": "25e8ae73-2f1f-4a23-823b-448d9319836d"
      }
     }
    },
    "7a25e160-8802-4dd0-9e5c-787fa9e1254d": {
     "id": "7a25e160-8802-4dd0-9e5c-787fa9e1254d",
     "prev": "88b5395c-7cad-4c15-ae3c-6160e9b3c4f9",
     "regions": {
      "efb32268-a6a0-44b3-9810-e97c1f64502b": {
       "attrs": {
        "height": 0.8,
        "width": 0.8,
        "x": 0.1,
        "y": 0.1
       },
       "content": {
        "cell": "6b35d368-3b87-42b6-9fdf-3d0d6a97bbac",
        "part": "whole"
       },
       "id": "efb32268-a6a0-44b3-9810-e97c1f64502b"
      }
     }
    },
    "7b683c5c-242b-436f-8bc2-aabae863af63": {
     "id": "7b683c5c-242b-436f-8bc2-aabae863af63",
     "prev": "5f68fab9-9bea-4705-9d54-b207c88c789d",
     "regions": {
      "f45d084d-125d-48fa-b5ce-d4c9365bf257": {
       "attrs": {
        "height": 0.8,
        "width": 0.8,
        "x": 0.1,
        "y": 0.1
       },
       "content": {
        "cell": "9d26ee0c-053a-4cca-97b0-afdad5780207",
        "part": "whole"
       },
       "id": "f45d084d-125d-48fa-b5ce-d4c9365bf257"
      }
     }
    },
    "81ab21ea-cc12-4a8d-875a-058afc358892": {
     "id": "81ab21ea-cc12-4a8d-875a-058afc358892",
     "prev": null,
     "regions": {
      "789630a2-c92d-411e-a1ac-47e46087ef93": {
       "attrs": {
        "height": 0.8,
        "width": 0.8,
        "x": 0.1183727034120734,
        "y": 0.1093321668124818
       },
       "content": {
        "cell": "fc845f2d-32cd-4d1a-b494-86ca667a869f",
        "part": "whole"
       },
       "id": "789630a2-c92d-411e-a1ac-47e46087ef93"
      }
     }
    },
    "87c97b20-4696-4dd5-83d0-b0f98d993767": {
     "id": "87c97b20-4696-4dd5-83d0-b0f98d993767",
     "prev": "7b683c5c-242b-436f-8bc2-aabae863af63",
     "regions": {
      "857bac9c-0285-478d-b03a-04a01f1b8bbe": {
       "attrs": {
        "height": 0.8,
        "width": 0.8,
        "x": 0.1,
        "y": 0.1
       },
       "content": {
        "cell": "1add68ed-7042-4b00-84b4-7b4110bccbb3",
        "part": "whole"
       },
       "id": "857bac9c-0285-478d-b03a-04a01f1b8bbe"
      }
     }
    },
    "88b5395c-7cad-4c15-ae3c-6160e9b3c4f9": {
     "id": "88b5395c-7cad-4c15-ae3c-6160e9b3c4f9",
     "prev": "87c97b20-4696-4dd5-83d0-b0f98d993767",
     "regions": {
      "9a12123f-c796-4e93-85c4-aa38f711b652": {
       "attrs": {
        "height": 0.8,
        "width": 0.8,
        "x": 0.1,
        "y": 0.1
       },
       "content": {
        "cell": "c2418a0f-1b6f-477a-9483-d02d75d88368",
        "part": "whole"
       },
       "id": "9a12123f-c796-4e93-85c4-aa38f711b652"
      }
     }
    },
    "a9c9af89-4ca1-486e-ab81-fadbc08b0109": {
     "id": "a9c9af89-4ca1-486e-ab81-fadbc08b0109",
     "prev": "79f8cc4f-4a1c-4ba8-a878-ebb589c64cfd",
     "regions": {
      "50038137-5bb0-455c-b165-49f8020fe834": {
       "attrs": {
        "height": 0.8,
        "width": 0.8,
        "x": 0.1,
        "y": 0.1
       },
       "content": {
        "cell": "346c8ec9-460b-45f6-915d-8b778c391dcd",
        "part": "whole"
       },
       "id": "50038137-5bb0-455c-b165-49f8020fe834"
      }
     }
    },
    "b95488ca-82f5-44c2-a7fa-d4d55b49c12a": {
     "id": "b95488ca-82f5-44c2-a7fa-d4d55b49c12a",
     "prev": "f12b0790-304d-4796-8ba4-c9bdd37ee5af",
     "regions": {
      "70d5b23f-3c05-472c-a8c8-7aeb81e3a1c9": {
       "attrs": {
        "height": 0.8,
        "width": 0.8,
        "x": 0.1,
        "y": 0.1
       },
       "content": {
        "cell": "817241a2-c398-4632-a863-a1bd2ef14f84",
        "part": "whole"
       },
       "id": "70d5b23f-3c05-472c-a8c8-7aeb81e3a1c9"
      }
     }
    },
    "cfb55e8d-3741-4520-a19c-e6e8e168e04c": {
     "id": "cfb55e8d-3741-4520-a19c-e6e8e168e04c",
     "prev": "798ed030-9d8d-48f8-a76d-431db0078628",
     "regions": {
      "8a997241-d26a-42cd-a2ca-1e7b32569708": {
       "attrs": {
        "height": 0.8,
        "width": 0.8,
        "x": 0.1,
        "y": 0.1
       },
       "content": {
        "cell": "5db83ade-e88e-4809-8450-ff32bffb9efd",
        "part": "whole"
       },
       "id": "8a997241-d26a-42cd-a2ca-1e7b32569708"
      }
     }
    },
    "d93a2e1b-930d-4f81-96ac-0dabd7a6b3be": {
     "id": "d93a2e1b-930d-4f81-96ac-0dabd7a6b3be",
     "prev": "26a6df42-71f6-4e37-b682-8e3ab2ef16db",
     "regions": {
      "85443726-e5e9-42c1-9ce6-4668197197fd": {
       "attrs": {
        "height": 0.8,
        "width": 0.8,
        "x": 0.1,
        "y": 0.1
       },
       "content": {
        "cell": "32d20010-cb86-4f1f-9bcf-7f3fdee58fd2",
        "part": "whole"
       },
       "id": "85443726-e5e9-42c1-9ce6-4668197197fd"
      }
     }
    },
    "de1afcbc-2732-4dbc-8f98-dbf2b32e9ee7": {
     "id": "de1afcbc-2732-4dbc-8f98-dbf2b32e9ee7",
     "prev": "473c19a5-af0a-4222-b915-39d31cc98024",
     "regions": {
      "f4eec18b-bbc1-4c29-a659-d5d58450a346": {
       "attrs": {
        "height": 0.8,
        "width": 0.8,
        "x": 0.1,
        "y": 0.1
       },
       "content": {
        "cell": "f1433caf-87c4-43d1-9d6b-e2205053a60e",
        "part": "whole"
       },
       "id": "f4eec18b-bbc1-4c29-a659-d5d58450a346"
      }
     }
    },
    "f0a5b65c-42b1-4395-a9a3-8b92d148d5a5": {
     "id": "f0a5b65c-42b1-4395-a9a3-8b92d148d5a5",
     "prev": "a9c9af89-4ca1-486e-ab81-fadbc08b0109",
     "regions": {
      "c6894fc4-9e26-4c7a-9445-955be2bbad7f": {
       "attrs": {
        "height": 0.8,
        "width": 0.8,
        "x": 0.1,
        "y": 0.1
       },
       "content": {
        "cell": "05aba8c4-a2d9-4139-b870-027435f4da5d",
        "part": "whole"
       },
       "id": "c6894fc4-9e26-4c7a-9445-955be2bbad7f"
      }
     }
    },
    "f12b0790-304d-4796-8ba4-c9bdd37ee5af": {
     "id": "f12b0790-304d-4796-8ba4-c9bdd37ee5af",
     "prev": "6dbb033b-5093-40ca-8ac5-f6ab580cf58c",
     "regions": {
      "3e2aeec1-1832-4ea6-8788-35e12aef13d9": {
       "attrs": {
        "height": 0.8,
        "width": 0.8,
        "x": 0.1,
        "y": 0.1
       },
       "content": {
        "cell": "13994332-a0ee-4332-9987-f800ba181fa7",
        "part": "whole"
       },
       "id": "3e2aeec1-1832-4ea6-8788-35e12aef13d9"
      }
     }
    },
    "fd276e80-641c-44fa-8ceb-96c9fc2111c4": {
     "id": "fd276e80-641c-44fa-8ceb-96c9fc2111c4",
     "prev": "2c35c218-f927-4b63-892b-1d98a09f0a47",
     "regions": {
      "07bb5d3d-3cce-42b1-986b-d59c45f99aca": {
       "attrs": {
        "height": 0.8,
        "width": 0.8,
        "x": 0.1,
        "y": 0.1
       },
       "content": {
        "cell": "05b10ec2-40b5-4790-a542-5db4c66a6fbe",
        "part": "whole"
       },
       "id": "07bb5d3d-3cce-42b1-986b-d59c45f99aca"
      }
     }
    }
   },
   "themes": {}
  }
 },
 "nbformat": 4,
 "nbformat_minor": 1
}
