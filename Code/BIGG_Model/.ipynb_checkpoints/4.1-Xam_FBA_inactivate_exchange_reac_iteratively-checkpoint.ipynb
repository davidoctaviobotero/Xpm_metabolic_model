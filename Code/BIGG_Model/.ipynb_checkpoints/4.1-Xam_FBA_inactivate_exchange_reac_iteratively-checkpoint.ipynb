{
 "cells": [
  {
   "cell_type": "code",
   "execution_count": 3,
   "metadata": {
    "collapsed": false
   },
   "outputs": [],
   "source": [
    "import cobra\n",
    "import os\n",
    "from os.path import join\n",
    "from cobra.flux_analysis import calculate_phenotype_phase_plane\n",
    "import pandas\n",
    "pandas.options.display.max_rows = 100\n",
    "\n",
    "data_dir = \"/Users/david/Dropbox (UCSD SBRG)/Xam_Multistrain_Recon/Metabolic_model/BiGG_Model/\"\n",
    "xam_model = cobra.io.read_sbml_model(join(data_dir, \"Xam_BiGG.xml\"))\n",
    "\n",
    "import matplotlib\n",
    "matplotlib.style.use('ggplot')\n",
    "import matplotlib.pyplot as plt\n",
    "%matplotlib inline\n",
    "\n",
    "from IPython.display import set_matplotlib_formats\n",
    "set_matplotlib_formats('png', 'pdf')\n",
    "from time import time"
   ]
  },
  {
   "cell_type": "markdown",
   "metadata": {},
   "source": [
    "### Original model"
   ]
  },
  {
   "cell_type": "code",
   "execution_count": 4,
   "metadata": {
    "collapsed": false
   },
   "outputs": [
    {
     "name": "stdout",
     "output_type": "stream",
     "text": [
      "1553\n",
      "1518\n",
      "879\n"
     ]
    }
   ],
   "source": [
    "print (len(xam_model.reactions))\n",
    "print (len(xam_model.metabolites))\n",
    "print (len(xam_model.genes))"
   ]
  },
  {
   "cell_type": "markdown",
   "metadata": {},
   "source": [
    "### FBA"
   ]
  },
  {
   "cell_type": "code",
   "execution_count": 5,
   "metadata": {
    "collapsed": false
   },
   "outputs": [
    {
     "name": "stdout",
     "output_type": "stream",
     "text": [
      "<Solution 232.67 at 0x10685e490>\n"
     ]
    }
   ],
   "source": [
    "FBA_sol = xam_model.optimize()\n",
    "print (FBA_sol)"
   ]
  },
  {
   "cell_type": "code",
   "execution_count": 6,
   "metadata": {
    "collapsed": false
   },
   "outputs": [
    {
     "data": {
      "text/plain": [
       "'optimal'"
      ]
     },
     "execution_count": 6,
     "metadata": {},
     "output_type": "execute_result"
    }
   ],
   "source": [
    "xam_model.solution.status"
   ]
  },
  {
   "cell_type": "markdown",
   "metadata": {},
   "source": [
    "### Exchange Reactions"
   ]
  },
  {
   "cell_type": "code",
   "execution_count": 7,
   "metadata": {
    "collapsed": false,
    "scrolled": true
   },
   "outputs": [
    {
     "name": "stdout",
     "output_type": "stream",
     "text": [
      "EX_2ddglcn_e;None;2ddglcn_e <=> ;-1000;1000\n",
      "EX_4hbz_e;None;4hbz_e <=> ;-1000;1000\n",
      "EX_acgam_e;None;acgam_e <=> ;-1000;1000\n",
      "EX_adn_e;None;adn_e <=> ;-1000;1000\n",
      "EX_ala__D_e;None;ala__D_e <=> ;-1000;1000\n",
      "EX_arab__L_e;None;arab__L_e <=> ;-1000;1000\n",
      "EX_arbt_e;None;arbt_e <=> ;-1000;1000\n",
      "EX_arg__L_e;None;arg__L_e <=> ;-1000;1000\n",
      "EX_ASPt5n_e;None;asp__L_e <=> ;-1000;1000\n",
      "EX_Biomass_e;None;BIOMASS_c <=> ;-1000;1000\n",
      "EX_ca2_e;None;ca2_e <=> ;-1000;1000\n",
      "EX_cbl1_e;None;cbl1_e <=> ;-1000;1000\n",
      "EX_cd2_e;None;cd2_e <=> ;-1000;1000\n",
      "EX_chol_e;None;chol_e <=> ;-1000;1000\n",
      "EX_cit_e;None;cit_e <=> ;-1000;1000\n",
      "EX_cl_e;None;cl_e <=> ;-1000;1000\n",
      "EX_co2_e;None;co2_e <=> ;-1000;1000\n",
      "EX_cobalt2_e;None;cobalt2_e <=> ;-1000;1000\n",
      "EX_cu2_e;None;cu2_e <=> ;-1000;1000\n",
      "EX_cytd_e;None;cytd_e <=> ;-1000;1000\n",
      "EX_dad_2_e;None;dad_2_e <=> ;-1000;1000\n",
      "EX_dcyt_e;None;dcyt_e <=> ;-1000;1000\n",
      "EX_dgsn_e;None;dgsn_e <=> ;-1000;1000\n",
      "EX_din_e;None;din_e <=> ;-1000;1000\n",
      "EX_duri_e;None;duri_e <=> ;-1000;1000\n",
      "EX_etha_e;None;etha_e <=> ;-1000;1000\n",
      "EX_fe2_e;None;fe2_e <=> ;-1000;1000\n",
      "EX_fe3_e;None;fe3_e <=> ;-1000;1000\n",
      "EX_fru_e;None;fru_e <=> ;-1000;1000\n",
      "EX_fum_e;None;fum_e <=> ;-1000;1000\n",
      "EX_galt_e;None;galt_e <=> ;-1000;1000\n",
      "EX_galur_e;None;galur_e <=> ;-1000;1000\n",
      "EX_gam_e;None;gam_e <=> ;-1000;1000\n",
      "EX_glc__D_e;None;glc__D_e <=> ;-1000;1000\n",
      "EX_glcur_e;None;glcur_e <=> ;-1000;1000\n",
      "EX_glu__L_e;None;glu__L_e <=> ;-1000;1000\n",
      "EX_gly_e;None;gly_e <=> ;-1000;1000\n",
      "EX_glyb_e;None;glyb_e <=> ;-1000;1000\n",
      "EX_glyc_e;None;glyc_e <=> ;-1000;1000\n",
      "EX_glycogen_e;None;glycogen_c <=> ;-1000;1000\n",
      "EX_h_e;None;h_e <=> ;-1000;1000\n",
      "EX_h2o_e;None;h2o_e <=> ;-1000;1000\n",
      "EX_hdca_e;None;hdca_e <=> ;-1000;1000\n",
      "EX_hxan_e;None;hxan_e <=> ;-1000;1000\n",
      "EX_ins_e;None;ins_e <=> ;-1000;1000\n",
      "EX_k_e;None;k_e <=> ;-1000;1000\n",
      "EX_lys__L_e;None;lys__L_e <=> ;-1000;1000\n",
      "EX_mal__L_e;None;mal__L_e <=> ;-1000;1000\n",
      "EX_malt_e;None;malt_e <=> ;-1000;1000\n",
      "EX_man_e;None;man_e <=> ;-1000;1000\n",
      "EX_met__D_e;None;met__D_e <=> ;-1000;1000\n",
      "EX_met__L_e;None;met__L_e <=> ;-1000;1000\n",
      "EX_metox__R_e;None;metox__R_e <=> ;-1000;1000\n",
      "EX_metsox_S__L_e;None;metsox_S__L_e <=> ;-1000;1000\n",
      "EX_mg2_e;None;mg2_e <=> ;-1000;1000\n",
      "EX_mn2_e;None;mn2_e <=> ;-1000;1000\n",
      "EX_mqn7_e;None;mqn7_e <=> ;-1000;1000\n",
      "EX_na1_e;None;na1_e <=> ;-1000;1000\n",
      "EX_nh4_e;None;nh4_e <=> ;-1000;1000\n",
      "EX_nmn_e;None;nmn_e <=> ;-1000;1000\n",
      "EX_no2_e;None;no2_e <=> ;-1000;1000\n",
      "EX_no3_e;None;no3_e <=> ;-1000;1000\n",
      "EX_o2_e;None;o2_e <=> ;-1000;1000\n",
      "EX_ocdca_e;None;ocdca_e <=> ;-1000;1000\n",
      "EX_orn_e;None;orn_e <=> ;-1000;1000\n",
      "EX_pi_e;None;pi_e <=> ;-1000;1000\n",
      "EX_ppi_e;None;ppi_e <=> ;-1000;1000\n",
      "EX_pro__L_e;None;pro__L_e <=> ;-1000;1000\n",
      "EX_ptrc_e;None;ptrc_e <=> ;-1000;1000\n",
      "EX_q8_e;None;q8_e <=> ;-1000;1000\n",
      "EX_q8h2_e;None;q8h2_e <=> ;-1000;1000\n",
      "EX_protein_e;None;protein_c <=> ;-1000;1000\n",
      "EX_DNA_e;None;dna_c <=> ;-1000;1000\n",
      "EX_rna_c0;None;rna_c <=> ;-1000;1000\n",
      "EX_salcn_e;None;salcn_e <=> ;-1000;1000\n",
      "EX_sbt__D_e;None;sbt__D_e <=> ;-1000;1000\n",
      "EX_ser__D_e;None;ser__D_e <=> ;-1000;1000\n",
      "EX_ser__L_e;None;ser__L_e <=> ;-1000;1000\n",
      "EX_so4_e;None;so4_e <=> ;-1000;1000\n",
      "EX_spmd_e;None;spmd_e <=> ;-1000;1000\n",
      "EX_succ_e;None;succ_e <=> ;-1000;1000\n",
      "EX_sucr_e;None;sucr_e <=> ;-1000;1000\n",
      "EX_taur_e;None;taur_e <=> ;-1000;1000\n",
      "EX_thmmp_e;None;thmmp_e <=> ;-1000;1000\n",
      "EX_thymd_e;None;thymd_e <=> ;-1000;1000\n",
      "EX_tre_e;None;tre_e <=> ;-1000;1000\n",
      "EX_trp__L_e;None;trp__L_e <=> ;-1000;1000\n",
      "EX_tsul_e;None;tsul_e <=> ;-1000;1000\n",
      "EX_ttdca_e;None;ttdca_e <=> ;-1000;1000\n",
      "EX_uri_e;None;uri_e <=> ;-1000;1000\n",
      "EX_xyl__D_e;None;xyl__D_e <=> ;-1000;1000\n",
      "EX_zn2_e;None;zn2_e <=> ;-1000;1000\n",
      "EX_akg_e;None;akg_e <=> ;-1000;1000\n",
      "EX_gln__L_e;None;gln__L_e <=> ;-1000;1000\n",
      "EX_ac_e;None;ac_e <=> ;-1000;1000\n",
      "EX_etoh_e;None;etoh_e <=> ;-1000;1000\n",
      "EX_pyr_e;None;pyr_e <=> ;-1000;1000\n",
      "EX_for_e;None;for_e <=> ;-1000;1000\n",
      "EX_acald_e;None;acald_e <=> ;-1000;1000\n"
     ]
    }
   ],
   "source": [
    "for i in [i.id for i in xam_model.reactions if len(i.metabolites) == 1]:\n",
    "    reaction = xam_model.reactions.get_by_id(i)\n",
    "    print('%s;%s;%s;%i;%i' % (reaction.id, reaction.name, reaction.reaction, reaction.lower_bound, reaction.upper_bound))"
   ]
  },
  {
   "cell_type": "markdown",
   "metadata": {},
   "source": [
    "### Write down all exchange reactions"
   ]
  },
  {
   "cell_type": "code",
   "execution_count": 13,
   "metadata": {
    "collapsed": false,
    "scrolled": true
   },
   "outputs": [],
   "source": [
    "f1=open('./Exchange_reactions_Xam.txt', 'w+')\n",
    "reactions = 0\n",
    "\n",
    "for reaction in xam_model.reactions:\n",
    "    if len(reaction.metabolites) == 1:\n",
    "        react = reaction.name\n",
    "        f1.write(react)\n",
    "        f1.write('\\n')"
   ]
  },
  {
   "cell_type": "markdown",
   "metadata": {},
   "source": [
    "### Inactivate Each Exchange Reactions and Perform a FBA"
   ]
  },
  {
   "cell_type": "code",
   "execution_count": null,
   "metadata": {
    "collapsed": false,
    "scrolled": true
   },
   "outputs": [],
   "source": [
    "FBA_Ex = {}\n",
    "for i in [i.id for i in xam_model.reactions if len(i.metabolites) == 1]:\n",
    "    reaction = xam_model.reactions.get_by_id(i)\n",
    "    lower = reaction.lower_bound\n",
    "    reaction.lower_bound = 0\n",
    "    FBA_sol = xam_model.optimize()\n",
    "    FBA_Ex[reaction.name] = FBA_sol.f\n",
    "    print('%s;%s;%s;%i;%i' % (reaction.id, reaction.name, reaction.reaction, reaction.lower_bound, reaction.upper_bound))\n",
    "    reaction.lower_bound = lower"
   ]
  },
  {
   "cell_type": "code",
   "execution_count": 16,
   "metadata": {
    "collapsed": false,
    "scrolled": true
   },
   "outputs": [
    {
     "name": "stdout",
     "output_type": "stream",
     "text": [
      "                                        Flux\n",
      "Reaction                                    \n",
      "EX_H2O_e0                          180.49341\n",
      "EX_Fe2_e0                          180.49341\n",
      "EX_2_keto_3_deoxygluconate_e0      180.49341\n",
      "DNA_replication_c0                 180.49341\n",
      "EX_Ursin_e0                        180.49341\n",
      "EX_BET_e0                          180.49341\n",
      "EX_Nitrate_e0                      180.49341\n",
      "EX_L_methionine_R_oxide_e0         180.49341\n",
      "EX_D_Serine_e0                     180.49341\n",
      "EX_Thymidine_e0                    180.49341\n",
      "EX_Deoxycytidine_e0                180.49341\n",
      "EX_Nicotinamide_ribonucleotide_e0    0.00000\n",
      "EX_Fumarate_e0                     180.49341\n",
      "EX_L_Aspartate_e0                  180.49341\n",
      "EX_D_Alanine_e0                    180.49341\n",
      "EX_Sucrose_e0                      180.49341\n",
      "EX_L_Methionine_S_oxide_e0         180.49341\n",
      "EX_Menaquinone_7_e0                  0.00000\n",
      "EX_L_Malate_e0                     180.49341\n",
      "Protein_biosynthesis_c0            180.49341\n",
      "EX_H_e0                            180.49341\n",
      "EX_N_Acetyl_D_glucosamine_e0       180.49341\n",
      "EX_Glucuronate_e0                  180.49341\n",
      "EX_K_e0                              0.00000\n",
      "EX_Sulfate_e0                       -0.00000\n",
      "EX_Deoxyuridine_e0                 180.49341\n",
      "EX_Aminoethanol_e0                 180.49341\n",
      "EX_Citrate_e0                      180.49341\n",
      "EX_Cl__e0                            0.00000\n",
      "EX_Glycine_e0                      180.49341\n",
      "EX_L_Glutamate_e0                  180.49341\n",
      "EX_Nitrite_e0                      180.49341\n",
      "EX_4_Hydroxybenzoate_e0              0.00000\n",
      "EX_Sorbitol_e0                     180.49341\n",
      "EX_PPi_e0                          180.49341\n",
      "EX_L_Arabinose_e0                  180.49341\n",
      "EX_Inosine_e0                      180.49341\n",
      "EX_Cytidine_e0                     158.27108\n",
      "EX_L_Tryptophan_e0                   0.00000\n",
      "EX_L_Methionine_e0                 180.49341\n",
      "EX_Deoxyinosine_e0                 180.49341\n",
      "EX_Co2_e0                            0.00000\n",
      "EX_L_Lysine_e0                       0.00000\n",
      "EX_L_Arginine_e0                     0.00000\n",
      "EX_O2_e0                           180.49341\n",
      "EX_Biomass_c0                      180.49341\n",
      "EX_D_Galacturonate_e0              180.49341\n",
      "EX_Thiamine_phosphate_e0            -0.00000\n",
      "EX_Mn2_e0                           -0.00000\n",
      "EX_Choline_e0                      180.49341\n",
      "EX_Na_e0                           180.49341\n",
      "EX_TRHL_e0                         180.49341\n",
      "EX_HYXN_e0                         180.49341\n",
      "RNA_transcription_c0               180.49341\n",
      "EX_D_Glucose_e0                    180.49341\n",
      "EX_GLUM_e0                         180.49341\n",
      "EX_D_Mannitol_e0                   180.49341\n",
      "EX_glycogenn_1_c0                  180.49341\n",
      "EX_L_Proline_e0                    180.49341\n",
      "EX_Putrescine_e0                   180.49341\n",
      "EX_Salicin_e0                      180.49341\n",
      "EX_CO2_e0                          180.49341\n",
      "EX_Uridine_e0                      180.49341\n",
      "EX_Palmitate_e0                    180.49341\n",
      "EX_Adenosine_e0                    179.58566\n",
      "EX_Maltose_e0                      180.49341\n",
      "EX_L_Serine_e0                     180.49341\n",
      "EX_Ca2_e0                            0.00000\n",
      "EX_Myristic_acid_e0                 -0.00000\n",
      "EX_H2S2O3_e0                       180.31962\n",
      "EX_Deoxyadenosine_e0               180.49341\n",
      "EX_Deoxyguanosine_e0               180.49341\n",
      "EX_NH3_e0                          180.49341\n",
      "EX_Cbl_e0                          180.49341\n",
      "EX_fe3_e0                          180.49341\n",
      "EX_Glycerol_e0                     180.49341\n",
      "EX_D_Methionine_e0                 180.49341\n",
      "EX_Cu2_e0                            0.00000\n",
      "EX_Mg_e0                            -0.00000\n",
      "EX_Phosphate_e0                     -0.00000\n",
      "EX_Xylose_e0                       180.49341\n",
      "EX_Taurine_e0                      180.49341\n",
      "EX_ocdca_e0                          0.00000\n",
      "EX_Ubiquinone_8_e0                 180.49341\n",
      "EX_D_Mannose_e0                    180.49341\n",
      "EX_Dulcose_e0                      180.49341\n",
      "EX_Succinate_e0                    180.49341\n",
      "EX_Ornithine_e0                    180.49341\n",
      "EX_Ubiquinol_8_e0                  180.49341\n",
      "EX_Zn2_e0                            0.00000\n",
      "EX_Spermidine_e0                     0.00000\n",
      "EX_Cd2_e0                          180.49341\n",
      "EX_D_Fructose_e0                   180.49341\n"
     ]
    }
   ],
   "source": [
    "fbaex_df = pandas.DataFrame.from_dict(FBA_Ex, orient='index').T.round(5)\n",
    "fbaex_df_t = pandas.DataFrame.transpose(fbaex_df)\n",
    "fbaex_df_t = fbaex_df_t.rename_axis(\"Reaction\")\n",
    "fbaex_df_t = fbaex_df_t.rename_axis({0: \"Flux\"}, axis=\"columns\")\n",
    "print(fbaex_df_t)"
   ]
  },
  {
   "cell_type": "code",
   "execution_count": 17,
   "metadata": {
    "collapsed": false
   },
   "outputs": [
    {
     "data": {
      "application/pdf": "[encoded data removed]",
      "image/png": "[encoded data removed]",
      "text/plain": [
       "<matplotlib.figure.Figure at 0x11d346150>"
      ]
     },
     "metadata": {},
     "output_type": "display_data"
    }
   ],
   "source": [
    "fbaex_df_t_sort = fbaex_df_t.sort_values(by=\"Flux\")\n",
    "fbaex_df_t_sort.plot.bar()\n",
    "plt.tick_params(labeltop=False, labelbottom=False, bottom=False, top=False, labelright=True)"
   ]
  }
 ],
 "metadata": {
  "anaconda-cloud": {},
  "kernelspec": {
   "display_name": "Python [conda env:python2]",
   "language": "python",
   "name": "conda-env-python2-py"
  },
  "language_info": {
   "codemirror_mode": {
    "name": "ipython",
    "version": 2
   },
   "file_extension": ".py",
   "mimetype": "text/x-python",
   "name": "python",
   "nbconvert_exporter": "python",
   "pygments_lexer": "ipython2",
   "version": "2.7.12"
  }
 },
 "nbformat": 4,
 "nbformat_minor": 1
}
