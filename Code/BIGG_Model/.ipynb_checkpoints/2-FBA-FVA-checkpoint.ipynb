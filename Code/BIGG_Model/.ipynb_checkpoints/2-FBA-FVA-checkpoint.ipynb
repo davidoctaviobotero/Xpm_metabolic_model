{
 "cells": [
  {
   "cell_type": "markdown",
   "metadata": {
    "nbpresent": {
     "id": "fc845f2d-32cd-4d1a-b494-86ca667a869f"
    }
   },
   "source": [
    "# FBA"
   ]
  },
  {
   "cell_type": "code",
   "execution_count": 2,
   "metadata": {
    "collapsed": false,
    "nbpresent": {
     "id": "736496c3-d272-43f4-bb80-815c3f55bc01"
    }
   },
   "outputs": [
    {
     "ename": "IOError",
     "evalue": "Error reading file '/Users/davidbotero/Dropbox (UCSD SBRG)/Xam_Multistrain_Recon/Metabolic_model/BiGG_Model/Xam_BiGG_draft.xml': failed to load external entity \"/Users/davidbotero/Dropbox (UCSD SBRG)/Xam_Multistrain_Recon/Metabolic_model/BiGG_Model/Xam_BiGG_draft.xml\"",
     "output_type": "error",
     "traceback": [
      "\u001b[0;31m---------------------------------------------------------------------------\u001b[0m",
      "\u001b[0;31mIOError\u001b[0m                                   Traceback (most recent call last)",
      "\u001b[0;32m<ipython-input-2-71b1ade13c83>\u001b[0m in \u001b[0;36m<module>\u001b[0;34m()\u001b[0m\n\u001b[1;32m      7\u001b[0m \u001b[0;34m\u001b[0m\u001b[0m\n\u001b[1;32m      8\u001b[0m \u001b[0mdata_dir\u001b[0m \u001b[0;34m=\u001b[0m \u001b[0;34m\"/Users/davidbotero/Dropbox (UCSD SBRG)/Xam_Multistrain_Recon/Metabolic_model/BiGG_Model/\"\u001b[0m\u001b[0;34m\u001b[0m\u001b[0m\n\u001b[0;32m----> 9\u001b[0;31m \u001b[0mxam_model\u001b[0m \u001b[0;34m=\u001b[0m \u001b[0mcobra\u001b[0m\u001b[0;34m.\u001b[0m\u001b[0mio\u001b[0m\u001b[0;34m.\u001b[0m\u001b[0mread_sbml_model\u001b[0m\u001b[0;34m(\u001b[0m\u001b[0mjoin\u001b[0m\u001b[0;34m(\u001b[0m\u001b[0mdata_dir\u001b[0m\u001b[0;34m,\u001b[0m \u001b[0;34m\"Xam_BiGG_draft.xml\"\u001b[0m\u001b[0;34m)\u001b[0m\u001b[0;34m)\u001b[0m\u001b[0;34m\u001b[0m\u001b[0m\n\u001b[0m\u001b[1;32m     10\u001b[0m \u001b[0;34m\u001b[0m\u001b[0m\n\u001b[1;32m     11\u001b[0m \u001b[0mget_ipython\u001b[0m\u001b[0;34m(\u001b[0m\u001b[0;34m)\u001b[0m\u001b[0;34m.\u001b[0m\u001b[0mmagic\u001b[0m\u001b[0;34m(\u001b[0m\u001b[0;34mu'matplotlib inline'\u001b[0m\u001b[0;34m)\u001b[0m\u001b[0;34m\u001b[0m\u001b[0m\n",
      "\u001b[0;32m/Users/david/anaconda/envs/python2/lib/python2.7/site-packages/cobra/io/sbml3.pyc\u001b[0m in \u001b[0;36mread_sbml_model\u001b[0;34m(filename, number, **kwargs)\u001b[0m\n\u001b[1;32m    535\u001b[0m \u001b[0;34m\u001b[0m\u001b[0m\n\u001b[1;32m    536\u001b[0m \u001b[0;32mdef\u001b[0m \u001b[0mread_sbml_model\u001b[0m\u001b[0;34m(\u001b[0m\u001b[0mfilename\u001b[0m\u001b[0;34m,\u001b[0m \u001b[0mnumber\u001b[0m\u001b[0;34m=\u001b[0m\u001b[0mfloat\u001b[0m\u001b[0;34m,\u001b[0m \u001b[0;34m**\u001b[0m\u001b[0mkwargs\u001b[0m\u001b[0;34m)\u001b[0m\u001b[0;34m:\u001b[0m\u001b[0;34m\u001b[0m\u001b[0m\n\u001b[0;32m--> 537\u001b[0;31m     \u001b[0mxmlfile\u001b[0m \u001b[0;34m=\u001b[0m \u001b[0mparse_stream\u001b[0m\u001b[0;34m(\u001b[0m\u001b[0mfilename\u001b[0m\u001b[0;34m)\u001b[0m\u001b[0;34m\u001b[0m\u001b[0m\n\u001b[0m\u001b[1;32m    538\u001b[0m     \u001b[0mxml\u001b[0m \u001b[0;34m=\u001b[0m \u001b[0mxmlfile\u001b[0m\u001b[0;34m.\u001b[0m\u001b[0mgetroot\u001b[0m\u001b[0;34m(\u001b[0m\u001b[0;34m)\u001b[0m\u001b[0;34m\u001b[0m\u001b[0m\n\u001b[1;32m    539\u001b[0m     \u001b[0;31m# use libsbml if not l3v1 with fbc v2\u001b[0m\u001b[0;34m\u001b[0m\u001b[0;34m\u001b[0m\u001b[0m\n",
      "\u001b[0;32m/Users/david/anaconda/envs/python2/lib/python2.7/site-packages/cobra/io/sbml3.pyc\u001b[0m in \u001b[0;36mparse_stream\u001b[0;34m(filename)\u001b[0m\n\u001b[1;32m    137\u001b[0m                 \u001b[0;32mreturn\u001b[0m \u001b[0mparse\u001b[0m\u001b[0;34m(\u001b[0m\u001b[0minfile\u001b[0m\u001b[0;34m)\u001b[0m\u001b[0;34m\u001b[0m\u001b[0m\n\u001b[1;32m    138\u001b[0m         \u001b[0;32melse\u001b[0m\u001b[0;34m:\u001b[0m\u001b[0;34m\u001b[0m\u001b[0m\n\u001b[0;32m--> 139\u001b[0;31m             \u001b[0;32mreturn\u001b[0m \u001b[0mparse\u001b[0m\u001b[0;34m(\u001b[0m\u001b[0mfilename\u001b[0m\u001b[0;34m)\u001b[0m\u001b[0;34m\u001b[0m\u001b[0m\n\u001b[0m\u001b[1;32m    140\u001b[0m     \u001b[0;32mexcept\u001b[0m \u001b[0mParseError\u001b[0m \u001b[0;32mas\u001b[0m \u001b[0me\u001b[0m\u001b[0;34m:\u001b[0m\u001b[0;34m\u001b[0m\u001b[0m\n\u001b[1;32m    141\u001b[0m         \u001b[0;32mraise\u001b[0m \u001b[0mCobraSBMLError\u001b[0m\u001b[0;34m(\u001b[0m\u001b[0;34m\"Malformed XML file: \"\u001b[0m \u001b[0;34m+\u001b[0m \u001b[0mstr\u001b[0m\u001b[0;34m(\u001b[0m\u001b[0me\u001b[0m\u001b[0;34m)\u001b[0m\u001b[0;34m)\u001b[0m\u001b[0;34m\u001b[0m\u001b[0m\n",
      "\u001b[0;32msrc/lxml/lxml.etree.pyx\u001b[0m in \u001b[0;36mlxml.etree.parse (src/lxml/lxml.etree.c:79841)\u001b[0;34m()\u001b[0m\n",
      "\u001b[0;32msrc/lxml/parser.pxi\u001b[0m in \u001b[0;36mlxml.etree._parseDocument (src/lxml/lxml.etree.c:116175)\u001b[0;34m()\u001b[0m\n",
      "\u001b[0;32msrc/lxml/parser.pxi\u001b[0m in \u001b[0;36mlxml.etree._parseDocumentFromURL (src/lxml/lxml.etree.c:116525)\u001b[0;34m()\u001b[0m\n",
      "\u001b[0;32msrc/lxml/parser.pxi\u001b[0m in \u001b[0;36mlxml.etree._parseDocFromFile (src/lxml/lxml.etree.c:115413)\u001b[0;34m()\u001b[0m\n",
      "\u001b[0;32msrc/lxml/parser.pxi\u001b[0m in \u001b[0;36mlxml.etree._BaseParser._parseDocFromFile (src/lxml/lxml.etree.c:110110)\u001b[0;34m()\u001b[0m\n",
      "\u001b[0;32msrc/lxml/parser.pxi\u001b[0m in \u001b[0;36mlxml.etree._ParserContext._handleParseResultDoc (src/lxml/lxml.etree.c:103584)\u001b[0;34m()\u001b[0m\n",
      "\u001b[0;32msrc/lxml/parser.pxi\u001b[0m in \u001b[0;36mlxml.etree._handleParseResult (src/lxml/lxml.etree.c:105238)\u001b[0;34m()\u001b[0m\n",
      "\u001b[0;32msrc/lxml/parser.pxi\u001b[0m in \u001b[0;36mlxml.etree._raiseParseError (src/lxml/lxml.etree.c:104104)\u001b[0;34m()\u001b[0m\n",
      "\u001b[0;31mIOError\u001b[0m: Error reading file '/Users/davidbotero/Dropbox (UCSD SBRG)/Xam_Multistrain_Recon/Metabolic_model/BiGG_Model/Xam_BiGG_draft.xml': failed to load external entity \"/Users/davidbotero/Dropbox (UCSD SBRG)/Xam_Multistrain_Recon/Metabolic_model/BiGG_Model/Xam_BiGG_draft.xml\""
     ]
    }
   ],
   "source": [
    "import os\n",
    "from os.path import join\n",
    "import pandas\n",
    "pandas.options.display.max_rows = 100\n",
    "\n",
    "import cobra\n",
    "\n",
    "data_dir = \"/Users/davidbotero/Dropbox (UCSD SBRG)/Xam_Multistrain_Recon/Metabolic_model/BiGG_Model/\"\n",
    "xam_model = cobra.io.read_sbml_model(join(data_dir, \"Xam_BiGG_draft.xml\"))\n",
    "\n",
    "%matplotlib inline\n",
    "import matplotlib\n",
    "matplotlib.style.use('ggplot')\n",
    "import matplotlib.pyplot as plt"
   ]
  },
  {
   "cell_type": "code",
   "execution_count": 2,
   "metadata": {
    "collapsed": false,
    "nbpresent": {
     "id": "f1433caf-87c4-43d1-9d6b-e2205053a60e"
    }
   },
   "outputs": [
    {
     "name": "stdout",
     "output_type": "stream",
     "text": [
      "<Solution 360.99 at 0x1061c8f50>\n"
     ]
    }
   ],
   "source": [
    "FBA_sol = xam_model.optimize()\n",
    "print (FBA_sol)"
   ]
  },
  {
   "cell_type": "code",
   "execution_count": 3,
   "metadata": {
    "collapsed": false,
    "nbpresent": {
     "id": "60a77757-d3fc-43dc-9156-af6c9e843585"
    }
   },
   "outputs": [
    {
     "data": {
      "text/plain": [
       "'optimal'"
      ]
     },
     "execution_count": 3,
     "metadata": {},
     "output_type": "execute_result"
    }
   ],
   "source": [
    "xam_model.solution.status"
   ]
  },
  {
   "cell_type": "code",
   "execution_count": 4,
   "metadata": {
    "collapsed": false,
    "nbpresent": {
     "id": "346c8ec9-460b-45f6-915d-8b778c391dcd"
    }
   },
   "outputs": [
    {
     "data": {
      "text/plain": [
       "360.9868122258474"
      ]
     },
     "execution_count": 4,
     "metadata": {},
     "output_type": "execute_result"
    }
   ],
   "source": [
    "xam_model.solution.f"
   ]
  },
  {
   "cell_type": "code",
   "execution_count": 6,
   "metadata": {
    "collapsed": false,
    "nbpresent": {
     "id": "05aba8c4-a2d9-4139-b870-027435f4da5d"
    },
    "scrolled": true
   },
   "outputs": [
    {
     "name": "stdout",
     "output_type": "stream",
     "text": [
      "                 Flux\n",
      "Reaction             \n",
      "RA41ED82C    15.37521\n",
      "R32A608F3     0.00000\n",
      "RA05CF985 -1000.00000\n",
      "R42DAEBF3  1000.00000\n",
      "R2BBCB8A6     0.00000\n",
      "R7B8A1023 -1000.00000\n",
      "RD0C00BAA     0.00000\n",
      "RA1066942     0.00000\n",
      "R7183DBB      0.00000\n",
      "R1F2ADD4D  1000.00000\n",
      "R71275A54    15.37521\n",
      "R4CDDEACC    -0.00000\n",
      "RA24BEBFC     0.55889\n",
      "R6D92F1B0     0.00000\n",
      "R6037EAE3     0.00000\n",
      "RD7523EED     0.00000\n",
      "R3662C7FC   267.93812\n",
      "RC980C33B -1000.00000\n",
      "RF1E22A2C     0.55889\n",
      "R6D75BD5     -0.00000\n",
      "R260D4132  1000.00000\n",
      "R2E7E8AF4    -7.68761\n",
      "RA7D59D67  -506.64950\n",
      "RA4E15B3C     0.00000\n",
      "RC134113F   258.90963\n",
      "R46C2C51E   -67.75521\n",
      "R1DB58FAD    15.37521\n",
      "R68EEB334 -1000.00000\n",
      "RD7CCF239     0.00000\n",
      "R2248E321  1000.00000\n",
      "R22D94E64     1.11778\n",
      "R6FA3183     15.37521\n",
      "RDFEE6C9D    -7.71031\n",
      "RF283DBBF     0.55889\n",
      "RD58ED0A3     0.00000\n",
      "RAB1B3C2A     0.00000\n",
      "R33B57111   -23.62621\n",
      "R55CA7A11  -913.91450\n",
      "RE84B7440     0.00000\n",
      "R6F462122   879.44816\n",
      "R9C217B13     0.00000\n",
      "R96A43781     0.00000\n",
      "R1F46F5C3     0.00000\n",
      "R86E22167  1000.00000\n",
      "RA1805785     0.00000\n",
      "RA8F9802D     0.00000\n",
      "RE420ACFB     0.00000\n",
      "R1D4F4F2     -8.94227\n",
      "R1902D8E2     0.00000\n",
      "R47C5746     18.05699\n",
      "...               ...\n",
      "R88899901     0.00000\n",
      "R6746D1B1     0.00000\n",
      "RBBC1C40B     0.00000\n",
      "R8796A875     0.00000\n",
      "RA307F3C0  -811.92504\n",
      "R5949CE63     0.00000\n",
      "R3C5F173B     0.00000\n",
      "R1CAEBB71 -1000.00000\n",
      "R9FC8F39B     0.00000\n",
      "R173C6447     0.00000\n",
      "R7F0E3AF7    21.78133\n",
      "RDBF11E56     0.00000\n",
      "REAC39324     0.00000\n",
      "RC97DBB18  1000.00000\n",
      "R5E0D38AD   185.96378\n",
      "R45D8B2C6 -1000.00000\n",
      "R1D23990A     0.00000\n",
      "R39093E68     0.00000\n",
      "RBB61F660 -1000.00000\n",
      "R6922C0AF -1000.00000\n",
      "R802C2BCE    -4.51425\n",
      "RCE54D19E     0.00000\n",
      "RFF91B74F     0.00000\n",
      "R5DBE220A    27.08549\n",
      "R661E3BB4     0.55889\n",
      "R45E49357     0.00000\n",
      "R20F94385     0.00000\n",
      "R7502CA9   1000.00000\n",
      "R5715EB7D     0.00000\n",
      "R80454558     0.00000\n",
      "RF1E7D975    15.37521\n",
      "RA4A844AA     0.00000\n",
      "R7982EFB9     0.00000\n",
      "R95E42B97    14.30656\n",
      "R82118B20     0.00000\n",
      "R85054AF9     4.51425\n",
      "R65061C5     15.37521\n",
      "R585D4905     0.27945\n",
      "REAA9DA9      4.51425\n",
      "R2458B139     0.00000\n",
      "R80AA59C8     7.71031\n",
      "RDBDAEC09     0.00000\n",
      "RD9477CE4 -1000.00000\n",
      "R655C6418     0.00000\n",
      "R8927361F   -15.81957\n",
      "R5EC42F7F   601.01688\n",
      "RE532804F     0.00000\n",
      "R2FBEFD7C     0.00000\n",
      "RF6A07521     0.00000\n",
      "R50CE11D3     0.00000\n",
      "\n",
      "[1542 rows x 1 columns]\n"
     ]
    }
   ],
   "source": [
    "FBA_results = xam_model.solution.x_dict\n",
    "fba_df = pandas.DataFrame.from_dict(FBA_results, orient='index').T.round(5)\n",
    "fba_df_t = pandas.DataFrame.transpose(fba_df)\n",
    "fba_df_t = fba_df_t.rename_axis(\"Reaction\")\n",
    "fba_df_t = fba_df_t.rename_axis({0: \"Flux\"}, axis=\"columns\")\n",
    "print(fba_df_t)"
   ]
  },
  {
   "cell_type": "code",
   "execution_count": 7,
   "metadata": {
    "collapsed": false,
    "nbpresent": {
     "id": "69f66504-6d49-4d8c-a5a3-ab8f921f4dbf"
    }
   },
   "outputs": [
    {
     "data": {
      "text/plain": [
       "<matplotlib.figure.Figure at 0x12196cad0>"
      ]
     },
     "metadata": {},
     "output_type": "display_data"
    },
    {
     "data": {
      "image/png": "[encoded data removed]",
      "text/plain": [
       "<matplotlib.figure.Figure at 0x12195fa10>"
      ]
     },
     "metadata": {},
     "output_type": "display_data"
    },
    {
     "data": {
      "image/png": "[encoded data removed]",
      "text/plain": [
       "<matplotlib.figure.Figure at 0x118cc9b90>"
      ]
     },
     "metadata": {},
     "output_type": "display_data"
    },
    {
     "data": {
      "image/png": "[encoded data removed]",
      "text/plain": [
       "<matplotlib.figure.Figure at 0x121246310>"
      ]
     },
     "metadata": {},
     "output_type": "display_data"
    }
   ],
   "source": [
    "fba_df_sort = fba_df_t.sort_values(by=\"Flux\")\n",
    "plt.figure()\n",
    "fba_df_sort.plot.box()\n",
    "plt.savefig('FBA_Xam_box.svg', format='svg', dpi=1200)\n",
    "plt.savefig('FBA_Xam_box.png', format='png', dpi=1200)\n",
    "fba_df_sort.plot.line()\n",
    "plt.savefig('FBA_Xam.svg', format='svg', dpi=1200)\n",
    "plt.savefig('FBA_Xam.png', format='png', dpi=1200)\n",
    "fba_df_sort.plot.hist()\n",
    "plt.savefig('FBA_Xam_hist.svg', format='svg', dpi=1200)\n",
    "plt.savefig('FBA_Xam_hist.png', format='png', dpi=1200)"
   ]
  },
  {
   "cell_type": "markdown",
   "metadata": {
    "nbpresent": {
     "id": "05b10ec2-40b5-4790-a542-5db4c66a6fbe"
    }
   },
   "source": [
    "###  Overall redox balance"
   ]
  },
  {
   "cell_type": "code",
   "execution_count": 31,
   "metadata": {
    "collapsed": false,
    "nbpresent": {
     "id": "aea6a92f-03de-4f66-8ee0-1a44672d6dad"
    },
    "scrolled": true
   },
   "outputs": [
    {
     "name": "stdout",
     "output_type": "stream",
     "text": [
      "PRODUCING REACTIONS -- NADH_c0\n",
      "------------------------------\n",
      "  %      FLUX   RXN ID                        REACTION                       \n",
      " 32.1%  1e+03 rxn00...   cpd00003_c0 + cpd00009_c0 + cpd00102_c0 <=> cpd00...\n",
      " 31.6% 9.8e+02 rxn08...   cpd00003_c0 + cpd00010_c0 + cpd00024_c0 <=> cpd00...\n",
      " 18.5% 5.8e+02 rxn01...   cpd00003_c0 + cpd00449_c0 <=> cpd00004_c0 + cpd00...\n",
      "  6.0% 1.9e+02 rxn00...   cpd00003_c0 + cpd00130_c0 <=> cpd00004_c0 + cpd00...\n",
      "  4.0% 1.2e+02 rxn00...   2.0 cpd00001_c0 + cpd00003_c0 + cpd02431_c0 <=> c...\n",
      "  3.2%  1e+02 rxn00...   cpd00003_c0 + cpd00129_c0 <=> cpd00004_c0 + 2.0 c...\n",
      "  2.2%     68 rxn03...   cpd00003_c0 + cpd02693_c0 <=> cpd00004_c0 + cpd00...\n",
      "\n",
      "CONSUMING REACTIONS -- NADH_c0\n",
      "------------------------------\n",
      "  %      FLUX   RXN ID                        REACTION                       \n",
      " 32.1% -1e+03 rxn00...   cpd00003_c0 + cpd00010_c0 + cpd00191_c0 <=> cpd00...\n",
      " 19.1% -5.9e+02 rxn00...   3.0 cpd00004_c0 + 5.0 cpd00067_c0 + cpd00075_c0 -...\n",
      " 18.7% -5.8e+02 rxn11...   cpd00003_c0 + cpd00284_c0 <=> cpd00004_c0 + cpd00...\n",
      " 17.5% -5.4e+02 rxn00...   cpd00003_c0 + cpd00033_c0 + cpd00087_c0 <=> cpd00...\n",
      "  6.8% -2.1e+02 rxn10...   cpd00004_c0 + 4.5 cpd00067_c0 + cpd15560_c0 <=> c...\n",
      "  1.8%    -55 rxn05...   cpd00004_c0 + cpd00067_c0 + cpd08301_c0 --> cpd00...\n",
      "  1.6%    -50 rxn08...   cpd00004_c0 + cpd00067_c0 + cpd08615_c0 --> cpd00...\n",
      "  1.1%    -35 rxn00...   cpd00003_c0 + cpd00080_c0 <=> cpd00004_c0 + cpd00...\n"
     ]
    }
   ],
   "source": [
    "xam_model.metabolites.cpd00004_c0.summary()"
   ]
  },
  {
   "cell_type": "code",
   "execution_count": 32,
   "metadata": {
    "collapsed": false
   },
   "outputs": [
    {
     "data": {
      "text/plain": [
       "'NADH_c0'"
      ]
     },
     "execution_count": 32,
     "metadata": {},
     "output_type": "execute_result"
    }
   ],
   "source": [
    "xam_model.metabolites.cpd00004_c0.name"
   ]
  },
  {
   "cell_type": "code",
   "execution_count": 44,
   "metadata": {
    "collapsed": false
   },
   "outputs": [
    {
     "name": "stdout",
     "output_type": "stream",
     "text": [
      "cpd00003_c0: NAD_c0\n",
      "cpd00004_c0: NADH_c0\n",
      "cpd00006_c0: NADP_c0\n",
      "cpd00005_c0: NADPH_c0\n",
      "cpd00638_c0: Deamido_NAD_c0\n"
     ]
    }
   ],
   "source": [
    "for i in [i.id for i in xam_model.metabolites if 'NAD' in i.name]:\n",
    "        print('%s: %s' % (xam_model.metabolites.get_by_id(i), xam_model.metabolites.get_by_id(i).name))"
   ]
  },
  {
   "cell_type": "markdown",
   "metadata": {
    "nbpresent": {
     "id": "b7d6bd13-ed7a-43a6-b878-6a84fc5e4934"
    }
   },
   "source": [
    "### Main energy production and consumption reactions"
   ]
  },
  {
   "cell_type": "code",
   "execution_count": 46,
   "metadata": {
    "collapsed": false,
    "nbpresent": {
     "id": "13994332-a0ee-4332-9987-f800ba181fa7"
    },
    "scrolled": true
   },
   "outputs": [
    {
     "name": "stdout",
     "output_type": "stream",
     "text": [
      "PRODUCING REACTIONS -- ATP_c0\n",
      "-----------------------------\n",
      "  %      FLUX   RXN ID                        REACTION                       \n",
      "  8.6%  1e+03 rxn00...   cpd00002_c0 + cpd00010_c0 + cpd00036_c0 <=> cpd00...\n",
      "  8.6%  1e+03 rxn10...   cpd00008_c0 + cpd00009_c0 + 4.0 cpd00067_e0 <=> c...\n",
      "  8.6%  1e+03 rxn00...   cpd00002_c0 + cpd00014_c0 <=> cpd00008_c0 + cpd00...\n",
      "  8.6%  1e+03 rxn01...   cpd00002_c0 + cpd00169_c0 <=> cpd00008_c0 + cpd00...\n",
      "  8.6%  1e+03 rxn02...   cpd00008_c0 + cpd00009_c0 + cpd03375_c0 <=> cpd00...\n",
      "  8.6%  1e+03 rxn00...   cpd00002_c0 + cpd00022_c0 + cpd00242_c0 <=> cpd00...\n",
      "  8.6%  1e+03 rxn09...   cpd00001_c0 + cpd00002_c0 + cpd00038_c0 + cpd0004...\n",
      "  8.3% 9.7e+02 rxn00...   cpd00002_c0 + cpd00031_c0 <=> cpd00008_c0 + cpd00...\n",
      "  7.7%  9e+02 rxn00...   cpd00002_c0 + cpd00013_c0 + cpd00062_c0 <=> cpd00...\n",
      "  7.5% 8.8e+02 rxn01...   cpd00002_c0 + cpd00067_c0 + cpd00299_c0 <=> cpd00...\n",
      "  7.5% 8.8e+02 rxn01...   cpd00002_c0 + cpd00412_c0 <=> cpd00008_c0 + cpd00...\n",
      "  5.3% 6.1e+02 rxn01...   cpd00002_c0 + cpd00223_c0 <=> cpd00008_c0 + cpd00...\n",
      "  2.3% 2.7e+02 rxn00...   cpd00002_c0 + cpd00010_c0 + cpd00029_c0 <=> cpd00...\n",
      "\n",
      "CONSUMING REACTIONS -- ATP_c0\n",
      "-----------------------------\n",
      "  %      FLUX   RXN ID                        REACTION                       \n",
      " 62.1% -7.2e+03 biomass0   35.540309243 cpd00001_c0 + 40.1101757365 cpd00002...\n",
      "  8.6% -1e+03 rxn00...   cpd00002_c0 + cpd00048_c0 <=> cpd00012_c0 + cpd00...\n",
      "  8.6% -1e+03 rxn00...   cpd00002_c0 + cpd00046_c0 + cpd00067_c0 <=> cpd00...\n",
      "  8.6% -1e+03 rxn00...   cpd00002_c0 + cpd00096_c0 <=> cpd00008_c0 + cpd00...\n",
      "  4.6% -5.4e+02 rxn00...   cpd00002_c0 + cpd00105_c0 <=> cpd00008_c0 + cpd00...\n",
      "  1.5% -1.8e+02 rxn00...   cpd00002_c0 + cpd00072_c0 <=> cpd00008_c0 + cpd00...\n",
      "  1.2% -1.4e+02 rxn05...   cpd00001_c0 + cpd00002_c0 + cpd00009_e0 <=> cpd00...\n"
     ]
    }
   ],
   "source": [
    "xam_model.metabolites.cpd00002_c0.summary(fva_df_sort=0.90)"
   ]
  },
  {
   "cell_type": "code",
   "execution_count": 29,
   "metadata": {
    "collapsed": false
   },
   "outputs": [
    {
     "data": {
      "text/plain": [
       "'ATP_c0'"
      ]
     },
     "execution_count": 29,
     "metadata": {},
     "output_type": "execute_result"
    }
   ],
   "source": [
    "xam_model.metabolites.cpd00002_c0.name"
   ]
  },
  {
   "cell_type": "markdown",
   "metadata": {
    "nbpresent": {
     "id": "817241a2-c398-4632-a863-a1bd2ef14f84"
    }
   },
   "source": [
    "### Objective Function"
   ]
  },
  {
   "cell_type": "code",
   "execution_count": 5,
   "metadata": {
    "collapsed": false,
    "nbpresent": {
     "id": "74944b1c-2e67-4d31-8c8a-895d6440eb76"
    }
   },
   "outputs": [
    {
     "data": {
      "text/plain": [
       "{<Reaction R48E37591_1 at 0x120ecc4d0>: 1.0,\n",
       " <Reaction R48E37591_2 at 0x120ecc950>: 1.0,\n",
       " <Reaction RE0B84AD at 0x1217e2290>: 1.0}"
      ]
     },
     "execution_count": 5,
     "metadata": {},
     "output_type": "execute_result"
    }
   ],
   "source": [
    "xam_model.objective"
   ]
  },
  {
   "cell_type": "markdown",
   "metadata": {
    "nbpresent": {
     "id": "5db83ade-e88e-4809-8450-ff32bffb9efd"
    }
   },
   "source": [
    "### FVA 100%"
   ]
  },
  {
   "cell_type": "code",
   "execution_count": 10,
   "metadata": {
    "collapsed": false,
    "nbpresent": {
     "id": "ba77a9e9-8b01-44e7-8566-4c938698ba58"
    },
    "scrolled": true
   },
   "outputs": [
    {
     "name": "stdout",
     "output_type": "stream",
     "text": [
      "                   maximum     minimum\n",
      "EX_cpd00001_e0  1000.00000     0.00000\n",
      "EX_cpd00007_e0   997.34526 -1000.00000\n",
      "EX_cpd00009_e0  -144.88114  -144.88114\n",
      "EX_cpd00011_e0  1000.00000  -762.10456\n",
      "EX_cpd00012_e0    -0.00000     0.00000\n",
      "EX_cpd00013_e0  1000.00000 -1000.00000\n",
      "EX_cpd00023_e0  1000.00000 -1000.00000\n",
      "EX_cpd00027_e0  1000.00000 -1000.00000\n",
      "EX_cpd00030_e0    -0.55889    -0.55889\n",
      "EX_cpd00033_e0  1000.00000 -1000.00000\n",
      "EX_cpd00034_e0    -0.55889    -0.55889\n",
      "EX_cpd00036_e0  1000.00000 -1000.00000\n",
      "EX_cpd00039_e0   -56.03393   -56.03393\n",
      "EX_cpd00041_e0   746.39666 -1000.00000\n",
      "EX_cpd00048_e0    -0.55889    -0.55889\n",
      "EX_cpd00051_e0   -44.52715 -1000.00000\n",
      "EX_cpd00054_e0  1000.00000 -1000.00000\n",
      "EX_cpd00058_e0    -0.55889    -0.55889\n",
      "EX_cpd00060_e0     0.00000   -23.62621\n",
      "EX_cpd00063_e0    -0.55889    -0.55889\n",
      "EX_cpd00064_e0  1000.00000    44.52715\n",
      "EX_cpd00065_e0    -8.51964    -8.51964\n",
      "EX_cpd00067_e0  1000.00000 -1000.00000\n",
      "EX_cpd00075_e0  1000.00000 -1000.00000\n",
      "EX_cpd00076_e0     0.00000     0.00000\n",
      "EX_cpd00082_e0  1000.00000 -1000.00000\n",
      "EX_cpd00098_e0     0.00000     0.00000\n",
      "EX_cpd00099_e0    -0.55889    -0.55889\n",
      "EX_cpd00100_e0  1000.00000 -1000.00000\n",
      "EX_cpd00106_e0  1000.00000 -1000.00000\n",
      "EX_cpd00117_e0  1000.00000 -1000.00000\n",
      "EX_cpd00118_e0     0.00000    -0.55889\n",
      "EX_cpd00122_e0  1000.00000   258.90963\n",
      "EX_cpd00129_e0   966.72520 -1000.00000\n",
      "EX_cpd00130_e0  1000.00000 -1000.00000\n",
      "EX_cpd00136_e0    -0.55889    -0.55889\n",
      "EX_cpd00137_e0  1000.00000 -1000.00000\n",
      "EX_cpd00138_e0  1000.00000 -1000.00000\n",
      "EX_cpd00149_e0    -0.55889    -0.55889\n",
      "EX_cpd00154_e0  1000.00000 -1000.00000\n",
      "EX_cpd00162_e0     0.00000 -1000.00000\n",
      "EX_cpd00164_e0     0.00000     0.00000\n",
      "EX_cpd00176_e0  1000.00000 -1000.00000\n",
      "EX_cpd00179_e0     0.00000    -0.00000\n",
      "EX_cpd00182_e0   -40.43753 -1000.00000\n",
      "EX_cpd00184_e0   995.43170    -2.89163\n",
      "EX_cpd00205_e0    -0.55889    -0.55889\n",
      "EX_cpd00209_e0  1000.00000 -1000.00000\n",
      "EX_cpd00210_e0     0.00000    -0.00000\n",
      "EX_cpd00214_e0   723.03338     0.00000\n",
      "...                    ...         ...\n",
      "rxn11749_c0        0.00000     0.00000\n",
      "rxn11755_c0        0.00000     0.00000\n",
      "rxn11759_c0        0.00000     0.00000\n",
      "rxn11801_c0        0.00000     0.00000\n",
      "rxn11809_c0        0.00000     0.00000\n",
      "rxn11834_c0        0.00000     0.00000\n",
      "rxn11838_c0        0.00000     0.00000\n",
      "rxn11944_c0        0.00000     0.00000\n",
      "rxn11946_c0        0.55889     0.55889\n",
      "rxn11962_c0        0.00000     0.00000\n",
      "rxn12008_c0        1.67668     1.67668\n",
      "rxn12013_c0        0.00000     0.00000\n",
      "rxn12052_c0        0.00000     0.00000\n",
      "rxn12191_c0     1000.00000 -1000.00000\n",
      "rxn12206_c0        0.00000     0.00000\n",
      "rxn12224_c0        0.55889     0.55889\n",
      "rxn12510_c0        1.11778     1.11778\n",
      "rxn12512_c0        1.11778     1.11778\n",
      "rxn12549_c0        0.55889     0.55889\n",
      "rxn12633_c0        0.00000     0.00000\n",
      "rxn12634_c0        0.00000     0.00000\n",
      "rxn12635_c0        0.00000     0.00000\n",
      "rxn12636_c0        0.00000     0.00000\n",
      "rxn12637_c0        0.00000     0.00000\n",
      "rxn12638_c0        0.00000     0.00000\n",
      "rxn12639_c0        0.00000     0.00000\n",
      "rxn12640_c0        0.00000     0.00000\n",
      "rxn12641_c0        0.00000     0.00000\n",
      "rxn12642_c0        0.00000     0.00000\n",
      "rxn12643_c0        0.00000     0.00000\n",
      "rxn12644_c0        0.00000     0.00000\n",
      "rxn12645_c0        0.00000     0.00000\n",
      "rxn12646_c0        0.00000     0.00000\n",
      "rxn12664_c0        1.11778     1.11778\n",
      "rxn12844_c0        0.00000     0.00000\n",
      "rxn12845_c0        0.00000     0.00000\n",
      "rxn12846_c0        0.00000     0.00000\n",
      "rxn12847_c0        0.00000     0.00000\n",
      "rxn13661_c0        1.11778     1.11778\n",
      "rxn13782_c0      180.49341   180.49341\n",
      "rxn13783_c0      180.49341   180.49341\n",
      "rxn13784_c0      180.49341   180.49341\n",
      "rxn13971_c0        0.00000     0.00000\n",
      "rxn13990_c0       18.05699  -723.03338\n",
      "rxn14054_c0        0.00000     0.00000\n",
      "rxn14089_c0        0.00000     0.00000\n",
      "rxn14090_c0        0.00000     0.00000\n",
      "rxn14256_c0        0.00000     0.00000\n",
      "rxn14294_c0        0.00000     0.00000\n",
      "rxn14301_c0        0.00000     0.00000\n",
      "\n",
      "[1542 rows x 2 columns]\n"
     ]
    }
   ],
   "source": [
    "fva_results = cobra.flux_analysis.flux_variability_analysis(xam_model, xam_model.reactions)\n",
    "fva_df = pandas.DataFrame.from_dict(fva_results).T.round(5)\n",
    "print(fva_df)"
   ]
  },
  {
   "cell_type": "code",
   "execution_count": 11,
   "metadata": {
    "collapsed": false,
    "nbpresent": {
     "id": "e0a579e0-a8f3-48a5-ba04-a67c34d92958"
    }
   },
   "outputs": [
    {
     "data": {
      "text/plain": [
       "<matplotlib.figure.Figure at 0x1197fdad0>"
      ]
     },
     "metadata": {},
     "output_type": "display_data"
    },
    {
     "data": {
      "image/png": "[encoded data removed]",
      "text/plain": [
       "<matplotlib.figure.Figure at 0x1193cb890>"
      ]
     },
     "metadata": {},
     "output_type": "display_data"
    },
    {
     "data": {
      "image/png": "[encoded data removed]",
      "text/plain": [
       "<matplotlib.figure.Figure at 0x119a50150>"
      ]
     },
     "metadata": {},
     "output_type": "display_data"
    }
   ],
   "source": [
    "fva_df_sort = fva_df.sort_values(by=['maximum', 'minimum'])\n",
    "plt.figure(dpi=400)\n",
    "fva_df_sort.plot.box()\n",
    "plt.savefig('FVA_Xam_plot.svg', format='svg', dpi=1200)\n",
    "fva_df_sort.plot.line()\n",
    "plt.savefig('FVA_Xam.svg', format='svg', dpi=1200)"
   ]
  },
  {
   "cell_type": "code",
   "execution_count": 12,
   "metadata": {
    "collapsed": false
   },
   "outputs": [
    {
     "data": {
      "image/png": "[encoded data removed]",
      "text/plain": [
       "<matplotlib.figure.Figure at 0x119af7050>"
      ]
     },
     "metadata": {},
     "output_type": "display_data"
    }
   ],
   "source": [
    "fva_df_sort.plot.bar()\n",
    "plt.tick_params(labeltop=False, labelbottom=False, bottom=False, top=False, labelright=True)\n",
    "plt.savefig('FVA_Xam_bar.svg', format='svg', dpi=1200)\n",
    "plt.savefig('FVA_Xam_bar.png', format='png', dpi=1200)"
   ]
  },
  {
   "cell_type": "markdown",
   "metadata": {},
   "source": [
    "### FVA 90%"
   ]
  },
  {
   "cell_type": "code",
   "execution_count": 6,
   "metadata": {
    "collapsed": false,
    "nbpresent": {
     "id": "b88f9111-ba96-4573-b358-ec290ba123db"
    },
    "scrolled": true
   },
   "outputs": [
    {
     "name": "stdout",
     "output_type": "stream",
     "text": [
      "                   maximum     minimum\n",
      "EX_cpd00001_e0  1000.00000     0.00000\n",
      "EX_cpd00007_e0   997.61074 -1000.00000\n",
      "EX_cpd00009_e0  -130.39303  -530.39303\n",
      "EX_cpd00011_e0  1000.00000 -1000.00000\n",
      "EX_cpd00012_e0   200.00000     0.00000\n",
      "EX_cpd00013_e0  1000.00000 -1000.00000\n",
      "EX_cpd00023_e0  1000.00000 -1000.00000\n",
      "EX_cpd00027_e0  1000.00000 -1000.00000\n",
      "EX_cpd00030_e0    -0.50300    -0.55889\n",
      "EX_cpd00033_e0  1000.00000 -1000.00000\n",
      "EX_cpd00034_e0    -0.50300    -0.55889\n",
      "EX_cpd00036_e0  1000.00000 -1000.00000\n",
      "EX_cpd00039_e0   -50.43054   -56.03393\n",
      "EX_cpd00041_e0   934.75245 -1000.00000\n",
      "EX_cpd00048_e0    -0.50300   -39.45118\n",
      "EX_cpd00051_e0   -40.07443 -1000.00000\n",
      "EX_cpd00054_e0  1000.00000 -1000.00000\n",
      "EX_cpd00058_e0    -0.50300    -0.55889\n",
      "EX_cpd00060_e0     0.00000   -39.00922\n",
      "EX_cpd00063_e0    -0.50300    -0.55889\n",
      "EX_cpd00064_e0  1000.00000    40.07443\n",
      "EX_cpd00065_e0    -7.66767    -8.51964\n",
      "EX_cpd00067_e0  1000.00000 -1000.00000\n",
      "EX_cpd00075_e0  1000.00000 -1000.00000\n",
      "EX_cpd00076_e0     0.00000     0.00000\n",
      "EX_cpd00082_e0  1000.00000 -1000.00000\n",
      "EX_cpd00098_e0     0.00000     0.00000\n",
      "EX_cpd00099_e0    -0.50300    -0.55889\n",
      "EX_cpd00100_e0  1000.00000 -1000.00000\n",
      "EX_cpd00106_e0  1000.00000 -1000.00000\n",
      "EX_cpd00117_e0  1000.00000 -1000.00000\n",
      "EX_cpd00118_e0     0.00000    -0.55889\n",
      "EX_cpd00122_e0  1000.00000  -566.98133\n",
      "EX_cpd00129_e0  1000.00000 -1000.00000\n",
      "EX_cpd00130_e0  1000.00000 -1000.00000\n",
      "EX_cpd00136_e0    -0.50300    -0.55889\n",
      "EX_cpd00137_e0  1000.00000 -1000.00000\n",
      "EX_cpd00138_e0  1000.00000 -1000.00000\n",
      "EX_cpd00149_e0    -0.50300    -0.55889\n",
      "EX_cpd00154_e0  1000.00000 -1000.00000\n",
      "EX_cpd00162_e0   800.00000 -1000.00000\n",
      "EX_cpd00164_e0     0.00000     0.00000\n",
      "EX_cpd00176_e0  1000.00000 -1000.00000\n",
      "EX_cpd00179_e0     0.00000  -800.00000\n",
      "EX_cpd00182_e0   745.40920 -1000.00000\n",
      "EX_cpd00184_e0   995.88853    -2.89163\n",
      "EX_cpd00205_e0    -0.50300    -0.55889\n",
      "EX_cpd00209_e0  1000.00000 -1000.00000\n",
      "EX_cpd00210_e0     0.00000   -38.89447\n",
      "EX_cpd00214_e0   975.62306     0.00000\n",
      "...                    ...         ...\n",
      "rxn11749_c0        0.00000     0.00000\n",
      "rxn11755_c0        0.00000     0.00000\n",
      "rxn11759_c0        0.00000     0.00000\n",
      "rxn11801_c0        0.00000     0.00000\n",
      "rxn11809_c0        0.00000     0.00000\n",
      "rxn11834_c0        0.00000     0.00000\n",
      "rxn11838_c0        0.00000     0.00000\n",
      "rxn11944_c0      775.36502     0.00000\n",
      "rxn11946_c0        0.55889     0.50300\n",
      "rxn11962_c0        0.00000     0.00000\n",
      "rxn12008_c0        1.67668     1.50901\n",
      "rxn12013_c0        0.00000     0.00000\n",
      "rxn12052_c0        0.00000     0.00000\n",
      "rxn12191_c0     1000.00000 -1000.00000\n",
      "rxn12206_c0        0.00000     0.00000\n",
      "rxn12224_c0        0.55889     0.50300\n",
      "rxn12510_c0        1.11778     1.00601\n",
      "rxn12512_c0        1.11778     0.00000\n",
      "rxn12549_c0        0.55889     0.50300\n",
      "rxn12633_c0        0.00000     0.00000\n",
      "rxn12634_c0        0.00000     0.00000\n",
      "rxn12635_c0        0.00000     0.00000\n",
      "rxn12636_c0        0.00000     0.00000\n",
      "rxn12637_c0        0.00000     0.00000\n",
      "rxn12638_c0        0.00000     0.00000\n",
      "rxn12639_c0        0.00000     0.00000\n",
      "rxn12640_c0        0.00000     0.00000\n",
      "rxn12641_c0        0.00000     0.00000\n",
      "rxn12642_c0        0.00000     0.00000\n",
      "rxn12643_c0        0.00000     0.00000\n",
      "rxn12644_c0        0.00000     0.00000\n",
      "rxn12645_c0        0.00000     0.00000\n",
      "rxn12646_c0        0.00000     0.00000\n",
      "rxn12664_c0        1.11778     1.00601\n",
      "rxn12844_c0        0.00000     0.00000\n",
      "rxn12845_c0        0.00000     0.00000\n",
      "rxn12846_c0        0.00000     0.00000\n",
      "rxn12847_c0        0.00000     0.00000\n",
      "rxn13661_c0        1.11778     1.00601\n",
      "rxn13782_c0      180.49341   162.44407\n",
      "rxn13783_c0      180.49341   162.44407\n",
      "rxn13784_c0      180.49341   162.44407\n",
      "rxn13971_c0        0.00000     0.00000\n",
      "rxn13990_c0       18.05699  -983.74871\n",
      "rxn14054_c0        0.00000     0.00000\n",
      "rxn14089_c0        0.00000     0.00000\n",
      "rxn14090_c0        0.00000     0.00000\n",
      "rxn14256_c0        0.00000     0.00000\n",
      "rxn14294_c0        0.00000     0.00000\n",
      "rxn14301_c0        0.00000     0.00000\n",
      "\n",
      "[1542 rows x 2 columns]\n"
     ]
    }
   ],
   "source": [
    "fva_results = cobra.flux_analysis.flux_variability_analysis(xam_model, xam_model.reactions, fraction_of_optimum=0.9)\n",
    "fva_df = pandas.DataFrame.from_dict(fva_results).T.round(5)\n",
    "print(fva_df)"
   ]
  },
  {
   "cell_type": "code",
   "execution_count": 14,
   "metadata": {
    "collapsed": false,
    "nbpresent": {
     "id": "32d20010-cb86-4f1f-9bcf-7f3fdee58fd2"
    }
   },
   "outputs": [
    {
     "data": {
      "text/plain": [
       "<matplotlib.figure.Figure at 0x11a46bdd0>"
      ]
     },
     "metadata": {},
     "output_type": "display_data"
    },
    {
     "data": {
      "image/png": "[encoded data removed]",
      "text/plain": [
       "<matplotlib.figure.Figure at 0x11a4aa910>"
      ]
     },
     "metadata": {},
     "output_type": "display_data"
    },
    {
     "data": {
      "image/png": "[encoded data removed]",
      "text/plain": [
       "<matplotlib.figure.Figure at 0x11d42ad50>"
      ]
     },
     "metadata": {},
     "output_type": "display_data"
    }
   ],
   "source": [
    "fva_df_sort = fva_df.sort_values(by=['maximum', 'minimum'])\n",
    "plt.figure(dpi=400)\n",
    "fva_df_sort.plot.box()\n",
    "plt.savefig('FVA_Xam_plot_90.svg', format='svg', dpi=1200)\n",
    "fva_df_sort.plot.line()\n",
    "plt.savefig('FVA_Xam_line_90.png', format='png', dpi=1200)"
   ]
  },
  {
   "cell_type": "code",
   "execution_count": 15,
   "metadata": {
    "collapsed": false
   },
   "outputs": [
    {
     "data": {
      "image/png": "[encoded data removed]",
      "text/plain": [
       "<matplotlib.figure.Figure at 0x106555a10>"
      ]
     },
     "metadata": {},
     "output_type": "display_data"
    }
   ],
   "source": [
    "fva_df_sort.plot.bar()\n",
    "plt.tick_params(labeltop=False, labelbottom=False, bottom=False, top=False, labelright=True)\n",
    "plt.savefig('FVA_Xam_bar_90.svg', format='svg', dpi=400)\n",
    "plt.savefig('FVA_Xam_bar_90.png', format='png', dpi=400)"
   ]
  },
  {
   "cell_type": "markdown",
   "metadata": {},
   "source": [
    "### FVA 50%"
   ]
  },
  {
   "cell_type": "code",
   "execution_count": 7,
   "metadata": {
    "collapsed": false,
    "nbpresent": {
     "id": "45ce90e6-c867-4814-a6a7-6329cb44b38c"
    },
    "scrolled": true
   },
   "outputs": [
    {
     "name": "stdout",
     "output_type": "stream",
     "text": [
      "                   maximum     minimum\n",
      "reaction                              \n",
      "EX_cpd00001_e0  1000.00000     0.00000\n",
      "EX_cpd00007_e0   998.67263 -1000.00000\n",
      "EX_cpd00009_e0   -72.44057 -1000.00000\n",
      "EX_cpd00011_e0  1000.00000 -1000.00000\n",
      "EX_cpd00012_e0   463.77971     0.00000\n",
      "EX_cpd00013_e0  1000.00000 -1000.00000\n",
      "EX_cpd00023_e0  1000.00000 -1000.00000\n",
      "EX_cpd00027_e0  1000.00000 -1000.00000\n",
      "EX_cpd00030_e0    -0.27945    -0.55889\n",
      "EX_cpd00033_e0  1000.00000 -1000.00000\n",
      "EX_cpd00034_e0    -0.27945    -0.55889\n",
      "EX_cpd00036_e0  1000.00000 -1000.00000\n",
      "EX_cpd00039_e0   -28.01696   -56.03393\n",
      "EX_cpd00041_e0   963.75136 -1000.00000\n",
      "EX_cpd00048_e0    -0.27945   -39.45118\n",
      "EX_cpd00051_e0   -22.26357 -1000.00000\n",
      "EX_cpd00054_e0  1000.00000 -1000.00000\n",
      "EX_cpd00058_e0    -0.27945    -0.55889\n",
      "EX_cpd00060_e0     0.00000   -39.00922\n",
      "EX_cpd00063_e0    -0.27945    -0.55889\n",
      "EX_cpd00064_e0  1000.00000    22.26357\n",
      "EX_cpd00065_e0    -4.25982    -8.51964\n",
      "EX_cpd00067_e0  1000.00000 -1000.00000\n",
      "EX_cpd00075_e0  1000.00000 -1000.00000\n",
      "EX_cpd00076_e0     0.00000     0.00000\n",
      "EX_cpd00082_e0  1000.00000 -1000.00000\n",
      "EX_cpd00098_e0     0.00000     0.00000\n",
      "EX_cpd00099_e0    -0.27945    -0.55889\n",
      "EX_cpd00100_e0  1000.00000 -1000.00000\n",
      "EX_cpd00106_e0  1000.00000 -1000.00000\n",
      "EX_cpd00117_e0  1000.00000 -1000.00000\n",
      "EX_cpd00118_e0     0.00000    -0.55889\n",
      "EX_cpd00122_e0  1000.00000 -1000.00000\n",
      "EX_cpd00129_e0  1000.00000 -1000.00000\n",
      "EX_cpd00130_e0  1000.00000 -1000.00000\n",
      "EX_cpd00136_e0    -0.27945    -0.55889\n",
      "EX_cpd00137_e0  1000.00000 -1000.00000\n",
      "EX_cpd00138_e0  1000.00000 -1000.00000\n",
      "EX_cpd00149_e0    -0.27945    -0.55889\n",
      "EX_cpd00154_e0  1000.00000 -1000.00000\n",
      "EX_cpd00162_e0  1000.00000 -1000.00000\n",
      "EX_cpd00164_e0     0.00000     0.00000\n",
      "EX_cpd00176_e0  1000.00000 -1000.00000\n",
      "EX_cpd00179_e0     0.00000 -1000.00000\n",
      "EX_cpd00182_e0   964.43873 -1000.00000\n",
      "EX_cpd00184_e0   997.71585    -2.89163\n",
      "EX_cpd00205_e0    -0.27945    -0.55889\n",
      "EX_cpd00209_e0  1000.00000 -1000.00000\n",
      "EX_cpd00210_e0     0.00000   -38.89447\n",
      "EX_cpd00214_e0   986.45726     0.00000\n",
      "...                    ...         ...\n",
      "rxn11749_c0        0.00000     0.00000\n",
      "rxn11755_c0        0.00000     0.00000\n",
      "rxn11759_c0        0.00000     0.00000\n",
      "rxn11801_c0        0.00000     0.00000\n",
      "rxn11809_c0        0.00000     0.00000\n",
      "rxn11834_c0        0.00000     0.00000\n",
      "rxn11838_c0        0.00000     0.00000\n",
      "rxn11944_c0      998.60277     0.00000\n",
      "rxn11946_c0        0.55889     0.27945\n",
      "rxn11962_c0        0.00000     0.00000\n",
      "rxn12008_c0        1.67668     0.83834\n",
      "rxn12013_c0        0.00000     0.00000\n",
      "rxn12052_c0        0.00000     0.00000\n",
      "rxn12191_c0     1000.00000 -1000.00000\n",
      "rxn12206_c0        0.00000     0.00000\n",
      "rxn12224_c0        0.55889     0.27945\n",
      "rxn12510_c0        1.11778     0.55889\n",
      "rxn12512_c0        1.11778     0.00000\n",
      "rxn12549_c0        0.55889     0.27945\n",
      "rxn12633_c0        0.00000     0.00000\n",
      "rxn12634_c0        0.00000     0.00000\n",
      "rxn12635_c0        0.00000     0.00000\n",
      "rxn12636_c0        0.00000     0.00000\n",
      "rxn12637_c0        0.00000     0.00000\n",
      "rxn12638_c0        0.00000     0.00000\n",
      "rxn12639_c0        0.00000     0.00000\n",
      "rxn12640_c0        0.00000     0.00000\n",
      "rxn12641_c0        0.00000     0.00000\n",
      "rxn12642_c0        0.00000     0.00000\n",
      "rxn12643_c0        0.00000     0.00000\n",
      "rxn12644_c0        0.00000     0.00000\n",
      "rxn12645_c0        0.00000     0.00000\n",
      "rxn12646_c0        0.00000     0.00000\n",
      "rxn12664_c0        1.11778     0.55889\n",
      "rxn12844_c0        0.00000     0.00000\n",
      "rxn12845_c0        0.00000     0.00000\n",
      "rxn12846_c0        0.00000     0.00000\n",
      "rxn12847_c0        0.00000     0.00000\n",
      "rxn13661_c0        1.11778     0.55889\n",
      "rxn13782_c0      180.49341    90.24670\n",
      "rxn13783_c0      180.49341    90.24670\n",
      "rxn13784_c0      180.49341    90.24670\n",
      "rxn13971_c0        0.00000     0.00000\n",
      "rxn13990_c0       18.05699  -990.97150\n",
      "rxn14054_c0        0.00000     0.00000\n",
      "rxn14089_c0        0.00000     0.00000\n",
      "rxn14090_c0        0.00000     0.00000\n",
      "rxn14256_c0        0.00000     0.00000\n",
      "rxn14294_c0        0.00000     0.00000\n",
      "rxn14301_c0        0.00000     0.00000\n",
      "\n",
      "[1542 rows x 2 columns]\n"
     ]
    }
   ],
   "source": [
    "fva_results = cobra.flux_analysis.flux_variability_analysis(xam_model, xam_model.reactions, fraction_of_optimum=0.5)\n",
    "fva_df = pandas.DataFrame.from_dict(fva_results).T.round(5)\n",
    "fva_df.index.name = 'reaction'\n",
    "print(fva_df)"
   ]
  },
  {
   "cell_type": "code",
   "execution_count": 9,
   "metadata": {
    "collapsed": false,
    "nbpresent": {
     "id": "210ef375-0724-46ae-b5f7-d5aadc32df11"
    },
    "scrolled": true
   },
   "outputs": [
    {
     "name": "stdout",
     "output_type": "stream",
     "text": [
      "                   maximum     minimum\n",
      "reaction                              \n",
      "EX_cpd00009_e0   -72.44057 -1000.00000\n",
      "rxn02185_c0      -66.22438 -1000.00000\n",
      "rxn02811_c0      -33.87761   -82.97096\n",
      "EX_cpd00039_e0   -28.01696   -56.03393\n",
      "rxn05305_c0      -28.01696   -56.03393\n",
      "rxn03958_c0      -27.62282   -55.24565\n",
      "rxn01740_c0      -25.67388   -51.34776\n",
      "EX_cpd00051_e0   -22.26357 -1000.00000\n",
      "rxn03435_c0      -21.82152 -1000.00000\n",
      "rxn00493_c0      -13.94487   -27.88975\n",
      "EX_cpd03847_e0   -13.54274 -1000.00000\n",
      "rxn05457_c0      -13.54274 -1000.00000\n",
      "rxn00527_c0      -10.89067   -21.78133\n",
      "rxn05342_c0       -9.02850   -18.05699\n",
      "EX_cpd01080_e0    -7.68761   -15.37521\n",
      "rxn00832_c0       -7.15328  -999.72055\n",
      "rxn02320_c0       -7.15328  -999.72055\n",
      "rxn01117_c0       -6.77137   -13.54274\n",
      "rxn01629_c0       -4.47113    -8.94227\n",
      "EX_cpd00065_e0    -4.25982    -8.51964\n",
      "rxn08669_c0       -2.88285    -5.76570\n",
      "rxn00313_c0       -2.25712    -4.51425\n",
      "rxn02003_c0       -2.25712    -4.51425\n",
      "rxn02285_c0       -2.25712    -4.51425\n",
      "rxn00686_c0       -0.83834 -1000.00000\n",
      "rxn01014_c0       -0.83834    -1.67668\n",
      "EX_cpd00355_e0    -0.55889    -1.11778\n",
      "EX_cpd11606_e0    -0.55889    -1.11778\n",
      "rxn01790_c0       -0.55889    -1.11778\n",
      "rxn02474_c0       -0.55889    -1.11778\n",
      "EX_cpd00048_e0    -0.27945   -39.45118\n",
      "EX_cpd00030_e0    -0.27945    -0.55889\n",
      "EX_cpd00034_e0    -0.27945    -0.55889\n",
      "EX_cpd00058_e0    -0.27945    -0.55889\n",
      "EX_cpd00063_e0    -0.27945    -0.55889\n",
      "EX_cpd00099_e0    -0.27945    -0.55889\n",
      "EX_cpd00136_e0    -0.27945    -0.55889\n",
      "EX_cpd00149_e0    -0.27945    -0.55889\n",
      "EX_cpd00205_e0    -0.27945    -0.55889\n",
      "EX_cpd00254_e0    -0.27945    -0.55889\n",
      "EX_cpd00264_e0    -0.27945    -0.55889\n",
      "EX_cpd00793_e0    -0.27945    -0.55889\n",
      "rxn01265_c0       -0.27945    -0.55889\n",
      "rxn02056_c0       -0.27945    -0.55889\n",
      "rxn05315_c0       -0.27945    -0.55889\n",
      "rxn10473_c0       -0.27945    -0.55889\n",
      "rxn10474_c0       -0.27945    -0.55889\n",
      "EX_cpd00179_e0     0.00000 -1000.00000\n",
      "EX_cpd15560_e0     0.00000 -1000.00000\n",
      "rxn00290_c0        0.00000 -1000.00000\n",
      "...                    ...         ...\n",
      "rxn08311_c0     1000.00000     0.00000\n",
      "rxn08312_c0     1000.00000     0.00000\n",
      "rxn08556_c0     1000.00000     0.00000\n",
      "rxn08557_c0     1000.00000     0.00000\n",
      "rxn08792_c0     1000.00000     0.00000\n",
      "rxn08793_c0     1000.00000     0.00000\n",
      "rxn08808_c0     1000.00000     0.00000\n",
      "rxn08971_c0     1000.00000     0.00000\n",
      "rxn08975_c0     1000.00000     0.00000\n",
      "rxn09156_c0     1000.00000     0.00000\n",
      "rxn09167_c0     1000.00000     0.00000\n",
      "rxn09197_c0     1000.00000     0.00000\n",
      "rxn09198_c0     1000.00000     0.00000\n",
      "rxn09200_c0     1000.00000     0.00000\n",
      "rxn09201_c0     1000.00000     0.00000\n",
      "rxn09202_c0     1000.00000     0.00000\n",
      "rxn09203_c0     1000.00000     0.00000\n",
      "rxn09205_c0     1000.00000     0.00000\n",
      "rxn09206_c0     1000.00000     0.00000\n",
      "rxn09208_c0     1000.00000     0.00000\n",
      "rxn09209_c0     1000.00000     0.00000\n",
      "rxn09210_c0     1000.00000     0.00000\n",
      "rxn09211_c0     1000.00000     0.00000\n",
      "rxn09449_c0     1000.00000     0.00000\n",
      "rxn10113_c0     1000.00000     0.00000\n",
      "rxn10116_c0     1000.00000     0.00000\n",
      "rxn10120_c0     1000.00000     0.00000\n",
      "rxn10126_c0     1000.00000     0.00000\n",
      "rxn10168_c0     1000.00000     0.00000\n",
      "rxn10202_c0     1000.00000     0.00000\n",
      "rxn10204_c0     1000.00000     0.00000\n",
      "rxn10211_c0     1000.00000     0.00000\n",
      "rxn10213_c0     1000.00000     0.00000\n",
      "rxn10571_c0     1000.00000     0.00000\n",
      "rxn10806_c0     1000.00000     0.00000\n",
      "rxn08528_c0     1000.00000     0.55889\n",
      "rxn00126_c0     1000.00000     1.39723\n",
      "rxn05289_c0     1000.00000     4.33744\n",
      "rxn00907_c0     1000.00000     4.91771\n",
      "rxn05736_c0     1000.00000    13.54274\n",
      "rxn10163_c0     1000.00000    13.54274\n",
      "rxn00770_c0     1000.00000    15.34251\n",
      "rxn00416_c0     1000.00000    18.12432\n",
      "rxn03194_c0     1000.00000    21.82152\n",
      "rxn03436_c0     1000.00000    21.82152\n",
      "rxn03437_c0     1000.00000    21.82152\n",
      "EX_cpd00064_e0  1000.00000    22.26357\n",
      "rxn10131_c0     1000.00000    22.26357\n",
      "rxn00898_c0     1000.00000    66.22438\n",
      "rxn05145_c0     1000.00000    72.44057\n",
      "\n",
      "[1542 rows x 2 columns]\n"
     ]
    }
   ],
   "source": [
    "fva_df_sort = fva_df.sort_values(by=['maximum', 'minimum'])\n",
    "print(fva_df_sort)"
   ]
  },
  {
   "cell_type": "code",
   "execution_count": 18,
   "metadata": {
    "collapsed": false,
    "scrolled": true
   },
   "outputs": [
    {
     "name": "stdout",
     "output_type": "stream",
     "text": [
      "                maximum  minimum\n",
      "EX_cpd00011_e0   1000.0  -1000.0\n",
      "EX_cpd00013_e0   1000.0  -1000.0\n",
      "EX_cpd00023_e0   1000.0  -1000.0\n",
      "EX_cpd00027_e0   1000.0  -1000.0\n",
      "EX_cpd00033_e0   1000.0  -1000.0\n",
      "EX_cpd00036_e0   1000.0  -1000.0\n",
      "EX_cpd00054_e0   1000.0  -1000.0\n",
      "EX_cpd00067_e0   1000.0  -1000.0\n",
      "EX_cpd00075_e0   1000.0  -1000.0\n",
      "EX_cpd00082_e0   1000.0  -1000.0\n",
      "EX_cpd00100_e0   1000.0  -1000.0\n",
      "EX_cpd00106_e0   1000.0  -1000.0\n",
      "EX_cpd00117_e0   1000.0  -1000.0\n",
      "EX_cpd00129_e0   1000.0  -1000.0\n",
      "EX_cpd00130_e0   1000.0  -1000.0\n",
      "EX_cpd00137_e0   1000.0  -1000.0\n",
      "EX_cpd00138_e0   1000.0  -1000.0\n",
      "EX_cpd00154_e0   1000.0  -1000.0\n",
      "EX_cpd00176_e0   1000.0  -1000.0\n",
      "EX_cpd00209_e0   1000.0  -1000.0\n",
      "EX_cpd00226_e0   1000.0  -1000.0\n",
      "EX_cpd00246_e0   1000.0  -1000.0\n",
      "EX_cpd00276_e0   1000.0  -1000.0\n",
      "EX_cpd00588_e0   1000.0  -1000.0\n",
      "rxn00058_c0      1000.0  -1000.0\n",
      "rxn00068_c0      1000.0  -1000.0\n",
      "rxn00083_c0      1000.0  -1000.0\n",
      "rxn00085_c0      1000.0  -1000.0\n",
      "rxn00097_c0      1000.0  -1000.0\n",
      "rxn00145_c0      1000.0  -1000.0\n",
      "rxn00148_c0      1000.0  -1000.0\n",
      "rxn00182_c0      1000.0  -1000.0\n",
      "rxn00216_c0      1000.0  -1000.0\n",
      "rxn00237_c0      1000.0  -1000.0\n",
      "rxn00248_c0      1000.0  -1000.0\n",
      "rxn00272_c0      1000.0  -1000.0\n",
      "rxn00274_c0      1000.0  -1000.0\n",
      "rxn00283_c0      1000.0  -1000.0\n",
      "rxn00324_c0      1000.0  -1000.0\n",
      "rxn00336_c0      1000.0  -1000.0\n",
      "rxn00375_c0      1000.0  -1000.0\n",
      "rxn00499_c0      1000.0  -1000.0\n",
      "rxn00501_c0      1000.0  -1000.0\n",
      "rxn00503_c0      1000.0  -1000.0\n",
      "rxn00512_c0      1000.0  -1000.0\n",
      "rxn00541_c0      1000.0  -1000.0\n",
      "rxn00545_c0      1000.0  -1000.0\n",
      "rxn00555_c0      1000.0  -1000.0\n",
      "rxn00558_c0      1000.0  -1000.0\n",
      "rxn00559_c0      1000.0  -1000.0\n",
      "...                 ...      ...\n",
      "rxn08846_c0      1000.0  -1000.0\n",
      "rxn08848_c0      1000.0  -1000.0\n",
      "rxn08849_c0      1000.0  -1000.0\n",
      "rxn08851_c0      1000.0  -1000.0\n",
      "rxn09123_c0      1000.0  -1000.0\n",
      "rxn09124_c0      1000.0  -1000.0\n",
      "rxn09126_c0      1000.0  -1000.0\n",
      "rxn09127_c0      1000.0  -1000.0\n",
      "rxn09128_c0      1000.0  -1000.0\n",
      "rxn09129_c0      1000.0  -1000.0\n",
      "rxn09130_c0      1000.0  -1000.0\n",
      "rxn09131_c0      1000.0  -1000.0\n",
      "rxn09133_c0      1000.0  -1000.0\n",
      "rxn09134_c0      1000.0  -1000.0\n",
      "rxn09136_c0      1000.0  -1000.0\n",
      "rxn09137_c0      1000.0  -1000.0\n",
      "rxn09138_c0      1000.0  -1000.0\n",
      "rxn09140_c0      1000.0  -1000.0\n",
      "rxn09141_c0      1000.0  -1000.0\n",
      "rxn09143_c0      1000.0  -1000.0\n",
      "rxn09144_c0      1000.0  -1000.0\n",
      "rxn09145_c0      1000.0  -1000.0\n",
      "rxn09147_c0      1000.0  -1000.0\n",
      "rxn09148_c0      1000.0  -1000.0\n",
      "rxn09149_c0      1000.0  -1000.0\n",
      "rxn09150_c0      1000.0  -1000.0\n",
      "rxn09151_c0      1000.0  -1000.0\n",
      "rxn09152_c0      1000.0  -1000.0\n",
      "rxn09154_c0      1000.0  -1000.0\n",
      "rxn09155_c0      1000.0  -1000.0\n",
      "rxn09157_c0      1000.0  -1000.0\n",
      "rxn09158_c0      1000.0  -1000.0\n",
      "rxn09159_c0      1000.0  -1000.0\n",
      "rxn09161_c0      1000.0  -1000.0\n",
      "rxn09162_c0      1000.0  -1000.0\n",
      "rxn09164_c0      1000.0  -1000.0\n",
      "rxn09188_c0      1000.0  -1000.0\n",
      "rxn09272_c0      1000.0  -1000.0\n",
      "rxn10043_c0      1000.0  -1000.0\n",
      "rxn10121_c0      1000.0  -1000.0\n",
      "rxn10122_c0      1000.0  -1000.0\n",
      "rxn10125_c0      1000.0  -1000.0\n",
      "rxn10152_c0      1000.0  -1000.0\n",
      "rxn10153_c0      1000.0  -1000.0\n",
      "rxn10154_c0      1000.0  -1000.0\n",
      "rxn10184_c0      1000.0  -1000.0\n",
      "rxn10770_c0      1000.0  -1000.0\n",
      "rxn10945_c0      1000.0  -1000.0\n",
      "rxn11040_c0      1000.0  -1000.0\n",
      "rxn12191_c0      1000.0  -1000.0\n",
      "\n",
      "[223 rows x 2 columns]\n"
     ]
    }
   ],
   "source": [
    "import numpy\n",
    "\n",
    "fva_df_sort_equal = fva_df_sort[(fva_df_sort[\"maximum\"] == 1000) & (fva_df_sort[\"minimum\"] == -1000)]\n",
    "print(fva_df_sort_equal)"
   ]
  },
  {
   "cell_type": "code",
   "execution_count": 19,
   "metadata": {
    "collapsed": false
   },
   "outputs": [
    {
     "data": {
      "text/plain": [
       "<matplotlib.figure.Figure at 0x1262902d0>"
      ]
     },
     "metadata": {},
     "output_type": "display_data"
    },
    {
     "data": {
      "image/png": "[encoded data removed]",
      "text/plain": [
       "<matplotlib.figure.Figure at 0x1261799d0>"
      ]
     },
     "metadata": {},
     "output_type": "display_data"
    },
    {
     "data": {
      "image/png": "[encoded data removed]",
      "text/plain": [
       "<matplotlib.figure.Figure at 0x126bb7610>"
      ]
     },
     "metadata": {},
     "output_type": "display_data"
    }
   ],
   "source": [
    "plt.figure(dpi=400)\n",
    "fva_df_sort.plot.box()\n",
    "plt.savefig('FVA_Xam_box_50.svg', format='svg', dpi=1200)\n",
    "plt.savefig('FVA_Xam_box_50.png', format='png', dpi=1200)\n",
    "fva_df_sort.plot.line()\n",
    "plt.savefig('FVA_Xam_plot_50.svg', format='svg', dpi=1200)\n",
    "plt.savefig('FVA_Xam_plot_50.png', format='png', dpi=1200)"
   ]
  },
  {
   "cell_type": "code",
   "execution_count": 20,
   "metadata": {
    "collapsed": false
   },
   "outputs": [
    {
     "data": {
      "image/png": "[encoded data removed]",
      "text/plain": [
       "<matplotlib.figure.Figure at 0x126206d90>"
      ]
     },
     "metadata": {},
     "output_type": "display_data"
    }
   ],
   "source": [
    "fva_df_sort.plot.bar()\n",
    "plt.tick_params(labeltop=False, labelbottom=False, bottom=False, top=False, labelright=True)\n",
    "plt.savefig('FVA_Xam_bar_50.svg', format='svg', dpi=1200)\n",
    "plt.savefig('FVA_Xam_bar_50.png', format='png', dpi=1200)"
   ]
  },
  {
   "cell_type": "code",
   "execution_count": 14,
   "metadata": {
    "collapsed": false,
    "scrolled": true
   },
   "outputs": [
    {
     "name": "stdout",
     "output_type": "stream",
     "text": [
      "                   maximum     minimum\n",
      "reaction                              \n",
      "rxn00656_c0        1.11778  -999.44111\n",
      "rxn05206_c0        1.11778  -999.44111\n",
      "rxn02200_c0        1.67668  -999.16166\n",
      "rxn05200_c0        2.89163  -997.71585\n",
      "rxn00676_c0       15.37521  -970.49088\n",
      "rxn02934_c0       15.37521  -970.49088\n",
      "rxn00953_c0       15.40577   -23.59137\n",
      "rxn13990_c0       18.05699  -990.97150\n",
      "rxn00693_c0       25.82364   -13.17235\n",
      "rxn05651_c0       39.45118  -999.72055\n",
      "rxn00056_c0      500.13972  -500.41917\n",
      "rxn02342_c0      904.26649 -1000.00000\n",
      "rxn03068_c0      933.77562 -1000.00000\n",
      "EX_cpd00041_e0   963.75136 -1000.00000\n",
      "rxn00260_c0      963.75136 -1000.00000\n",
      "EX_cpd00182_e0   964.43873 -1000.00000\n",
      "rxn01200_c0      965.29763 -1000.00000\n",
      "rxn00804_c0      966.12239 -1000.00000\n",
      "rxn00806_c0      966.12239 -1000.00000\n",
      "EX_cpd00367_e0   967.42433 -1000.00000\n",
      "rxn02933_c0      970.49088   -15.37521\n",
      "rxn01461_c0      977.73643 -1000.00000\n",
      "rxn01462_c0      977.73643 -1000.00000\n",
      "rxn00467_c0      977.73643   -45.08604\n",
      "rxn01573_c0      978.17848 -1000.00000\n",
      "rxn01575_c0      978.17848 -1000.00000\n",
      "rxn00113_c0      984.65749 -1000.00000\n",
      "rxn01545_c0      984.65749 -1000.00000\n",
      "rxn01547_c0      984.65749 -1000.00000\n",
      "EX_cpd00794_e0   988.71438 -1000.00000\n",
      "rxn00605_c0      988.71438 -1000.00000\n",
      "rxn00704_c0      988.71438 -1000.00000\n",
      "rxn00119_c0      989.17174  -935.20983\n",
      "rxn00892_c0      990.97150   -18.05699\n",
      "rxn03004_c0      992.56728 -1000.00000\n",
      "rxn01297_c0      992.56728  -984.65749\n",
      "rxn01484_c0      995.48575 -1000.00000\n",
      "EX_cpd00438_e0   995.66256 -1000.00000\n",
      "EX_cpd00654_e0   995.66256 -1000.00000\n",
      "rxn10060_c0      996.29706  -999.72055\n",
      "rxn08815_c0      997.11715 -1000.00000\n",
      "rxn08850_c0      997.11715 -1000.00000\n",
      "rxn09142_c0      997.11715 -1000.00000\n",
      "rxn09163_c0      997.11715 -1000.00000\n",
      "EX_cpd00184_e0   997.71585    -2.89163\n",
      "rxn00213_c0      997.74288  -990.97150\n",
      "rxn09562_c0      998.55419  -984.65749\n",
      "rxn00409_c0      998.55419  -925.82739\n",
      "EX_cpd00007_e0   998.67263 -1000.00000\n",
      "rxn08843_c0      999.03905 -1000.00000\n",
      "...                    ...         ...\n",
      "rxn09157_c0     1000.00000 -1000.00000\n",
      "rxn09158_c0     1000.00000 -1000.00000\n",
      "rxn09159_c0     1000.00000 -1000.00000\n",
      "rxn09161_c0     1000.00000 -1000.00000\n",
      "rxn09162_c0     1000.00000 -1000.00000\n",
      "rxn09164_c0     1000.00000 -1000.00000\n",
      "rxn09188_c0     1000.00000 -1000.00000\n",
      "rxn09240_c0     1000.00000 -1000.00000\n",
      "rxn09272_c0     1000.00000 -1000.00000\n",
      "rxn10042_c0     1000.00000 -1000.00000\n",
      "rxn10043_c0     1000.00000 -1000.00000\n",
      "rxn10121_c0     1000.00000 -1000.00000\n",
      "rxn10122_c0     1000.00000 -1000.00000\n",
      "rxn10125_c0     1000.00000 -1000.00000\n",
      "rxn10152_c0     1000.00000 -1000.00000\n",
      "rxn10153_c0     1000.00000 -1000.00000\n",
      "rxn10154_c0     1000.00000 -1000.00000\n",
      "rxn10184_c0     1000.00000 -1000.00000\n",
      "rxn10770_c0     1000.00000 -1000.00000\n",
      "rxn10945_c0     1000.00000 -1000.00000\n",
      "rxn11040_c0     1000.00000 -1000.00000\n",
      "rxn12191_c0     1000.00000 -1000.00000\n",
      "rxn03536_c0     1000.00000  -999.72055\n",
      "rxn04413_c0     1000.00000  -999.72055\n",
      "EX_cpd00412_e0  1000.00000  -999.16166\n",
      "rxn05468_c0     1000.00000  -998.67263\n",
      "rxn01143_c0     1000.00000  -997.71585\n",
      "rxn00077_c0     1000.00000  -996.01762\n",
      "rxn01512_c0     1000.00000  -996.01762\n",
      "rxn01517_c0     1000.00000  -995.66256\n",
      "rxn01518_c0     1000.00000  -995.66256\n",
      "rxn01678_c0     1000.00000  -995.66256\n",
      "rxn05205_c0     1000.00000  -995.66256\n",
      "rxn05317_c0     1000.00000  -995.66256\n",
      "rxn00175_c0     1000.00000  -995.48575\n",
      "rxn01211_c0     1000.00000  -992.56728\n",
      "rxn02005_c0     1000.00000  -988.71438\n",
      "rxn00239_c0     1000.00000  -983.21168\n",
      "rxn00839_c0     1000.00000  -983.21168\n",
      "rxn00707_c0     1000.00000  -967.42433\n",
      "rxn05198_c0     1000.00000  -967.42433\n",
      "rxn00785_c0     1000.00000  -965.29763\n",
      "rxn05318_c0     1000.00000  -964.43873\n",
      "rxn10151_c0     1000.00000  -963.75136\n",
      "rxn00134_c0     1000.00000  -963.32094\n",
      "rxn02186_c0     1000.00000  -933.77562\n",
      "rxn02187_c0     1000.00000  -933.77562\n",
      "rxn00364_c0     1000.00000  -924.38157\n",
      "rxn01871_c0     1000.00000  -904.26649\n",
      "rxn01241_c0     1000.00000  -176.09180\n",
      "\n",
      "[335 rows x 2 columns]\n",
      "335\n"
     ]
    }
   ],
   "source": [
    "import numpy\n",
    "\n",
    "fva_df_sort_equal = fva_df_sort[(fva_df_sort[\"maximum\"] > 0) & (fva_df_sort[\"minimum\"] < 0)]\n",
    "print(fva_df_sort_equal)\n",
    "print(len(fva_df_sort_equal))"
   ]
  },
  {
   "cell_type": "code",
   "execution_count": 22,
   "metadata": {
    "collapsed": false,
    "nbpresent": {
     "id": "f8516322-89f8-45d5-aaff-c16efa62c6a8"
    },
    "scrolled": true
   },
   "outputs": [
    {
     "name": "stdout",
     "output_type": "stream",
     "text": [
      "PRODUCING REACTIONS -- NADH_c0\n",
      "------------------------------\n",
      "  %                FLUX   RXN ID                        REACTION                       \n",
      "  6.8%   0.00 ± 1000.00 rxn10...   cpd00004_c0 + 4.5 cpd00067_c0 + cpd15560_c0 <=> c...\n",
      "  6.8%   0.00 ± 1000.00 rxn01...   cpd00003_c0 + cpd00842_c0 <=> cpd00004_c0 + cpd00...\n",
      "  6.8%  800.00 ± 200.00 rxn00...   cpd00003_c0 + cpd00009_c0 + cpd00102_c0 <=> cpd00...\n",
      "  6.8%   0.00 ± 1000.00 rxn04...   cpd00003_c0 + cpd09879_c0 <=> cpd00004_c0 + cpd00...\n",
      "  6.8%   0.00 ± 1000.00 rxn00...   cpd00003_c0 + cpd00159_c0 <=> cpd00004_c0 + cpd00...\n",
      "  6.8%   0.00 ± 1000.00 rxn01...   cpd00003_c0 + cpd00227_c0 <=> cpd00004_c0 + cpd00...\n",
      "  6.8%   0.00 ± 1000.00 rxn00...   cpd00003_c0 + cpd00130_c0 <=> cpd00004_c0 + cpd00...\n",
      "  6.8%   0.00 ± 1000.00 rxn10...   cpd00004_c0 + cpd00006_c0 + 2.0 cpd00067_e0 <=> c...\n",
      "  6.8%   0.00 ± 1000.00 rxn05...   cpd00001_c0 + cpd00003_c0 + cpd03077_c0 <=> cpd00...\n",
      "  6.8%   0.00 ± 1000.00 rxn05...   cpd00001_c0 + cpd00003_c0 + cpd03333_c0 <=> cpd00...\n",
      "  6.8%   0.00 ± 1000.00 rxn03...   cpd00001_c0 + cpd00003_c0 + cpd01733_c0 <=> cpd00...\n",
      "  6.7%   0.00 ± 1000.00 rxn08...   cpd00003_c0 + cpd00010_c0 + cpd00024_c0 <=> cpd00...\n",
      "  6.6%   0.00 ± 1000.00 rxn00...   cpd00003_c0 + cpd00129_c0 <=> cpd00004_c0 + 2.0 c...\n",
      "  6.6%   0.00 ± 1000.00 rxn00...   2.0 cpd00001_c0 + cpd00003_c0 + cpd02431_c0 <=> c...\n",
      "  2.6%  411.95 ± 588.05 rxn01...   cpd00003_c0 + cpd00449_c0 <=> cpd00004_c0 + cpd00...\n",
      "  1.5%   0.00 ± 1000.00 rxn00...   cpd00001_c0 + cpd00003_c0 + cpd00023_c0 <=> cpd00...\n",
      "\n",
      "CONSUMING REACTIONS -- NADH_c0\n",
      "------------------------------\n",
      "  %                FLUX   RXN ID                        REACTION                       \n",
      " 13.9%  500.00 ± 500.00 rxn00...   3.0 cpd00004_c0 + 5.0 cpd00067_c0 + cpd00075_c0 -...\n",
      "  6.8%   0.00 ± 1000.00 rxn11...   cpd00003_c0 + cpd00284_c0 <=> cpd00004_c0 + cpd00...\n",
      "  6.8%   0.00 ± 1000.00 rxn00...   cpd00003_c0 + cpd00139_c0 <=> cpd00004_c0 + cpd00...\n",
      "  6.8%   0.00 ± 1000.00 rxn00...   cpd00003_c0 + cpd00005_c0 <=> cpd00004_c0 + cpd00...\n",
      "  6.8%   0.00 ± 1000.00 rxn03...   cpd00003_c0 + cpd02427_c0 <=> cpd00004_c0 + cpd00...\n",
      "  6.8%  -20.73 ± 979.27 rxn01...   cpd00001_c0 + cpd00003_c0 + cpd00322_c0 <=> cpd00...\n",
      "  6.8%   0.00 ± 1000.00 rxn03...   cpd00001_c0 + cpd00003_c0 + cpd03365_c0 <=> cpd00...\n",
      "  6.8%   0.00 ± 1000.00 rxn04...   cpd00003_c0 + cpd00345_c0 <=> cpd00004_c0 + cpd00...\n",
      "  6.8%  -32.18 ± 967.82 rxn00...   cpd00001_c0 + cpd00003_c0 + cpd00107_c0 <=> cpd00...\n",
      "  6.8%   0.00 ± 1000.00 rxn10...   cpd00003_c0 + cpd00098_c0 <=> cpd00004_c0 + cpd00...\n",
      "  6.7%   0.00 ± 1000.00 rxn00...   cpd00003_c0 + cpd00033_c0 + cpd00087_c0 <=> cpd00...\n",
      "  6.3%   0.00 ± 1000.00 rxn03...   cpd00003_c0 + cpd00804_c0 <=> cpd00004_c0 + cpd00...\n",
      "  5.1%   -0.56 ± 999.44 rxn00...   cpd00003_c0 + cpd00010_c0 + cpd00191_c0 <=> cpd00...\n",
      "  4.9%   0.00 ± 1000.00 rxn00...   cpd00003_c0 + cpd00080_c0 <=> cpd00004_c0 + cpd00...\n"
     ]
    }
   ],
   "source": [
    "xam_model.metabolites.cpd00004_c0.summary(fva=0.95)"
   ]
  },
  {
   "cell_type": "markdown",
   "metadata": {
    "nbpresent": {
     "id": "9d26ee0c-053a-4cca-97b0-afdad5780207"
    }
   },
   "source": [
    "### pFBA"
   ]
  },
  {
   "cell_type": "code",
   "execution_count": 23,
   "metadata": {
    "collapsed": true,
    "nbpresent": {
     "id": "1add68ed-7042-4b00-84b4-7b4110bccbb3"
    }
   },
   "outputs": [],
   "source": [
    "pFBA_sol = cobra.flux_analysis.optimize_minimal_flux(xam_model)"
   ]
  },
  {
   "cell_type": "code",
   "execution_count": 24,
   "metadata": {
    "collapsed": false,
    "nbpresent": {
     "id": "c2418a0f-1b6f-477a-9483-d02d75d88368"
    }
   },
   "outputs": [
    {
     "data": {
      "text/plain": [
       "2.5579538487363607e-13"
      ]
     },
     "execution_count": 24,
     "metadata": {},
     "output_type": "execute_result"
    }
   ],
   "source": [
    "abs(FBA_sol.f - pFBA_sol.f)"
   ]
  },
  {
   "cell_type": "code",
   "execution_count": 25,
   "metadata": {
    "collapsed": false,
    "nbpresent": {
     "id": "6b35d368-3b87-42b6-9fdf-3d0d6a97bbac"
    }
   },
   "outputs": [
    {
     "data": {
      "text/plain": [
       "'GramNegativeBiomass_auto_biomass'"
      ]
     },
     "execution_count": 25,
     "metadata": {},
     "output_type": "execute_result"
    }
   ],
   "source": [
    "xam_model.reactions.biomass0.name"
   ]
  }
 ],
 "metadata": {
  "anaconda-cloud": {},
  "kernelspec": {
   "display_name": "Python [conda env:python2]",
   "language": "python",
   "name": "conda-env-python2-py"
  },
  "language_info": {
   "codemirror_mode": {
    "name": "ipython",
    "version": 2
   },
   "file_extension": ".py",
   "mimetype": "text/x-python",
   "name": "python",
   "nbconvert_exporter": "python",
   "pygments_lexer": "ipython2",
   "version": "2.7.12"
  },
  "nbpresent": {
   "slides": {
    "119309f6-cd6f-476d-8ed7-e0e675a60c38": {
     "id": "119309f6-cd6f-476d-8ed7-e0e675a60c38",
     "prev": "4f24e721-cf11-4e3b-b115-f35167ae34a2",
     "regions": {
      "2d74ddc0-9eef-4ad9-8a22-cfb7759ce808": {
       "attrs": {
        "height": 0.8,
        "width": 0.8,
        "x": 0.1,
        "y": 0.1
       },
       "content": {
        "cell": "e0a579e0-a8f3-48a5-ba04-a67c34d92958",
        "part": "whole"
       },
       "id": "2d74ddc0-9eef-4ad9-8a22-cfb7759ce808"
      }
     }
    },
    "1f0d93ec-01b2-4ffb-8abe-3386176fc5cd": {
     "id": "1f0d93ec-01b2-4ffb-8abe-3386176fc5cd",
     "prev": "3339cae2-b882-47dd-b557-ede244d76cf1",
     "regions": {
      "dc718618-d852-49f5-96b7-36bac32c1b89": {
       "attrs": {
        "height": 0.8,
        "width": 0.8,
        "x": 0.1,
        "y": 0.1
       },
       "content": {
        "cell": "210ef375-0724-46ae-b5f7-d5aadc32df11",
        "part": "whole"
       },
       "id": "dc718618-d852-49f5-96b7-36bac32c1b89"
      }
     }
    },
    "26a6df42-71f6-4e37-b682-8e3ab2ef16db": {
     "id": "26a6df42-71f6-4e37-b682-8e3ab2ef16db",
     "prev": "119309f6-cd6f-476d-8ed7-e0e675a60c38",
     "regions": {
      "8eb2843f-de53-4bae-9385-c6c1ad94d8b8": {
       "attrs": {
        "height": 0.8,
        "width": 0.8,
        "x": 0.1,
        "y": 0.1
       },
       "content": {
        "cell": "b88f9111-ba96-4573-b358-ec290ba123db",
        "part": "whole"
       },
       "id": "8eb2843f-de53-4bae-9385-c6c1ad94d8b8"
      }
     }
    },
    "296ab81d-9ede-447b-99f4-239669289a70": {
     "id": "296ab81d-9ede-447b-99f4-239669289a70",
     "prev": "fd276e80-641c-44fa-8ceb-96c9fc2111c4",
     "regions": {
      "89016892-b240-4726-9ec6-9e5fabfed28d": {
       "attrs": {
        "height": 0.8,
        "width": 0.8,
        "x": 0.1,
        "y": 0.1
       },
       "content": {
        "cell": "aea6a92f-03de-4f66-8ee0-1a44672d6dad",
        "part": "whole"
       },
       "id": "89016892-b240-4726-9ec6-9e5fabfed28d"
      }
     }
    },
    "2c35c218-f927-4b63-892b-1d98a09f0a47": {
     "id": "2c35c218-f927-4b63-892b-1d98a09f0a47",
     "prev": "f0a5b65c-42b1-4395-a9a3-8b92d148d5a5",
     "regions": {
      "3a4ae935-2d4d-40c4-a228-e318f47f0cc4": {
       "attrs": {
        "height": 0.8,
        "width": 0.8,
        "x": 0.1,
        "y": 0.1
       },
       "content": {
        "cell": "69f66504-6d49-4d8c-a5a3-ab8f921f4dbf",
        "part": "whole"
       },
       "id": "3a4ae935-2d4d-40c4-a228-e318f47f0cc4"
      }
     }
    },
    "3339cae2-b882-47dd-b557-ede244d76cf1": {
     "id": "3339cae2-b882-47dd-b557-ede244d76cf1",
     "prev": "d93a2e1b-930d-4f81-96ac-0dabd7a6b3be",
     "regions": {
      "0be80782-98b7-4837-985a-ceebe1f31ab8": {
       "attrs": {
        "height": 0.8,
        "width": 0.8,
        "x": 0.1,
        "y": 0.1
       },
       "content": {
        "cell": "45ce90e6-c867-4814-a6a7-6329cb44b38c",
        "part": "whole"
       },
       "id": "0be80782-98b7-4837-985a-ceebe1f31ab8"
      }
     }
    },
    "473c19a5-af0a-4222-b915-39d31cc98024": {
     "id": "473c19a5-af0a-4222-b915-39d31cc98024",
     "prev": "81ab21ea-cc12-4a8d-875a-058afc358892",
     "regions": {
      "fd1a8f14-23e8-4245-97e0-9f85e8cdccc2": {
       "attrs": {
        "height": 0.8,
        "width": 0.8,
        "x": 0.1,
        "y": 0.1
       },
       "content": {
        "cell": "736496c3-d272-43f4-bb80-815c3f55bc01",
        "part": "whole"
       },
       "id": "fd1a8f14-23e8-4245-97e0-9f85e8cdccc2"
      }
     }
    },
    "4aefdb87-52f6-467e-8153-ecb986a1b3bd": {
     "id": "4aefdb87-52f6-467e-8153-ecb986a1b3bd",
     "prev": "7a25e160-8802-4dd0-9e5c-787fa9e1254d",
     "regions": {
      "834d450e-80b9-41cb-b20d-8664b7c35ef6": {
       "attrs": {
        "height": 0.8,
        "width": 0.8,
        "x": 0.1,
        "y": 0.1
       },
       "content": {
        "cell": "62bfbed0-e99c-489c-bee1-1c545b713de0",
        "part": "whole"
       },
       "id": "834d450e-80b9-41cb-b20d-8664b7c35ef6"
      }
     }
    },
    "4f24e721-cf11-4e3b-b115-f35167ae34a2": {
     "id": "4f24e721-cf11-4e3b-b115-f35167ae34a2",
     "prev": "cfb55e8d-3741-4520-a19c-e6e8e168e04c",
     "regions": {
      "573bd6d9-0889-49ff-821b-9fd7f35b7b9a": {
       "attrs": {
        "height": 0.8,
        "width": 0.8,
        "x": 0.1,
        "y": 0.1
       },
       "content": {
        "cell": "ba77a9e9-8b01-44e7-8566-4c938698ba58",
        "part": "whole"
       },
       "id": "573bd6d9-0889-49ff-821b-9fd7f35b7b9a"
      }
     }
    },
    "5f68fab9-9bea-4705-9d54-b207c88c789d": {
     "id": "5f68fab9-9bea-4705-9d54-b207c88c789d",
     "prev": "1f0d93ec-01b2-4ffb-8abe-3386176fc5cd",
     "regions": {
      "59596a12-a94f-47e7-994c-90752c4c865e": {
       "attrs": {
        "height": 0.8,
        "width": 0.8,
        "x": 0.1,
        "y": 0.1
       },
       "content": {
        "cell": "f8516322-89f8-45d5-aaff-c16efa62c6a8",
        "part": "whole"
       },
       "id": "59596a12-a94f-47e7-994c-90752c4c865e"
      }
     }
    },
    "6dbb033b-5093-40ca-8ac5-f6ab580cf58c": {
     "id": "6dbb033b-5093-40ca-8ac5-f6ab580cf58c",
     "prev": "296ab81d-9ede-447b-99f4-239669289a70",
     "regions": {
      "477b03bd-7641-4bc1-a654-f8b4a8683d88": {
       "attrs": {
        "height": 0.8,
        "width": 0.8,
        "x": 0.1,
        "y": 0.1
       },
       "content": {
        "cell": "b7d6bd13-ed7a-43a6-b878-6a84fc5e4934",
        "part": "whole"
       },
       "id": "477b03bd-7641-4bc1-a654-f8b4a8683d88"
      }
     }
    },
    "798ed030-9d8d-48f8-a76d-431db0078628": {
     "id": "798ed030-9d8d-48f8-a76d-431db0078628",
     "prev": "b95488ca-82f5-44c2-a7fa-d4d55b49c12a",
     "regions": {
      "d7e0e304-2d2c-4422-ab9e-c05675862a9c": {
       "attrs": {
        "height": 0.8,
        "width": 0.8,
        "x": 0.1,
        "y": 0.1
       },
       "content": {
        "cell": "74944b1c-2e67-4d31-8c8a-895d6440eb76",
        "part": "whole"
       },
       "id": "d7e0e304-2d2c-4422-ab9e-c05675862a9c"
      }
     }
    },
    "79f8cc4f-4a1c-4ba8-a878-ebb589c64cfd": {
     "id": "79f8cc4f-4a1c-4ba8-a878-ebb589c64cfd",
     "prev": "de1afcbc-2732-4dbc-8f98-dbf2b32e9ee7",
     "regions": {
      "25e8ae73-2f1f-4a23-823b-448d9319836d": {
       "attrs": {
        "height": 0.8,
        "width": 0.8,
        "x": 0.1,
        "y": 0.1
       },
       "content": {
        "cell": "60a77757-d3fc-43dc-9156-af6c9e843585",
        "part": "whole"
       },
       "id": "25e8ae73-2f1f-4a23-823b-448d9319836d"
      }
     }
    },
    "7a25e160-8802-4dd0-9e5c-787fa9e1254d": {
     "id": "7a25e160-8802-4dd0-9e5c-787fa9e1254d",
     "prev": "88b5395c-7cad-4c15-ae3c-6160e9b3c4f9",
     "regions": {
      "efb32268-a6a0-44b3-9810-e97c1f64502b": {
       "attrs": {
        "height": 0.8,
        "width": 0.8,
        "x": 0.1,
        "y": 0.1
       },
       "content": {
        "cell": "6b35d368-3b87-42b6-9fdf-3d0d6a97bbac",
        "part": "whole"
       },
       "id": "efb32268-a6a0-44b3-9810-e97c1f64502b"
      }
     }
    },
    "7b683c5c-242b-436f-8bc2-aabae863af63": {
     "id": "7b683c5c-242b-436f-8bc2-aabae863af63",
     "prev": "5f68fab9-9bea-4705-9d54-b207c88c789d",
     "regions": {
      "f45d084d-125d-48fa-b5ce-d4c9365bf257": {
       "attrs": {
        "height": 0.8,
        "width": 0.8,
        "x": 0.1,
        "y": 0.1
       },
       "content": {
        "cell": "9d26ee0c-053a-4cca-97b0-afdad5780207",
        "part": "whole"
       },
       "id": "f45d084d-125d-48fa-b5ce-d4c9365bf257"
      }
     }
    },
    "81ab21ea-cc12-4a8d-875a-058afc358892": {
     "id": "81ab21ea-cc12-4a8d-875a-058afc358892",
     "prev": null,
     "regions": {
      "789630a2-c92d-411e-a1ac-47e46087ef93": {
       "attrs": {
        "height": 0.8,
        "width": 0.8,
        "x": 0.1183727034120734,
        "y": 0.1093321668124818
       },
       "content": {
        "cell": "fc845f2d-32cd-4d1a-b494-86ca667a869f",
        "part": "whole"
       },
       "id": "789630a2-c92d-411e-a1ac-47e46087ef93"
      }
     }
    },
    "87c97b20-4696-4dd5-83d0-b0f98d993767": {
     "id": "87c97b20-4696-4dd5-83d0-b0f98d993767",
     "prev": "7b683c5c-242b-436f-8bc2-aabae863af63",
     "regions": {
      "857bac9c-0285-478d-b03a-04a01f1b8bbe": {
       "attrs": {
        "height": 0.8,
        "width": 0.8,
        "x": 0.1,
        "y": 0.1
       },
       "content": {
        "cell": "1add68ed-7042-4b00-84b4-7b4110bccbb3",
        "part": "whole"
       },
       "id": "857bac9c-0285-478d-b03a-04a01f1b8bbe"
      }
     }
    },
    "88b5395c-7cad-4c15-ae3c-6160e9b3c4f9": {
     "id": "88b5395c-7cad-4c15-ae3c-6160e9b3c4f9",
     "prev": "87c97b20-4696-4dd5-83d0-b0f98d993767",
     "regions": {
      "9a12123f-c796-4e93-85c4-aa38f711b652": {
       "attrs": {
        "height": 0.8,
        "width": 0.8,
        "x": 0.1,
        "y": 0.1
       },
       "content": {
        "cell": "c2418a0f-1b6f-477a-9483-d02d75d88368",
        "part": "whole"
       },
       "id": "9a12123f-c796-4e93-85c4-aa38f711b652"
      }
     }
    },
    "a9c9af89-4ca1-486e-ab81-fadbc08b0109": {
     "id": "a9c9af89-4ca1-486e-ab81-fadbc08b0109",
     "prev": "79f8cc4f-4a1c-4ba8-a878-ebb589c64cfd",
     "regions": {
      "50038137-5bb0-455c-b165-49f8020fe834": {
       "attrs": {
        "height": 0.8,
        "width": 0.8,
        "x": 0.1,
        "y": 0.1
       },
       "content": {
        "cell": "346c8ec9-460b-45f6-915d-8b778c391dcd",
        "part": "whole"
       },
       "id": "50038137-5bb0-455c-b165-49f8020fe834"
      }
     }
    },
    "b95488ca-82f5-44c2-a7fa-d4d55b49c12a": {
     "id": "b95488ca-82f5-44c2-a7fa-d4d55b49c12a",
     "prev": "f12b0790-304d-4796-8ba4-c9bdd37ee5af",
     "regions": {
      "70d5b23f-3c05-472c-a8c8-7aeb81e3a1c9": {
       "attrs": {
        "height": 0.8,
        "width": 0.8,
        "x": 0.1,
        "y": 0.1
       },
       "content": {
        "cell": "817241a2-c398-4632-a863-a1bd2ef14f84",
        "part": "whole"
       },
       "id": "70d5b23f-3c05-472c-a8c8-7aeb81e3a1c9"
      }
     }
    },
    "cfb55e8d-3741-4520-a19c-e6e8e168e04c": {
     "id": "cfb55e8d-3741-4520-a19c-e6e8e168e04c",
     "prev": "798ed030-9d8d-48f8-a76d-431db0078628",
     "regions": {
      "8a997241-d26a-42cd-a2ca-1e7b32569708": {
       "attrs": {
        "height": 0.8,
        "width": 0.8,
        "x": 0.1,
        "y": 0.1
       },
       "content": {
        "cell": "5db83ade-e88e-4809-8450-ff32bffb9efd",
        "part": "whole"
       },
       "id": "8a997241-d26a-42cd-a2ca-1e7b32569708"
      }
     }
    },
    "d93a2e1b-930d-4f81-96ac-0dabd7a6b3be": {
     "id": "d93a2e1b-930d-4f81-96ac-0dabd7a6b3be",
     "prev": "26a6df42-71f6-4e37-b682-8e3ab2ef16db",
     "regions": {
      "85443726-e5e9-42c1-9ce6-4668197197fd": {
       "attrs": {
        "height": 0.8,
        "width": 0.8,
        "x": 0.1,
        "y": 0.1
       },
       "content": {
        "cell": "32d20010-cb86-4f1f-9bcf-7f3fdee58fd2",
        "part": "whole"
       },
       "id": "85443726-e5e9-42c1-9ce6-4668197197fd"
      }
     }
    },
    "de1afcbc-2732-4dbc-8f98-dbf2b32e9ee7": {
     "id": "de1afcbc-2732-4dbc-8f98-dbf2b32e9ee7",
     "prev": "473c19a5-af0a-4222-b915-39d31cc98024",
     "regions": {
      "f4eec18b-bbc1-4c29-a659-d5d58450a346": {
       "attrs": {
        "height": 0.8,
        "width": 0.8,
        "x": 0.1,
        "y": 0.1
       },
       "content": {
        "cell": "f1433caf-87c4-43d1-9d6b-e2205053a60e",
        "part": "whole"
       },
       "id": "f4eec18b-bbc1-4c29-a659-d5d58450a346"
      }
     }
    },
    "f0a5b65c-42b1-4395-a9a3-8b92d148d5a5": {
     "id": "f0a5b65c-42b1-4395-a9a3-8b92d148d5a5",
     "prev": "a9c9af89-4ca1-486e-ab81-fadbc08b0109",
     "regions": {
      "c6894fc4-9e26-4c7a-9445-955be2bbad7f": {
       "attrs": {
        "height": 0.8,
        "width": 0.8,
        "x": 0.1,
        "y": 0.1
       },
       "content": {
        "cell": "05aba8c4-a2d9-4139-b870-027435f4da5d",
        "part": "whole"
       },
       "id": "c6894fc4-9e26-4c7a-9445-955be2bbad7f"
      }
     }
    },
    "f12b0790-304d-4796-8ba4-c9bdd37ee5af": {
     "id": "f12b0790-304d-4796-8ba4-c9bdd37ee5af",
     "prev": "6dbb033b-5093-40ca-8ac5-f6ab580cf58c",
     "regions": {
      "3e2aeec1-1832-4ea6-8788-35e12aef13d9": {
       "attrs": {
        "height": 0.8,
        "width": 0.8,
        "x": 0.1,
        "y": 0.1
       },
       "content": {
        "cell": "13994332-a0ee-4332-9987-f800ba181fa7",
        "part": "whole"
       },
       "id": "3e2aeec1-1832-4ea6-8788-35e12aef13d9"
      }
     }
    },
    "fd276e80-641c-44fa-8ceb-96c9fc2111c4": {
     "id": "fd276e80-641c-44fa-8ceb-96c9fc2111c4",
     "prev": "2c35c218-f927-4b63-892b-1d98a09f0a47",
     "regions": {
      "07bb5d3d-3cce-42b1-986b-d59c45f99aca": {
       "attrs": {
        "height": 0.8,
        "width": 0.8,
        "x": 0.1,
        "y": 0.1
       },
       "content": {
        "cell": "05b10ec2-40b5-4790-a542-5db4c66a6fbe",
        "part": "whole"
       },
       "id": "07bb5d3d-3cce-42b1-986b-d59c45f99aca"
      }
     }
    }
   },
   "themes": {}
  }
 },
 "nbformat": 4,
 "nbformat_minor": 0
}
