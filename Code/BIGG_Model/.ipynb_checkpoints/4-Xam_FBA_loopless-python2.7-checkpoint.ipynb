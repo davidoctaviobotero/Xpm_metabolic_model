{
 "cells": [
  {
   "cell_type": "code",
   "execution_count": 4,
   "metadata": {},
   "outputs": [],
   "source": [
    "import cobra\n",
    "import os\n",
    "from os.path import join\n",
    "from cobra.flux_analysis import calculate_phenotype_phase_plane\n",
    "import pandas\n",
    "pandas.options.display.max_rows = 100\n",
    "\n",
    "data_dir = \"/Users/david/Dropbox (UCSD SBRG)/Xam_Multistrain_Recon/Metabolic_model/BiGG_Model/\"\n",
    "xam_model = cobra.io.read_sbml_model(join(data_dir, \"Xam_Biomass&Xanthan(completed_sep26)_model.xml\"))\n",
    "\n",
    "import matplotlib\n",
    "#matplotlib.style.use('ggplot')\n",
    "import matplotlib.pyplot as plt\n",
    "%matplotlib inline\n",
    "\n",
    "from IPython.display import set_matplotlib_formats\n",
    "set_matplotlib_formats('png', 'pdf')\n",
    "from time import time\n",
    "\n",
    "import pandas\n",
    "pandas.options.display.max_rows = 300\n",
    "\n",
    "from cobra.flux_analysis.loopless import construct_loopless_model"
   ]
  },
  {
   "cell_type": "markdown",
   "metadata": {},
   "source": [
    "### Original model"
   ]
  },
  {
   "cell_type": "code",
   "execution_count": 5,
   "metadata": {},
   "outputs": [
    {
     "name": "stdout",
     "output_type": "stream",
     "text": [
      "1556\n",
      "1527\n",
      "890\n"
     ]
    }
   ],
   "source": [
    "print (len(xam_model.reactions))\n",
    "print (len(xam_model.metabolites))\n",
    "print (len(xam_model.genes))"
   ]
  },
  {
   "cell_type": "code",
   "execution_count": 6,
   "metadata": {
    "scrolled": true
   },
   "outputs": [
    {
     "name": "stdout",
     "output_type": "stream",
     "text": [
      "EX_2ddglcn_e\t2ddglcn_e --> \t0.0\t1000\n",
      "EX_4hbz_e\t4hbz_e <=> \t-10.0\t1000\n",
      "EX_ac_e\tac_e --> \t0.0\t1000\n",
      "EX_acald_e\tacald_e --> \t0.0\t1000\n",
      "EX_acgam_e\tacgam_e --> \t0.0\t1000\n",
      "EX_adn_e\tadn_e --> \t0.0\t1000\n",
      "EX_akg_e\takg_e --> \t0.0\t1000\n",
      "EX_ala__D_e\tala__D_e --> \t0.0\t1000\n",
      "EX_arab__L_e\tarab__L_e --> \t0.0\t0\n",
      "EX_arbt_e\tarbt_e --> \t0.0\t1000\n",
      "EX_arg__L_e\targ__L_e <=> \t-10.0\t1000\n",
      "EX_ASPt5n_e\tasp__L_e --> \t0.0\t1000\n",
      "EX_Biomass_e\tBIOMASS_c --> \t0.0\t1000\n",
      "EX_ca2_e\tca2_e <=> \t-10.0\t1000\n",
      "EX_cbl1_e\tcbl1_e --> \t0.0\t1000\n",
      "EX_cd2_e\tcd2_e --> \t0.0\t1000\n",
      "EX_chol_e\tchol_e --> \t0.0\t1000\n",
      "EX_cit_e\tcit_e --> \t0.0\t1000\n",
      "EX_cl_e\tcl_e <=> \t-10.0\t1000\n",
      "EX_co2_e\tco2_e --> \t0.0\t1000\n",
      "EX_cobalt2_e\tcobalt2_e <=> \t-10.0\t1000\n",
      "EX_cu2_e\tcu2_e <=> \t-10.0\t1000\n",
      "EX_cytd_e\tcytd_e --> \t0.0\t1000\n",
      "EX_dad_2_e\tdad_2_e --> \t0.0\t1000\n",
      "EX_dcyt_e\tdcyt_e --> \t0.0\t1000\n",
      "EX_dgsn_e\tdgsn_e --> \t0.0\t1000\n",
      "EX_din_e\tdin_e --> \t0.0\t1000\n",
      "EX_DNA_e\tdna_c <-- \t-10.0\t0\n",
      "EX_duri_e\tduri_e --> \t0.0\t1000\n",
      "EX_etha_e\tetha_e --> \t0.0\t1000\n",
      "EX_etoh_e\tetoh_e --> \t0.0\t1000\n",
      "EX_fe2_e\tfe2_e <=> \t-10.0\t1000\n",
      "EX_fe3_e\tfe3_e <=> \t-10.0\t1000\n",
      "EX_for_e\tfor_e --> \t0.0\t1000\n",
      "EX_fru_e\tfru_e --> \t0.0\t0\n",
      "EX_fum_e\tfum_e --> \t0.0\t1000\n",
      "EX_galt_e\tgalt_e --> \t0.0\t1000\n",
      "EX_galur_e\tgalur_e --> \t0.0\t1000\n",
      "EX_gam_e\tgam_e --> \t0.0\t1000\n",
      "EX_glc__D_e\tglc__D_e <-- \t-10.0\t0\n",
      "EX_glcur_e\tglcur_e --> \t0.0\t1000\n",
      "EX_gln__L_e\tgln__L_e --> \t0.0\t1000\n",
      "EX_glu__L_e\tglu__L_e --> \t0.0\t1000\n",
      "EX_gly_e\tgly_e --> \t0.0\t1000\n",
      "EX_glyb_e\tglyb_e --> \t0.0\t1000\n",
      "EX_glyc_e\tglyc_e --> \t0.0\t1000\n",
      "EX_glycogen_e\tglycogen_c --> \t0.0\t1000\n",
      "EX_h_e\th_e <=> \t-10.0\t1000\n",
      "EX_h2o_e\th2o_e <=> \t-10.0\t1000\n",
      "EX_hdca_e\thdca_e --> \t0.0\t1000\n",
      "EX_hxan_e\thxan_e --> \t0.0\t1000\n",
      "EX_ins_e\tins_e --> \t0.0\t1000\n",
      "EX_k_e\tk_e <=> \t-10.0\t1000\n",
      "EX_lys__L_e\tlys__L_e <=> \t-10.0\t1000\n",
      "EX_mal__L_e\tmal__L_e --> \t0.0\t0\n",
      "EX_malt_e\tmalt_e --> \t0.0\t0\n",
      "EX_man_e\tman_e --> \t0.0\t0\n",
      "EX_met__D_e\tmet__D_e --> \t0.0\t1000\n",
      "EX_met__L_e\tmet__L_e --> \t0.0\t1000\n",
      "EX_metox__R_e\tmetox__R_e --> \t0.0\t1000\n",
      "EX_metsox_S__L_e\tmetsox_S__L_e --> \t0.0\t1000\n",
      "EX_mg2_e\tmg2_e <=> \t-10.0\t1000\n",
      "EX_mn2_e\tmn2_e <=> \t-10.0\t1000\n",
      "EX_mqn7_e\tmqn7_e <=> \t-10.0\t1000\n",
      "EX_na1_e\tna1_e --> \t0.0\t1000\n",
      "EX_nh4_e\tnh4_e --> \t0.0\t1000\n",
      "EX_nmn_e\tnmn_e <=> \t-10.0\t1000\n",
      "EX_no2_e\tno2_e --> \t0.0\t1000\n",
      "EX_no3_e\tno3_e --> \t0.0\t1000\n",
      "EX_o2_e\to2_e <=> \t-20.0\t1000\n",
      "EX_ocdca_e\tocdca_e <=> \t-10.0\t1000\n",
      "EX_orn_e\torn_e --> \t0.0\t1000\n",
      "EX_pi_e\tpi_e <=> \t-10.0\t1000\n",
      "EX_ppi_e\tppi_e --> \t0.0\t1000\n",
      "EX_pro__L_e\tpro__L_e --> \t0.0\t1000\n",
      "EX_protein_e\tprotein_c <-- \t-10.0\t0\n",
      "EX_ptrc_e\tptrc_e --> \t0.0\t1000\n",
      "EX_pyr_e\tpyr_e --> \t0.0\t1000\n",
      "EX_q8_e\tq8_e --> \t0.0\t1000\n",
      "EX_q8h2_e\tq8h2_e <=> \t-10.0\t1000\n",
      "EX_rna_c0\trna_c <-- \t-10.0\t0\n",
      "EX_salcn_e\tsalcn_e --> \t0.0\t1000\n",
      "EX_sbt__D_e\tsbt__D_e --> \t0.0\t1000\n",
      "EX_ser__D_e\tser__D_e --> \t0.0\t1000\n",
      "EX_ser__L_e\tser__L_e --> \t0.0\t1000\n",
      "EX_so4_e\tso4_e <=> \t-10.0\t1000\n",
      "EX_spmd_e\tspmd_e <=> \t-10.0\t1000\n",
      "EX_succ_e\tsucc_e --> \t0.0\t1000\n",
      "EX_sucr_e\tsucr_e --> \t0.0\t0\n",
      "EX_taur_e\ttaur_e --> \t0.0\t1000\n",
      "EX_thmmp_e\tthmmp_e <=> \t-10.0\t1000\n",
      "EX_thymd_e\tthymd_e --> \t0.0\t1000\n",
      "EX_tre_e\ttre_e --> \t0.0\t1000\n",
      "EX_trp__L_e\ttrp__L_e <=> \t-10.0\t1000\n",
      "EX_tsul_e\ttsul_e --> \t0.0\t1000\n",
      "EX_ttdca_e\tttdca_e <=> \t-10.0\t1000\n",
      "EX_uri_e\turi_e --> \t0.0\t1000\n",
      "EX_xyl__D_e\txyl__D_e --> \t0.0\t0\n",
      "EX_zn2_e\tzn2_e <=> \t-10.0\t1000\n"
     ]
    }
   ],
   "source": [
    "for i in [i.id for i in xam_model.reactions if len(i.metabolites) == 1]:\n",
    "    reaction = xam_model.reactions.get_by_id(i)\n",
    "    print('%s\\t%s\\t%s\\t%i' % (reaction.id, reaction.reaction, reaction.lower_bound, reaction.upper_bound))"
   ]
  },
  {
   "cell_type": "markdown",
   "metadata": {},
   "source": [
    "### FBA"
   ]
  },
  {
   "cell_type": "code",
   "execution_count": 7,
   "metadata": {},
   "outputs": [
    {
     "name": "stdout",
     "output_type": "stream",
     "text": [
      "<Solution 1.735 at 0x11314d710>\n"
     ]
    }
   ],
   "source": [
    "xam_model.objective = \"Biomass\"\n",
    "FBA_sol = xam_model.optimize()\n",
    "print (FBA_sol)"
   ]
  },
  {
   "cell_type": "markdown",
   "metadata": {},
   "source": [
    "### Loopless FBA"
   ]
  },
  {
   "cell_type": "code",
   "execution_count": 10,
   "metadata": {
    "collapsed": true
   },
   "outputs": [],
   "source": [
    "from cobra.flux_analysis.loopless import add_loopless, loopless_solution\n",
    "from cobra.flux_analysis import pfba"
   ]
  },
  {
   "cell_type": "code",
   "execution_count": 13,
   "metadata": {},
   "outputs": [
    {
     "name": "stdout",
     "output_type": "stream",
     "text": [
      "<Solution 580.883 at 0x1130b7210>\n"
     ]
    }
   ],
   "source": [
    "FBA_loopless_sol = loopless_solution(xam_model)\n",
    "print (FBA_loopless_sol)"
   ]
  },
  {
   "cell_type": "code",
   "execution_count": 15,
   "metadata": {
    "collapsed": true
   },
   "outputs": [],
   "source": [
    "df = pandas.DataFrame(dict(loopless=FBA_loopless_sol.fluxes, nominal=FBA_sol.fluxes))"
   ]
  },
  {
   "cell_type": "code",
   "execution_count": 16,
   "metadata": {},
   "outputs": [
    {
     "data": {
      "text/plain": [
       "<matplotlib.axes._subplots.AxesSubplot at 0x1130b70d0>"
      ]
     },
     "execution_count": 16,
     "metadata": {},
     "output_type": "execute_result"
    },
    {
     "data": {
      "application/pdf": "[encoded data removed]",
      "image/png": "[encoded data removed]",
      "text/plain": [
       "<matplotlib.figure.Figure at 0x1130b7050>"
      ]
     },
     "metadata": {},
     "output_type": "display_data"
    }
   ],
   "source": [
    "df.plot.scatter(x='loopless', y='nominal')"
   ]
  }
 ],
 "metadata": {
  "anaconda-cloud": {},
  "kernelspec": {
   "display_name": "python2.7",
   "language": "python",
   "name": "python2.7"
  },
  "language_info": {
   "codemirror_mode": {
    "name": "ipython",
    "version": 2
   },
   "file_extension": ".py",
   "mimetype": "text/x-python",
   "name": "python",
   "nbconvert_exporter": "python",
   "pygments_lexer": "ipython2",
   "version": "2.7.14"
  }
 },
 "nbformat": 4,
 "nbformat_minor": 1
}
