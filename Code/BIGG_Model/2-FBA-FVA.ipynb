{
 "cells": [
  {
   "cell_type": "markdown",
   "metadata": {
    "nbpresent": {
     "id": "fc845f2d-32cd-4d1a-b494-86ca667a869f"
    }
   },
   "source": [
    "# FBA"
   ]
  },
  {
   "cell_type": "code",
   "execution_count": 3,
   "metadata": {
    "collapsed": false,
    "nbpresent": {
     "id": "736496c3-d272-43f4-bb80-815c3f55bc01"
    }
   },
   "outputs": [],
   "source": [
    "import os\n",
    "from os.path import join\n",
    "import pandas\n",
    "pandas.options.display.max_rows = 100\n",
    "\n",
    "import cobra\n",
    "\n",
    "data_dir = \"/Users/davidbotero/Dropbox (UCSD SBRG)/Xam_Multistrain_Recon/Metabolic_model/BiGG_Model/\"\n",
    "xam_model = cobra.io.read_sbml_model(join(data_dir, \"Xam_BiGG_minmal_media.xml\"))\n",
    "\n",
    "%matplotlib inline\n",
    "import matplotlib\n",
    "matplotlib.style.use('ggplot')\n",
    "import matplotlib.pyplot as plt"
   ]
  },
  {
   "cell_type": "code",
   "execution_count": 12,
   "metadata": {
    "collapsed": false
   },
   "outputs": [
    {
     "data": {
      "text/plain": [
       "<optlang.glpk_interface.Objective at 0x122673b00>"
      ]
     },
     "execution_count": 12,
     "metadata": {},
     "output_type": "execute_result"
    }
   ],
   "source": [
    "xam_model.objective =\"Biomass\"\n",
    "xam_model.objective"
   ]
  },
  {
   "cell_type": "code",
   "execution_count": 13,
   "metadata": {
    "collapsed": false
   },
   "outputs": [
    {
     "data": {
      "text/plain": [
       "'0.003096466851925 10fthf_c + 0.003096466851925 2dmmq8_c + 0.003096466851925 5mthf_c + 0.003096466851925 ACP_c + 0.010648042134188 MNXM5124_c + 0.010648042134188 MNXM5129_c + 0.003096466851925 MNXM57_c + 0.010648042134188 MNXM6175_c + 0.010648042134188 MNXM6297_c + 0.010648042134188 MNXM6440_c + 0.010648042134188 MNXM7294_c + 0.010648042134188 MNXM7305_c + 0.025010597710894 MNXM7630_c + 0.003096466851925 adocbl_c + 0.427934380173264 ala__L_c + 0.003096466851925 amet_c + 0.246696822701341 arg__L_c + 0.200830806928348 asn__L_c + 0.200830806928348 asp__L_c + 40.1101757365074 atp_c + 0.003096466851925 ca2_c + 0.003096466851925 cl_c + 0.003096466851925 coa_c + 0.003096466851925 cobalt2_c + 0.025010597710894 colipa_c + 0.084103615654486 ctp_c + 0.003096466851925 cu2_c + 0.076146492205648 cys__L_c + 0.016020671834625 datp_c + 0.016020671834625 dctp_c + 0.016020671834625 dgtp_c + dna_c + 0.025010597710894 dtpcudcpp_c + 0.016020671834625 dttp_c + 0.003096466851925 fad_c + 0.003096466851925 fe2_c + 0.003096466851925 fe3_c + 0.219088153012743 gln__L_c + 0.219088153012743 glu__L_c + 0.509869786991038 gly_c + 0.135406821203723 gtp_c + 35.5403092430435 h2o_c + 0.079263600073716 his__L_c + 0.241798510337235 ile__L_c + 0.003096466851925 k_c + 0.375388847540127 leu__L_c + 0.285438020490179 lys__L_c + 0.127801422590767 met__L_c + 0.003096466851925 mg2_c + 0.003096466851925 mn2_c + 0.003096466851925 mqn8_c + 0.003096466851925 nad_c + 0.003096466851925 nadp_c + 0.010648042134188 pe180_c + 0.010648042134188 pg180_c + 0.154519490031345 phe__L_c + 0.003096466851925 pheme_c + 0.184354665339991 pro__L_c + protein_c + 0.003096466851925 ptrc_c + 0.003096466851925 pydx5p_c + 0.003096466851925 q8_c + 0.003096466851925 ribflv_c + rna_c + 0.179456352975885 ser__L_c + 0.003096466851925 sheme_c + 0.003096466851925 so4_c + 0.003096466851925 spmd_c + 0.003096466851925 thf_c + 0.003096466851925 thmpp_c + 0.211072732780569 thr__L_c + 0.047201919145022 trp__L_c + 0.120676604606612 tyr__L_c + 0.090831904906845 utp_c + 0.352233189091625 val__L_c + 0.003096466851925 zn2_c --> BIOMASS_c + 0.025010597710894 MNXM5258_c + 40.0 adp_c + 0.003096466851925 apoACP_c + 0.003096466851925 cbi_c + 0.003096466851925 dmbzid_c + 40.0562052099336 h_c + 39.9969035331481 pi_c + 0.484600765610933 ppi_c'"
      ]
     },
     "execution_count": 13,
     "metadata": {},
     "output_type": "execute_result"
    }
   ],
   "source": [
    "xam_model.reactions.get_by_id(\"Biomass\").reaction"
   ]
  },
  {
   "cell_type": "code",
   "execution_count": 14,
   "metadata": {
    "collapsed": false
   },
   "outputs": [
    {
     "name": "stdout",
     "output_type": "stream",
     "text": [
      "<Solution 1.735 at 0x10706e048>\n"
     ]
    }
   ],
   "source": [
    "FBA_sol = xam_model.optimize()\n",
    "print (FBA_sol)"
   ]
  },
  {
   "cell_type": "code",
   "execution_count": 18,
   "metadata": {
    "collapsed": false,
    "nbpresent": {
     "id": "60a77757-d3fc-43dc-9156-af6c9e843585"
    }
   },
   "outputs": [
    {
     "data": {
      "text/plain": [
       "1.7348947630524318"
      ]
     },
     "execution_count": 18,
     "metadata": {},
     "output_type": "execute_result"
    }
   ],
   "source": [
    "FBA_sol.objective_value"
   ]
  },
  {
   "cell_type": "code",
   "execution_count": 19,
   "metadata": {
    "collapsed": false
   },
   "outputs": [
    {
     "data": {
      "text/plain": [
       "'optimal'"
      ]
     },
     "execution_count": 19,
     "metadata": {},
     "output_type": "execute_result"
    }
   ],
   "source": [
    "FBA_sol.status"
   ]
  },
  {
   "cell_type": "code",
   "execution_count": 20,
   "metadata": {
    "collapsed": false,
    "scrolled": true
   },
   "outputs": [
    {
     "data": {
      "text/plain": [
       "10FTHFGLULL              0.000000\n",
       "2DHPFALDL                0.000000\n",
       "2HBO                     0.000000\n",
       "2OH3K5MPPISO             0.000000\n",
       "34DHOXPEGOX              0.000000\n",
       "34HPPOR                  0.000000\n",
       "3HAO                     0.000000\n",
       "3HBCOAHL                 0.000000\n",
       "3HLYTCL                  0.000000\n",
       "3OAR100                  0.000000\n",
       "3OAR120                  0.000000\n",
       "3OAR40_1                 0.000000\n",
       "3OAR60                   0.000000\n",
       "3OAR80                   0.000000\n",
       "3OAS80                   0.000000\n",
       "4ABUTD                   0.000000\n",
       "4CMLCL_kt                0.000000\n",
       "4HTHRS                   0.000000\n",
       "56DH5FLURAAMH            0.000000\n",
       "5FLURAPRT                0.000000\n",
       "5HLTDL                   0.000000\n",
       "5HXKYNDCL                0.000000\n",
       "A5PISO                  -0.130172\n",
       "AACOAR_syn               0.000000\n",
       "AACOAT                   0.000000\n",
       "AASPh                    0.000000\n",
       "ABUTD                    0.000000\n",
       "ACACT1                  -0.147786\n",
       "ACACT10m                 0.000000\n",
       "ACACT2                   0.000000\n",
       "ACACT3                   0.000000\n",
       "ACACT4m                  0.000000\n",
       "ACACT5m                  0.000000\n",
       "ACACT6m                  0.000000\n",
       "ACACT7m                  0.000000\n",
       "ACALDt                   0.000000\n",
       "ACAS_2ahbut             -0.567281\n",
       "ACBIPGT                 -0.005372\n",
       "ACCOAC                  34.753930\n",
       "ACCOAC_1                 0.000000\n",
       "ACCOAL                   0.000000\n",
       "ACGApts                  0.000000\n",
       "ACGK                     0.000000\n",
       "ACGS                     0.000000\n",
       "ACOA40OR                 0.000000\n",
       "ACOAD1                   0.000000\n",
       "ACOAD10m                 0.000000\n",
       "ACOAD2                   0.000000\n",
       "ACOAD3                   0.000000\n",
       "ACOAD4                   0.000000\n",
       "                          ...    \n",
       "TRPS2                    0.000000\n",
       "TRPt2m                   0.081890\n",
       "TSULabc                  0.000000\n",
       "TTDCAt2                  0.260345\n",
       "TYRCBOX                  0.000000\n",
       "UAAGDS                  -0.043391\n",
       "UAAGLS1                  0.000000\n",
       "UAGAAT                   0.086782\n",
       "UAGCVT                  -0.043391\n",
       "UAGDP                   -0.173563\n",
       "UAGPT2                   0.000000\n",
       "UAGPT3                  -0.043391\n",
       "UAMAGS                   0.043391\n",
       "UAMAS                   -0.043391\n",
       "UAPGR                    0.043391\n",
       "UDPGD                    0.000000\n",
       "UGAH                     0.000000\n",
       "UGMDDS                   0.043391\n",
       "UHBZ1t_pp                0.005372\n",
       "UHGADA                  -0.086782\n",
       "UMPK                    -0.445865\n",
       "UPP3S                   -0.010744\n",
       "UPPDC1                  -0.005372\n",
       "UPPDC2                   0.000000\n",
       "UPPRT                    0.000000\n",
       "URCN                     0.000000\n",
       "UREA                     9.572007\n",
       "URFGTT                   0.005372\n",
       "URIDK2m                 -0.027794\n",
       "URIt2                    0.000000\n",
       "VPAMTr                   0.000000\n",
       "X5PL3E                   0.000000\n",
       "XAND                     0.000000\n",
       "XPPT                     0.000000\n",
       "XTSNH                    0.289571\n",
       "XYLI1                    0.000000\n",
       "XYLI2                    0.000000\n",
       "XYLK                     0.000000\n",
       "XYLt2                    0.000000\n",
       "ZN2t4pp                 -0.005372\n",
       "G12289                   0.000000\n",
       "G12290                   0.000000\n",
       "MNXR113143               0.000000\n",
       "MNXR113142               0.000000\n",
       "MNXR113144               0.000000\n",
       "MNXR117163               0.000000\n",
       "MNXR117165               0.000000\n",
       "G12296                   0.000000\n",
       "gumBCEJ                  0.000000\n",
       "OF_Biomass_Synthesis     0.000000\n",
       "Name: fluxes, dtype: float64"
      ]
     },
     "execution_count": 20,
     "metadata": {},
     "output_type": "execute_result"
    }
   ],
   "source": [
    "FBA_sol.fluxes"
   ]
  },
  {
   "cell_type": "code",
   "execution_count": 22,
   "metadata": {
    "collapsed": false,
    "nbpresent": {
     "id": "346c8ec9-460b-45f6-915d-8b778c391dcd"
    },
    "scrolled": true
   },
   "outputs": [
    {
     "data": {
      "text/plain": [
       "h_c               5.142554e-18\n",
       "10fthfglu__L_c    0.000000e+00\n",
       "adp_c            -2.168618e-01\n",
       "pi_c              4.264062e-18\n",
       "10fthf_c         -4.915535e-01\n",
       "atp_c            -2.168618e-01\n",
       "glu__L_c         -1.301171e-01\n",
       "3mob_c           -1.590320e-01\n",
       "fald_c           -2.891491e-02\n",
       "2dhp_c           -1.879469e-01\n",
       "nadh_c           -2.313193e-01\n",
       "2obut_c          -1.156597e-01\n",
       "2hb_c            -1.301171e-01\n",
       "nad_c            -2.168618e-01\n",
       "h2o_c             1.387779e-17\n",
       "2h3kmtp_c        -3.614364e-01\n",
       "12dmpo_c         -3.614364e-01\n",
       "34dhmald_c        1.445746e-02\n",
       "34dhoxpeg_c       0.000000e+00\n",
       "co2_c            -0.000000e+00\n",
       "hgentis_c        -2.307798e-16\n",
       "2h34hppr_c       -2.602342e-01\n",
       "o2_c              2.359224e-16\n",
       "cmusa_c           1.902034e-17\n",
       "3hanthrn_c       -2.169021e-16\n",
       "coa_c            -6.361281e-01\n",
       "3hmp_c           -1.445746e-01\n",
       "3hibutcoa_c      -7.807026e-01\n",
       "dopa_c            0.000000e+00\n",
       "34dhphe_c         0.000000e+00\n",
       "3odecACP_c        1.445746e-02\n",
       "nadph_c          -2.313193e-01\n",
       "nadp_c           -2.168618e-01\n",
       "3hdecACP_c        0.000000e+00\n",
       "3oddecACP_c       1.445746e-02\n",
       "3hddecACP_c       0.000000e+00\n",
       "actACP_c          1.445746e-02\n",
       "3hbutACP_c        0.000000e+00\n",
       "3ohexACP_c        1.445746e-02\n",
       "3hhexACP_c        0.000000e+00\n",
       "3hoctACP_c       -1.445746e-02\n",
       "3ooctACP_c        0.000000e+00\n",
       "ACP_c             0.000000e+00\n",
       "malACP_c         -5.782983e-02\n",
       "hexACP_c         -1.445746e-02\n",
       "4abut_c           9.714451e-17\n",
       "4abutn_c         -1.445746e-02\n",
       "5odhf2a_c         2.359224e-16\n",
       "2c25dho_c         2.307798e-16\n",
       "4hthr_c          -8.674474e-02\n",
       "                      ...     \n",
       "salc6p_c         -2.775558e-17\n",
       "zymst_c           4.337237e-02\n",
       "fecost_c          0.000000e+00\n",
       "sbt6p_c          -1.879469e-01\n",
       "sl26da_c         -1.012022e-01\n",
       "sl2a6o_c         -8.674474e-02\n",
       "selcyst_c        -7.228728e-02\n",
       "selhcys_c         0.000000e+00\n",
       "scl_c            -1.228884e+00\n",
       "skm_c            -2.024044e-01\n",
       "sucorn_c         -1.445746e-02\n",
       "sucgsa_c          0.000000e+00\n",
       "sucsal_c         -1.156597e-01\n",
       "sucbz_c           0.000000e+00\n",
       "dtdp4d6dm_c      -4.481811e-01\n",
       "dtdp4d6dg_c      -4.481811e-01\n",
       "4hba_c            0.000000e+00\n",
       "4mpetz_c          0.000000e+00\n",
       "2dr1p_c           0.000000e+00\n",
       "2tpr3dpcoa_c     -7.807026e-01\n",
       "tre6p_c          -3.469790e-01\n",
       "Lfmkynr_c         0.000000e+00\n",
       "tym_c             0.000000e+00\n",
       "ugmd_c           -7.517877e-01\n",
       "uamag_c          -7.517877e-01\n",
       "uAgl_c           -7.517877e-01\n",
       "uacgam_c         -4.481811e-01\n",
       "u3aga_c          -4.337237e-01\n",
       "uaccg_c          -5.204684e-01\n",
       "uama_c           -6.216706e-01\n",
       "uamr_c           -5.349259e-01\n",
       "udpglcur_c       -3.614364e-01\n",
       "udg_c            -1.387779e-17\n",
       "urdglyc_c         0.000000e+00\n",
       "uppg1_c          -2.057022e-17\n",
       "cpppg1_c          0.000000e+00\n",
       "xu5p__L_c         0.000000e+00\n",
       "ru5p__L_c         0.000000e+00\n",
       "urate_c           0.000000e+00\n",
       "xyl__D_c         -1.445746e-01\n",
       "xylu__D_c        -1.445746e-01\n",
       "MXNM5615_c       -1.431288e+00\n",
       "MNXM5639_c       -1.604778e+00\n",
       "MNXM2971_c       -1.778267e+00\n",
       "MNXM2980_c       -1.922842e+00\n",
       "MNXM3223_c       -2.096331e+00\n",
       "MNXM8499_c       -2.154161e+00\n",
       "MNXM10150_c      -2.226448e+00\n",
       "MNXM12362_c       0.000000e+00\n",
       "MNXM22459_c       0.000000e+00\n",
       "Name: shadow_prices, dtype: float64"
      ]
     },
     "execution_count": 22,
     "metadata": {},
     "output_type": "execute_result"
    }
   ],
   "source": [
    "FBA_sol.shadow_prices"
   ]
  },
  {
   "cell_type": "code",
   "execution_count": 7,
   "metadata": {
    "collapsed": false,
    "nbpresent": {
     "id": "05aba8c4-a2d9-4139-b870-027435f4da5d"
    },
    "scrolled": true
   },
   "outputs": [
    {
     "name": "stdout",
     "output_type": "stream",
     "text": [
      "                     Flux\n",
      "Reaction                 \n",
      "CSND              0.00000\n",
      "MNXR8691         -0.00000\n",
      "NTD10            70.32855\n",
      "NTD11             0.00000\n",
      "GLYBabc           0.00000\n",
      "XTSNH           -70.32855\n",
      "DDPA             -2.84485\n",
      "P5CD              0.00000\n",
      "P5CR            -53.48435\n",
      "GLUTRR           -0.49543\n",
      "GLUTRS           -0.49543\n",
      "MG2t              0.03096\n",
      "KARI_23dhmp      41.22050\n",
      "ACALDt         -182.15748\n",
      "CO2t            -21.38295\n",
      "MNXR3469          0.00000\n",
      "KARI_23dhmb   -1000.00000\n",
      "GUDBUTNAH         0.00000\n",
      "PANTS            -0.06193\n",
      "E4PD              0.00000\n",
      "PLIPA2A180pp      0.00000\n",
      "MNXR87148         1.00042\n",
      "TDPGDH            0.25011\n",
      "CYTDt2           10.00000\n",
      "MNXR8073          0.00000\n",
      "CYOO2pp           0.00000\n",
      "GAPDH_nadp_hi     0.00000\n",
      "rxn05379_c0      -0.85184\n",
      "MNXR2826          0.00000\n",
      "ADSL2r           -1.60761\n",
      "UAGPT3           -0.25011\n",
      "UAGPT2            0.00000\n",
      "GART              0.00000\n",
      "EX_hxan_e        18.49076\n",
      "DHCIND            0.00000\n",
      "CDPGLC46DH        0.00000\n",
      "MNXR63968         0.00000\n",
      "MNXR63969         0.00000\n",
      "MNXR63965         0.00000\n",
      "MNXR63966         0.00000\n",
      "FTCL              0.00000\n",
      "DHPM2             0.00000\n",
      "AOXSr             0.00000\n",
      "PLIPA1E160        0.00000\n",
      "THMDt2            0.16021\n",
      "FGLU              0.00000\n",
      "MNXR70958         0.00000\n",
      "MNXR8203          0.00000\n",
      "PYRt2          -106.73593\n",
      "MNXR6834          0.00000\n",
      "...                   ...\n",
      "MNXR27655        -0.85184\n",
      "ALAR           -990.50021\n",
      "MNXR17657         0.00000\n",
      "MNXR17653         0.00000\n",
      "MNXR93844         0.00000\n",
      "MNXR93845         0.00000\n",
      "MNXR93840         0.00000\n",
      "ASPt2_2         -70.96587\n",
      "PDHbr            48.55865\n",
      "PLIPA2A140pp      0.00000\n",
      "MI1PP             0.00000\n",
      "TALA            886.51060\n",
      "MNXR73934         0.00000\n",
      "DGSNt2            0.00000\n",
      "ACACT7m           0.00000\n",
      "MNXR15065         0.00000\n",
      "MNXR5887          0.00000\n",
      "EX_mqn7_e        -0.06193\n",
      "34DHOXPEGOX       0.00000\n",
      "GLUK_syn          0.00000\n",
      "MNXR5404         10.00000\n",
      "MOAT             -0.25011\n",
      "FPGS_tm           0.00000\n",
      "MNXR93715      -331.08934\n",
      "MNXR93716         0.00000\n",
      "CYTBD2pp          0.00000\n",
      "ASAD            222.94026\n",
      "MANAO             0.00000\n",
      "ACOA40OR          0.00000\n",
      "KARI             41.22050\n",
      "RZ5PP             0.03096\n",
      "MNXR60319         0.00000\n",
      "MNXR85308         0.00000\n",
      "ADMDC            -0.00000\n",
      "G-12289          -0.00000\n",
      "UDPGD             0.00000\n",
      "MNXR85306         0.00000\n",
      "LTDCL             0.00000\n",
      "rxn06181_c0       0.00000\n",
      "MNXR93624         0.00000\n",
      "MNXR93625         0.00000\n",
      "EX_lys__L_e      -3.10449\n",
      "MTAP              0.00000\n",
      "3HAO              0.00000\n",
      "EX_hdca_e         0.00000\n",
      "COBALT2tex        0.03096\n",
      "GF6PTA            0.00000\n",
      "3HBCOAHL          0.00000\n",
      "CDPMEK           -3.06081\n",
      "FOLR2             0.00000\n",
      "\n",
      "[1556 rows x 1 columns]\n"
     ]
    }
   ],
   "source": [
    "FBA_results = xam_model.solution.x_dict\n",
    "fba_df = pandas.DataFrame.from_dict(FBA_results, orient='index').T.round(5)\n",
    "fba_df_t = pandas.DataFrame.transpose(fba_df)\n",
    "fba_df_t = fba_df_t.rename_axis(\"Reaction\")\n",
    "fba_df_t = fba_df_t.rename_axis({0: \"Flux\"}, axis=\"columns\")\n",
    "print(fba_df_t)"
   ]
  },
  {
   "cell_type": "code",
   "execution_count": 8,
   "metadata": {
    "collapsed": false,
    "nbpresent": {
     "id": "69f66504-6d49-4d8c-a5a3-ab8f921f4dbf"
    }
   },
   "outputs": [
    {
     "data": {
      "text/plain": [
       "<matplotlib.axes._subplots.AxesSubplot at 0x11a9facd0>"
      ]
     },
     "execution_count": 8,
     "metadata": {},
     "output_type": "execute_result"
    },
    {
     "data": {
      "text/plain": [
       "<matplotlib.figure.Figure at 0x118bbc890>"
      ]
     },
     "metadata": {},
     "output_type": "display_data"
    },
    {
     "data": {
      "image/png": "[encoded data removed]",
      "text/plain": [
       "<matplotlib.figure.Figure at 0x11b0be550>"
      ]
     },
     "metadata": {},
     "output_type": "display_data"
    },
    {
     "data": {
      "image/png": "[encoded data removed]",
      "text/plain": [
       "<matplotlib.figure.Figure at 0x11b0be610>"
      ]
     },
     "metadata": {},
     "output_type": "display_data"
    },
    {
     "data": {
      "image/png": "[encoded data removed]",
      "text/plain": [
       "<matplotlib.figure.Figure at 0x118bbc810>"
      ]
     },
     "metadata": {},
     "output_type": "display_data"
    }
   ],
   "source": [
    "fba_df_sort = fba_df_t.sort_values(by=\"Flux\")\n",
    "plt.figure()\n",
    "fba_df_sort.plot.box()\n",
    "#plt.savefig('FBA_Xam_box.svg', format='svg', dpi=1200)\n",
    "#plt.savefig('FBA_Xam_box.png', format='png', dpi=1200)\n",
    "fba_df_sort.plot.line()\n",
    "#plt.savefig('FBA_Xam.svg', format='svg', dpi=1200)\n",
    "#plt.savefig('FBA_Xam.png', format='png', dpi=1200)\n",
    "fba_df_sort.plot.hist()\n",
    "#plt.savefig('FBA_Xam_hist.svg', format='svg', dpi=1200)\n",
    "#plt.savefig('FBA_Xam_hist.png', format='png', dpi=1200)"
   ]
  },
  {
   "cell_type": "markdown",
   "metadata": {
    "nbpresent": {
     "id": "05b10ec2-40b5-4790-a542-5db4c66a6fbe"
    }
   },
   "source": [
    "###  Overall redox balance"
   ]
  },
  {
   "cell_type": "code",
   "execution_count": 31,
   "metadata": {
    "collapsed": false
   },
   "outputs": [
    {
     "name": "stderr",
     "output_type": "stream",
     "text": [
      "ERROR:root:An unexpected error occurred while tokenizing input\n",
      "The following traceback may be corrupted or invalid\n",
      "The error message is: ('EOF in multi-line string', (1, 16))\n",
      "\n"
     ]
    },
    {
     "ename": "TypeError",
     "evalue": "object of type 'NoneType' has no len()",
     "output_type": "error",
     "traceback": [
      "\u001b[0;31m---------------------------------------------------------------------------\u001b[0m",
      "\u001b[0;31mTypeError\u001b[0m                                 Traceback (most recent call last)",
      "\u001b[0;32m/Users/davidbotero/anaconda/envs/python3.4/lib/python3.4/site-packages/IPython/core/formatters.py\u001b[0m in \u001b[0;36m__call__\u001b[0;34m(self, obj)\u001b[0m\n\u001b[1;32m    309\u001b[0m             \u001b[0mmethod\u001b[0m \u001b[0;34m=\u001b[0m \u001b[0mget_real_method\u001b[0m\u001b[0;34m(\u001b[0m\u001b[0mobj\u001b[0m\u001b[0;34m,\u001b[0m \u001b[0mself\u001b[0m\u001b[0;34m.\u001b[0m\u001b[0mprint_method\u001b[0m\u001b[0;34m)\u001b[0m\u001b[0;34m\u001b[0m\u001b[0m\n\u001b[1;32m    310\u001b[0m             \u001b[0;32mif\u001b[0m \u001b[0mmethod\u001b[0m \u001b[0;32mis\u001b[0m \u001b[0;32mnot\u001b[0m \u001b[0;32mNone\u001b[0m\u001b[0;34m:\u001b[0m\u001b[0;34m\u001b[0m\u001b[0m\n\u001b[0;32m--> 311\u001b[0;31m                 \u001b[0;32mreturn\u001b[0m \u001b[0mmethod\u001b[0m\u001b[0;34m(\u001b[0m\u001b[0;34m)\u001b[0m\u001b[0;34m\u001b[0m\u001b[0m\n\u001b[0m\u001b[1;32m    312\u001b[0m             \u001b[0;32mreturn\u001b[0m \u001b[0;32mNone\u001b[0m\u001b[0;34m\u001b[0m\u001b[0m\n\u001b[1;32m    313\u001b[0m         \u001b[0;32melse\u001b[0m\u001b[0;34m:\u001b[0m\u001b[0;34m\u001b[0m\u001b[0m\n",
      "\u001b[0;32m/Users/davidbotero/anaconda/envs/python3.4/lib/python3.4/site-packages/cobra/core/metabolite.py\u001b[0m in \u001b[0;36m_repr_html_\u001b[0;34m(self)\u001b[0m\n\u001b[1;32m    261\u001b[0m                     \u001b[0;34m{\u001b[0m\u001b[0mreactions\u001b[0m\u001b[0;34m}\u001b[0m\u001b[0;34m<\u001b[0m\u001b[0;34m/\u001b[0m\u001b[0mtd\u001b[0m\u001b[0;34m>\u001b[0m\u001b[0;34m\u001b[0m\u001b[0m\n\u001b[1;32m    262\u001b[0m             \u001b[0;34m<\u001b[0m\u001b[0;34m/\u001b[0m\u001b[0mtr\u001b[0m\u001b[0;34m>\u001b[0m\u001b[0;34m\u001b[0m\u001b[0m\n\u001b[0;32m--> 263\u001b[0;31m         </table>\"\"\".format(id=self.id, name=format_long_string(self.name),\n\u001b[0m\u001b[1;32m    264\u001b[0m                            \u001b[0mformula\u001b[0m\u001b[0;34m=\u001b[0m\u001b[0mself\u001b[0m\u001b[0;34m.\u001b[0m\u001b[0mformula\u001b[0m\u001b[0;34m,\u001b[0m\u001b[0;34m\u001b[0m\u001b[0m\n\u001b[1;32m    265\u001b[0m                            \u001b[0maddress\u001b[0m\u001b[0;34m=\u001b[0m\u001b[0;34m'0x0%x'\u001b[0m \u001b[0;34m%\u001b[0m \u001b[0mid\u001b[0m\u001b[0;34m(\u001b[0m\u001b[0mself\u001b[0m\u001b[0;34m)\u001b[0m\u001b[0;34m,\u001b[0m\u001b[0;34m\u001b[0m\u001b[0m\n",
      "\u001b[0;32m/Users/davidbotero/anaconda/envs/python3.4/lib/python3.4/site-packages/cobra/util/util.py\u001b[0m in \u001b[0;36mformat_long_string\u001b[0;34m(string, max_length)\u001b[0m\n\u001b[1;32m      7\u001b[0m \u001b[0;34m\u001b[0m\u001b[0m\n\u001b[1;32m      8\u001b[0m \u001b[0;32mdef\u001b[0m \u001b[0mformat_long_string\u001b[0m\u001b[0;34m(\u001b[0m\u001b[0mstring\u001b[0m\u001b[0;34m,\u001b[0m \u001b[0mmax_length\u001b[0m\u001b[0;34m=\u001b[0m\u001b[0;36m50\u001b[0m\u001b[0;34m)\u001b[0m\u001b[0;34m:\u001b[0m\u001b[0;34m\u001b[0m\u001b[0m\n\u001b[0;32m----> 9\u001b[0;31m     \u001b[0;32mif\u001b[0m \u001b[0mlen\u001b[0m\u001b[0;34m(\u001b[0m\u001b[0mstring\u001b[0m\u001b[0;34m)\u001b[0m \u001b[0;34m>\u001b[0m \u001b[0mmax_length\u001b[0m\u001b[0;34m:\u001b[0m\u001b[0;34m\u001b[0m\u001b[0m\n\u001b[0m\u001b[1;32m     10\u001b[0m         \u001b[0mstring\u001b[0m \u001b[0;34m=\u001b[0m \u001b[0mstring\u001b[0m\u001b[0;34m[\u001b[0m\u001b[0;34m:\u001b[0m\u001b[0mmax_length\u001b[0m \u001b[0;34m-\u001b[0m \u001b[0;36m3\u001b[0m\u001b[0;34m]\u001b[0m\u001b[0;34m\u001b[0m\u001b[0m\n\u001b[1;32m     11\u001b[0m         \u001b[0mstring\u001b[0m \u001b[0;34m+=\u001b[0m \u001b[0;34m'...'\u001b[0m\u001b[0;34m\u001b[0m\u001b[0m\n",
      "\u001b[0;31mTypeError\u001b[0m: object of type 'NoneType' has no len()"
     ]
    },
    {
     "data": {
      "text/plain": [
       "<Metabolite nadh_c at 0x11f52e240>"
      ]
     },
     "execution_count": 31,
     "metadata": {},
     "output_type": "execute_result"
    }
   ],
   "source": [
    "xam_model.metabolites.get_by_id(\"nadh_c\")"
   ]
  },
  {
   "cell_type": "code",
   "execution_count": 10,
   "metadata": {
    "collapsed": false,
    "nbpresent": {
     "id": "aea6a92f-03de-4f66-8ee0-1a44672d6dad"
    },
    "scrolled": true
   },
   "outputs": [
    {
     "ename": "TypeError",
     "evalue": "object of type 'NoneType' has no len()",
     "output_type": "error",
     "traceback": [
      "\u001b[0;31m---------------------------------------------------------------------------\u001b[0m",
      "\u001b[0;31mTypeError\u001b[0m                                 Traceback (most recent call last)",
      "\u001b[0;32m<ipython-input-10-f61d7617d0a9>\u001b[0m in \u001b[0;36m<module>\u001b[0;34m()\u001b[0m\n\u001b[0;32m----> 1\u001b[0;31m \u001b[0mxam_model\u001b[0m\u001b[0;34m.\u001b[0m\u001b[0mmetabolites\u001b[0m\u001b[0;34m.\u001b[0m\u001b[0mnadh_c\u001b[0m\u001b[0;34m.\u001b[0m\u001b[0msummary\u001b[0m\u001b[0;34m(\u001b[0m\u001b[0;34m)\u001b[0m\u001b[0;34m\u001b[0m\u001b[0m\n\u001b[0m",
      "\u001b[0;32m/Users/david/anaconda/envs/python2/lib/python2.7/site-packages/cobra/core/Metabolite.pyc\u001b[0m in \u001b[0;36msummary\u001b[0;34m(self, **kwargs)\u001b[0m\n\u001b[1;32m    163\u001b[0m         \u001b[0;32mtry\u001b[0m\u001b[0;34m:\u001b[0m\u001b[0;34m\u001b[0m\u001b[0m\n\u001b[1;32m    164\u001b[0m             \u001b[0;32mfrom\u001b[0m \u001b[0;34m.\u001b[0m\u001b[0;34m.\u001b[0m\u001b[0mflux_analysis\u001b[0m\u001b[0;34m.\u001b[0m\u001b[0msummary\u001b[0m \u001b[0;32mimport\u001b[0m \u001b[0mmetabolite_summary\u001b[0m\u001b[0;34m\u001b[0m\u001b[0m\n\u001b[0;32m--> 165\u001b[0;31m             \u001b[0;32mreturn\u001b[0m \u001b[0mmetabolite_summary\u001b[0m\u001b[0;34m(\u001b[0m\u001b[0mself\u001b[0m\u001b[0;34m,\u001b[0m \u001b[0;34m**\u001b[0m\u001b[0mkwargs\u001b[0m\u001b[0;34m)\u001b[0m\u001b[0;34m\u001b[0m\u001b[0m\n\u001b[0m\u001b[1;32m    166\u001b[0m         \u001b[0;32mexcept\u001b[0m \u001b[0mImportError\u001b[0m\u001b[0;34m:\u001b[0m\u001b[0;34m\u001b[0m\u001b[0m\n\u001b[1;32m    167\u001b[0m             \u001b[0mwarn\u001b[0m\u001b[0;34m(\u001b[0m\u001b[0;34m'Summary methods require pandas'\u001b[0m\u001b[0;34m)\u001b[0m\u001b[0;34m\u001b[0m\u001b[0m\n",
      "\u001b[0;32m/Users/david/anaconda/envs/python2/lib/python2.7/site-packages/cobra/flux_analysis/summary.pyc\u001b[0m in \u001b[0;36mmetabolite_summary\u001b[0;34m(met, threshold, fva, **solver_args)\u001b[0m\n\u001b[1;32m     82\u001b[0m             lambda x: format_long_string(x, 8))\n\u001b[1;32m     83\u001b[0m \u001b[0;34m\u001b[0m\u001b[0m\n\u001b[0;32m---> 84\u001b[0;31m     \u001b[0mhead\u001b[0m \u001b[0;34m=\u001b[0m \u001b[0;34m\"PRODUCING REACTIONS -- \"\u001b[0m \u001b[0;34m+\u001b[0m \u001b[0mformat_long_string\u001b[0m\u001b[0;34m(\u001b[0m\u001b[0mmet\u001b[0m\u001b[0;34m.\u001b[0m\u001b[0mname\u001b[0m\u001b[0;34m,\u001b[0m \u001b[0;36m55\u001b[0m\u001b[0;34m)\u001b[0m\u001b[0;34m\u001b[0m\u001b[0m\n\u001b[0m\u001b[1;32m     85\u001b[0m     \u001b[0mprint_\u001b[0m\u001b[0;34m(\u001b[0m\u001b[0mhead\u001b[0m\u001b[0;34m)\u001b[0m\u001b[0;34m\u001b[0m\u001b[0m\n\u001b[1;32m     86\u001b[0m     \u001b[0mprint_\u001b[0m\u001b[0;34m(\u001b[0m\u001b[0;34m\"-\"\u001b[0m \u001b[0;34m*\u001b[0m \u001b[0mlen\u001b[0m\u001b[0;34m(\u001b[0m\u001b[0mhead\u001b[0m\u001b[0;34m)\u001b[0m\u001b[0;34m)\u001b[0m\u001b[0;34m\u001b[0m\u001b[0m\n",
      "\u001b[0;32m/Users/david/anaconda/envs/python2/lib/python2.7/site-packages/cobra/flux_analysis/summary.pyc\u001b[0m in \u001b[0;36mformat_long_string\u001b[0;34m(string, max_length)\u001b[0m\n\u001b[1;32m      8\u001b[0m \u001b[0;34m\u001b[0m\u001b[0m\n\u001b[1;32m      9\u001b[0m \u001b[0;32mdef\u001b[0m \u001b[0mformat_long_string\u001b[0m\u001b[0;34m(\u001b[0m\u001b[0mstring\u001b[0m\u001b[0;34m,\u001b[0m \u001b[0mmax_length\u001b[0m\u001b[0;34m)\u001b[0m\u001b[0;34m:\u001b[0m\u001b[0;34m\u001b[0m\u001b[0m\n\u001b[0;32m---> 10\u001b[0;31m     \u001b[0;32mif\u001b[0m \u001b[0mlen\u001b[0m\u001b[0;34m(\u001b[0m\u001b[0mstring\u001b[0m\u001b[0;34m)\u001b[0m \u001b[0;34m>\u001b[0m \u001b[0mmax_length\u001b[0m\u001b[0;34m:\u001b[0m\u001b[0;34m\u001b[0m\u001b[0m\n\u001b[0m\u001b[1;32m     11\u001b[0m         \u001b[0mstring\u001b[0m \u001b[0;34m=\u001b[0m \u001b[0mstring\u001b[0m\u001b[0;34m[\u001b[0m\u001b[0;34m:\u001b[0m\u001b[0mmax_length\u001b[0m \u001b[0;34m-\u001b[0m \u001b[0;36m3\u001b[0m\u001b[0;34m]\u001b[0m\u001b[0;34m\u001b[0m\u001b[0m\n\u001b[1;32m     12\u001b[0m         \u001b[0mstring\u001b[0m \u001b[0;34m+=\u001b[0m \u001b[0;34m'...'\u001b[0m\u001b[0;34m\u001b[0m\u001b[0m\n",
      "\u001b[0;31mTypeError\u001b[0m: object of type 'NoneType' has no len()"
     ]
    }
   ],
   "source": [
    "xam_model.metabolites.nadh_c.summary()"
   ]
  },
  {
   "cell_type": "code",
   "execution_count": 32,
   "metadata": {
    "collapsed": true
   },
   "outputs": [],
   "source": [
    "xam_model.metabolites.nadh_c.name"
   ]
  },
  {
   "cell_type": "code",
   "execution_count": 34,
   "metadata": {
    "collapsed": false
   },
   "outputs": [
    {
     "ename": "TypeError",
     "evalue": "argument of type 'NoneType' is not iterable",
     "output_type": "error",
     "traceback": [
      "\u001b[0;31m---------------------------------------------------------------------------\u001b[0m",
      "\u001b[0;31mTypeError\u001b[0m                                 Traceback (most recent call last)",
      "\u001b[0;32m<ipython-input-34-67ff30a60834>\u001b[0m in \u001b[0;36m<module>\u001b[0;34m()\u001b[0m\n\u001b[0;32m----> 1\u001b[0;31m \u001b[0;32mfor\u001b[0m \u001b[0mi\u001b[0m \u001b[0;32min\u001b[0m \u001b[0;34m[\u001b[0m\u001b[0mi\u001b[0m\u001b[0;34m.\u001b[0m\u001b[0mid\u001b[0m \u001b[0;32mfor\u001b[0m \u001b[0mi\u001b[0m \u001b[0;32min\u001b[0m \u001b[0mxam_model\u001b[0m\u001b[0;34m.\u001b[0m\u001b[0mmetabolites\u001b[0m \u001b[0;32mif\u001b[0m \u001b[0;34m'nad_c'\u001b[0m \u001b[0;32min\u001b[0m \u001b[0mi\u001b[0m\u001b[0;34m.\u001b[0m\u001b[0mname\u001b[0m\u001b[0;34m]\u001b[0m\u001b[0;34m:\u001b[0m\u001b[0;34m\u001b[0m\u001b[0m\n\u001b[0m\u001b[1;32m      2\u001b[0m         \u001b[0mprint\u001b[0m\u001b[0;34m(\u001b[0m\u001b[0;34m'%s: %s'\u001b[0m \u001b[0;34m%\u001b[0m \u001b[0;34m(\u001b[0m\u001b[0mxam_model\u001b[0m\u001b[0;34m.\u001b[0m\u001b[0mmetabolites\u001b[0m\u001b[0;34m.\u001b[0m\u001b[0mget_by_id\u001b[0m\u001b[0;34m(\u001b[0m\u001b[0mi\u001b[0m\u001b[0;34m)\u001b[0m\u001b[0;34m,\u001b[0m \u001b[0mxam_model\u001b[0m\u001b[0;34m.\u001b[0m\u001b[0mmetabolites\u001b[0m\u001b[0;34m.\u001b[0m\u001b[0mget_by_id\u001b[0m\u001b[0;34m(\u001b[0m\u001b[0mi\u001b[0m\u001b[0;34m)\u001b[0m\u001b[0;34m.\u001b[0m\u001b[0mname\u001b[0m\u001b[0;34m)\u001b[0m\u001b[0;34m)\u001b[0m\u001b[0;34m\u001b[0m\u001b[0m\n",
      "\u001b[0;32m<ipython-input-34-67ff30a60834>\u001b[0m in \u001b[0;36m<listcomp>\u001b[0;34m(.0)\u001b[0m\n\u001b[0;32m----> 1\u001b[0;31m \u001b[0;32mfor\u001b[0m \u001b[0mi\u001b[0m \u001b[0;32min\u001b[0m \u001b[0;34m[\u001b[0m\u001b[0mi\u001b[0m\u001b[0;34m.\u001b[0m\u001b[0mid\u001b[0m \u001b[0;32mfor\u001b[0m \u001b[0mi\u001b[0m \u001b[0;32min\u001b[0m \u001b[0mxam_model\u001b[0m\u001b[0;34m.\u001b[0m\u001b[0mmetabolites\u001b[0m \u001b[0;32mif\u001b[0m \u001b[0;34m'nad_c'\u001b[0m \u001b[0;32min\u001b[0m \u001b[0mi\u001b[0m\u001b[0;34m.\u001b[0m\u001b[0mname\u001b[0m\u001b[0;34m]\u001b[0m\u001b[0;34m:\u001b[0m\u001b[0;34m\u001b[0m\u001b[0m\n\u001b[0m\u001b[1;32m      2\u001b[0m         \u001b[0mprint\u001b[0m\u001b[0;34m(\u001b[0m\u001b[0;34m'%s: %s'\u001b[0m \u001b[0;34m%\u001b[0m \u001b[0;34m(\u001b[0m\u001b[0mxam_model\u001b[0m\u001b[0;34m.\u001b[0m\u001b[0mmetabolites\u001b[0m\u001b[0;34m.\u001b[0m\u001b[0mget_by_id\u001b[0m\u001b[0;34m(\u001b[0m\u001b[0mi\u001b[0m\u001b[0;34m)\u001b[0m\u001b[0;34m,\u001b[0m \u001b[0mxam_model\u001b[0m\u001b[0;34m.\u001b[0m\u001b[0mmetabolites\u001b[0m\u001b[0;34m.\u001b[0m\u001b[0mget_by_id\u001b[0m\u001b[0;34m(\u001b[0m\u001b[0mi\u001b[0m\u001b[0;34m)\u001b[0m\u001b[0;34m.\u001b[0m\u001b[0mname\u001b[0m\u001b[0;34m)\u001b[0m\u001b[0;34m)\u001b[0m\u001b[0;34m\u001b[0m\u001b[0m\n",
      "\u001b[0;31mTypeError\u001b[0m: argument of type 'NoneType' is not iterable"
     ]
    }
   ],
   "source": [
    "for i in [i.id for i in xam_model.metabolites if 'nad_c' in i.name]:\n",
    "        print('%s: %s' % (xam_model.metabolites.get_by_id(i), xam_model.metabolites.get_by_id(i).name))"
   ]
  },
  {
   "cell_type": "markdown",
   "metadata": {
    "nbpresent": {
     "id": "b7d6bd13-ed7a-43a6-b878-6a84fc5e4934"
    }
   },
   "source": [
    "### Main energy production and consumption reactions"
   ]
  },
  {
   "cell_type": "code",
   "execution_count": 80,
   "metadata": {
    "collapsed": false,
    "nbpresent": {
     "id": "13994332-a0ee-4332-9987-f800ba181fa7"
    },
    "scrolled": true
   },
   "outputs": [
    {
     "ename": "TypeError",
     "evalue": "object of type 'NoneType' has no len()",
     "output_type": "error",
     "traceback": [
      "\u001b[0;31m---------------------------------------------------------------------------\u001b[0m",
      "\u001b[0;31mTypeError\u001b[0m                                 Traceback (most recent call last)",
      "\u001b[0;32m<ipython-input-80-660fa24a3d84>\u001b[0m in \u001b[0;36m<module>\u001b[0;34m()\u001b[0m\n\u001b[0;32m----> 1\u001b[0;31m \u001b[0mxam_model\u001b[0m\u001b[0;34m.\u001b[0m\u001b[0mmetabolites\u001b[0m\u001b[0;34m.\u001b[0m\u001b[0matp_c\u001b[0m\u001b[0;34m.\u001b[0m\u001b[0msummary\u001b[0m\u001b[0;34m(\u001b[0m\u001b[0mfva_df_sort\u001b[0m\u001b[0;34m=\u001b[0m\u001b[0;36m0.90\u001b[0m\u001b[0;34m)\u001b[0m\u001b[0;34m\u001b[0m\u001b[0m\n\u001b[0m",
      "\u001b[0;32m/Users/david/anaconda/envs/python2/lib/python2.7/site-packages/cobra/core/Metabolite.pyc\u001b[0m in \u001b[0;36msummary\u001b[0;34m(self, **kwargs)\u001b[0m\n\u001b[1;32m    163\u001b[0m         \u001b[0;32mtry\u001b[0m\u001b[0;34m:\u001b[0m\u001b[0;34m\u001b[0m\u001b[0m\n\u001b[1;32m    164\u001b[0m             \u001b[0;32mfrom\u001b[0m \u001b[0;34m.\u001b[0m\u001b[0;34m.\u001b[0m\u001b[0mflux_analysis\u001b[0m\u001b[0;34m.\u001b[0m\u001b[0msummary\u001b[0m \u001b[0;32mimport\u001b[0m \u001b[0mmetabolite_summary\u001b[0m\u001b[0;34m\u001b[0m\u001b[0m\n\u001b[0;32m--> 165\u001b[0;31m             \u001b[0;32mreturn\u001b[0m \u001b[0mmetabolite_summary\u001b[0m\u001b[0;34m(\u001b[0m\u001b[0mself\u001b[0m\u001b[0;34m,\u001b[0m \u001b[0;34m**\u001b[0m\u001b[0mkwargs\u001b[0m\u001b[0;34m)\u001b[0m\u001b[0;34m\u001b[0m\u001b[0m\n\u001b[0m\u001b[1;32m    166\u001b[0m         \u001b[0;32mexcept\u001b[0m \u001b[0mImportError\u001b[0m\u001b[0;34m:\u001b[0m\u001b[0;34m\u001b[0m\u001b[0m\n\u001b[1;32m    167\u001b[0m             \u001b[0mwarn\u001b[0m\u001b[0;34m(\u001b[0m\u001b[0;34m'Summary methods require pandas'\u001b[0m\u001b[0;34m)\u001b[0m\u001b[0;34m\u001b[0m\u001b[0m\n",
      "\u001b[0;32m/Users/david/anaconda/envs/python2/lib/python2.7/site-packages/cobra/flux_analysis/summary.pyc\u001b[0m in \u001b[0;36mmetabolite_summary\u001b[0;34m(met, threshold, fva, **solver_args)\u001b[0m\n\u001b[1;32m     82\u001b[0m             lambda x: format_long_string(x, 8))\n\u001b[1;32m     83\u001b[0m \u001b[0;34m\u001b[0m\u001b[0m\n\u001b[0;32m---> 84\u001b[0;31m     \u001b[0mhead\u001b[0m \u001b[0;34m=\u001b[0m \u001b[0;34m\"PRODUCING REACTIONS -- \"\u001b[0m \u001b[0;34m+\u001b[0m \u001b[0mformat_long_string\u001b[0m\u001b[0;34m(\u001b[0m\u001b[0mmet\u001b[0m\u001b[0;34m.\u001b[0m\u001b[0mname\u001b[0m\u001b[0;34m,\u001b[0m \u001b[0;36m55\u001b[0m\u001b[0;34m)\u001b[0m\u001b[0;34m\u001b[0m\u001b[0m\n\u001b[0m\u001b[1;32m     85\u001b[0m     \u001b[0mprint_\u001b[0m\u001b[0;34m(\u001b[0m\u001b[0mhead\u001b[0m\u001b[0;34m)\u001b[0m\u001b[0;34m\u001b[0m\u001b[0m\n\u001b[1;32m     86\u001b[0m     \u001b[0mprint_\u001b[0m\u001b[0;34m(\u001b[0m\u001b[0;34m\"-\"\u001b[0m \u001b[0;34m*\u001b[0m \u001b[0mlen\u001b[0m\u001b[0;34m(\u001b[0m\u001b[0mhead\u001b[0m\u001b[0;34m)\u001b[0m\u001b[0;34m)\u001b[0m\u001b[0;34m\u001b[0m\u001b[0m\n",
      "\u001b[0;32m/Users/david/anaconda/envs/python2/lib/python2.7/site-packages/cobra/flux_analysis/summary.pyc\u001b[0m in \u001b[0;36mformat_long_string\u001b[0;34m(string, max_length)\u001b[0m\n\u001b[1;32m      8\u001b[0m \u001b[0;34m\u001b[0m\u001b[0m\n\u001b[1;32m      9\u001b[0m \u001b[0;32mdef\u001b[0m \u001b[0mformat_long_string\u001b[0m\u001b[0;34m(\u001b[0m\u001b[0mstring\u001b[0m\u001b[0;34m,\u001b[0m \u001b[0mmax_length\u001b[0m\u001b[0;34m)\u001b[0m\u001b[0;34m:\u001b[0m\u001b[0;34m\u001b[0m\u001b[0m\n\u001b[0;32m---> 10\u001b[0;31m     \u001b[0;32mif\u001b[0m \u001b[0mlen\u001b[0m\u001b[0;34m(\u001b[0m\u001b[0mstring\u001b[0m\u001b[0;34m)\u001b[0m \u001b[0;34m>\u001b[0m \u001b[0mmax_length\u001b[0m\u001b[0;34m:\u001b[0m\u001b[0;34m\u001b[0m\u001b[0m\n\u001b[0m\u001b[1;32m     11\u001b[0m         \u001b[0mstring\u001b[0m \u001b[0;34m=\u001b[0m \u001b[0mstring\u001b[0m\u001b[0;34m[\u001b[0m\u001b[0;34m:\u001b[0m\u001b[0mmax_length\u001b[0m \u001b[0;34m-\u001b[0m \u001b[0;36m3\u001b[0m\u001b[0;34m]\u001b[0m\u001b[0;34m\u001b[0m\u001b[0m\n\u001b[1;32m     12\u001b[0m         \u001b[0mstring\u001b[0m \u001b[0;34m+=\u001b[0m \u001b[0;34m'...'\u001b[0m\u001b[0;34m\u001b[0m\u001b[0m\n",
      "\u001b[0;31mTypeError\u001b[0m: object of type 'NoneType' has no len()"
     ]
    }
   ],
   "source": [
    "xam_model.metabolites.atp_c.summary(fva_df_sort=0.90)"
   ]
  },
  {
   "cell_type": "code",
   "execution_count": 81,
   "metadata": {
    "collapsed": true
   },
   "outputs": [],
   "source": [
    "xam_model.metabolites.atp_c.name"
   ]
  },
  {
   "cell_type": "markdown",
   "metadata": {
    "nbpresent": {
     "id": "817241a2-c398-4632-a863-a1bd2ef14f84"
    }
   },
   "source": [
    "### Objective Function"
   ]
  },
  {
   "cell_type": "code",
   "execution_count": 11,
   "metadata": {
    "collapsed": false,
    "nbpresent": {
     "id": "74944b1c-2e67-4d31-8c8a-895d6440eb76"
    }
   },
   "outputs": [
    {
     "data": {
      "text/plain": [
       "{<Reaction Biomass at 0x11a93d610>: 1}"
      ]
     },
     "execution_count": 11,
     "metadata": {},
     "output_type": "execute_result"
    }
   ],
   "source": [
    "xam_model.objective"
   ]
  },
  {
   "cell_type": "markdown",
   "metadata": {
    "nbpresent": {
     "id": "5db83ade-e88e-4809-8450-ff32bffb9efd"
    }
   },
   "source": [
    "### FVA 100%"
   ]
  },
  {
   "cell_type": "code",
   "execution_count": 12,
   "metadata": {
    "collapsed": false,
    "nbpresent": {
     "id": "ba77a9e9-8b01-44e7-8566-4c938698ba58"
    },
    "scrolled": true
   },
   "outputs": [
    {
     "name": "stdout",
     "output_type": "stream",
     "text": [
      "                  maximum     minimum\n",
      "10FTHFGLULL       0.00000     0.00000\n",
      "2DHPFALDL         0.00000     0.00000\n",
      "2HBO              0.00000     0.00000\n",
      "2OH3K5MPPISO      0.00000     0.00000\n",
      "34DHOXPEGOX       0.00000     0.00000\n",
      "34HPPOR           0.00000     0.00000\n",
      "3HAO              0.00000     0.00000\n",
      "3HBCOAHL          0.00000   -39.65939\n",
      "3HLYTCL           0.00000     0.00000\n",
      "3OAR100           0.00000     0.00000\n",
      "3OAR120           0.00000     0.00000\n",
      "3OAR40_1          0.00000     0.00000\n",
      "3OAR60            0.00000     0.00000\n",
      "3OAR80            0.00000     0.00000\n",
      "3OAS80            0.00000     0.00000\n",
      "4ABUTD            0.00000     0.00000\n",
      "4CMLCL_kt         0.00000     0.00000\n",
      "4HTHRS            0.00000     0.00000\n",
      "56DH5FLURAAMH     0.00000     0.00000\n",
      "5FLURAPRT         0.00000     0.00000\n",
      "5HLTDL            0.00000     0.00000\n",
      "5HXKYNDCL         0.00000     0.00000\n",
      "A5PISO           -0.75032    -0.75032\n",
      "AACOAR_syn        0.00000     0.00000\n",
      "AACOAT            0.00000     0.00000\n",
      "AASPh             0.00000    -2.16334\n",
      "ABUTD             0.00000     0.00000\n",
      "ACACT1            0.00000    -0.85184\n",
      "ACACT10m         39.65939    -0.85184\n",
      "ACACT2            0.00000     0.00000\n",
      "ACACT3           -0.00000    -0.00000\n",
      "ACACT4m          -0.00000    -0.00000\n",
      "ACACT5m          -0.00000    -0.00000\n",
      "ACACT6m          -0.00000    -0.00000\n",
      "ACACT7m           0.00000    -8.49936\n",
      "ACALDt            0.00000  -465.67554\n",
      "ACAS_2ahbut      -2.41799   -42.92922\n",
      "ACBIPGT          -0.03096    -0.03096\n",
      "ACCOAC         1000.00000 -1000.00000\n",
      "ACCOAC_1          0.00000     0.00000\n",
      "ACCOAL            0.00000     0.00000\n",
      "ACGApts          10.00000    -8.99958\n",
      "ACGK              0.00000    -2.49793\n",
      "ACGS              0.00000    -2.49793\n",
      "ACOA40OR          0.00000     0.00000\n",
      "ACOAD1            0.00000     0.00000\n",
      "ACOAD10m          0.00000   -39.65939\n",
      "ACOAD2            0.00000     0.00000\n",
      "ACOAD3            0.00000     0.00000\n",
      "ACOAD4            0.00000     0.00000\n",
      "...                   ...         ...\n",
      "XYLI2            10.00000   -61.57155\n",
      "XYLK            161.77173   -10.00000\n",
      "XYLt2            10.00000  -161.77173\n",
      "ZN2t4pp          -0.03096    -0.03096\n",
      "gumBCEJ           0.32884     0.00000\n",
      "rxn00016_c0       0.00000     0.00000\n",
      "rxn00816_c0       0.00000     0.00000\n",
      "rxn01080_c0       0.00000     0.00000\n",
      "rxn01292_c0       0.00000     0.00000\n",
      "rxn01457_c0       0.00000     0.00000\n",
      "rxn02362_c0       0.00000     0.00000\n",
      "rxn03462_c0       0.00000     0.00000\n",
      "rxn03893_c0      -0.03096    -0.03096\n",
      "rxn04052_c0       0.00000     0.00000\n",
      "rxn05336_c0       0.00000     0.00000\n",
      "rxn05342_c0       1.00042     1.00042\n",
      "rxn05343_c0       0.00000     0.00000\n",
      "rxn05344_c0       0.00000     0.00000\n",
      "rxn05345_c0      -1.00042    -1.00042\n",
      "rxn05346_c0       0.00000     0.00000\n",
      "rxn05347_c0       0.00000     0.00000\n",
      "rxn05348_c0       0.00000     0.00000\n",
      "rxn05359_c0      -0.85184    -0.85184\n",
      "rxn05363_c0      -0.85184    -0.85184\n",
      "rxn05367_c0      -0.85184    -0.85184\n",
      "rxn05371_c0      -0.85184    -0.85184\n",
      "rxn05375_c0      -0.85184    -0.85184\n",
      "rxn05379_c0      -0.85184    -0.85184\n",
      "rxn05384_c0      -0.85184    -0.85184\n",
      "rxn05388_c0      -0.85184    -0.85184\n",
      "rxn05392_c0      -0.85184    -0.85184\n",
      "rxn05396_c0      -0.85184    -0.85184\n",
      "rxn05400_c0      -0.85184    -0.85184\n",
      "rxn05404_c0      -0.85184    -0.85184\n",
      "rxn05409_c0       0.00000     0.00000\n",
      "rxn05413_c0       0.00000     0.00000\n",
      "rxn05417_c0       0.00000     0.00000\n",
      "rxn05421_c0       0.00000     0.00000\n",
      "rxn05425_c0       0.00000     0.00000\n",
      "rxn05429_c0       0.00000     0.00000\n",
      "rxn05460_c0       0.00000     0.00000\n",
      "rxn06181_c0       0.00000     0.00000\n",
      "rxn06453_c0       0.00000     0.00000\n",
      "rxn06723_c0      -0.50021    -0.50021\n",
      "rxn08333_c0      -0.06193    -0.06193\n",
      "rxn09448_c0       0.00000     0.00000\n",
      "rxn09988_c0       0.00000     0.00000\n",
      "rxn11612_c0       0.00000     0.00000\n",
      "rxn12008_c0      -0.09289    -0.09289\n",
      "rxn13990_c0     995.96127    -1.00042\n",
      "\n",
      "[1556 rows x 2 columns]\n"
     ]
    }
   ],
   "source": [
    "fva_results = cobra.flux_analysis.flux_variability_analysis(xam_model, xam_model.reactions)\n",
    "fva_df = pandas.DataFrame.from_dict(fva_results).T.round(5)\n",
    "print(fva_df)"
   ]
  },
  {
   "cell_type": "code",
   "execution_count": 14,
   "metadata": {
    "collapsed": false,
    "nbpresent": {
     "id": "e0a579e0-a8f3-48a5-ba04-a67c34d92958"
    }
   },
   "outputs": [
    {
     "data": {
      "text/plain": [
       "<matplotlib.axes._subplots.AxesSubplot at 0x11e2be490>"
      ]
     },
     "execution_count": 14,
     "metadata": {},
     "output_type": "execute_result"
    },
    {
     "data": {
      "text/plain": [
       "<matplotlib.figure.Figure at 0x11b383e90>"
      ]
     },
     "metadata": {},
     "output_type": "display_data"
    },
    {
     "data": {
      "image/png": "[encoded data removed]",
      "text/plain": [
       "<matplotlib.figure.Figure at 0x11b3839d0>"
      ]
     },
     "metadata": {},
     "output_type": "display_data"
    },
    {
     "data": {
      "image/png": "[encoded data removed]",
      "text/plain": [
       "<matplotlib.figure.Figure at 0x11e021210>"
      ]
     },
     "metadata": {},
     "output_type": "display_data"
    }
   ],
   "source": [
    "fva_df_sort = fva_df.sort_values(by=['maximum', 'minimum'])\n",
    "plt.figure(dpi=400)\n",
    "fva_df_sort.plot.box()\n",
    "#plt.savefig('FVA_Xam_plot.svg', format='svg', dpi=1200)\n",
    "fva_df_sort.plot.line()\n",
    "#plt.savefig('FVA_Xam.svg', format='svg', dpi=1200)"
   ]
  },
  {
   "cell_type": "code",
   "execution_count": null,
   "metadata": {
    "collapsed": false
   },
   "outputs": [],
   "source": [
    "fva_df_sort.plot.bar()\n",
    "plt.tick_params(labeltop=False, labelbottom=False, bottom=False, top=False, labelright=True)\n",
    "#plt.savefig('FVA_Xam_bar.svg', format='svg', dpi=1200)\n",
    "#plt.savefig('FVA_Xam_bar.png', format='png', dpi=1200)"
   ]
  },
  {
   "cell_type": "markdown",
   "metadata": {},
   "source": [
    "### FVA 90%"
   ]
  },
  {
   "cell_type": "code",
   "execution_count": 86,
   "metadata": {
    "collapsed": false,
    "nbpresent": {
     "id": "b88f9111-ba96-4573-b358-ec290ba123db"
    },
    "scrolled": true
   },
   "outputs": [
    {
     "name": "stdout",
     "output_type": "stream",
     "text": [
      "                  maximum     minimum\n",
      "10FTHFGLULL       0.00000     0.00000\n",
      "2DHPFALDL         0.00000     0.00000\n",
      "2HBO              0.00000     0.00000\n",
      "2OH3K5MPPISO      0.00000     0.00000\n",
      "34DHOXPEGOX       0.00000     0.00000\n",
      "3HAO              0.00000     0.00000\n",
      "3HBCOAHL          0.00000  -880.79611\n",
      "3HLYTCL           0.00000     0.00000\n",
      "3OAR100           0.00000     0.00000\n",
      "3OAR120           0.00000     0.00000\n",
      "3OAR40_1          0.00000     0.00000\n",
      "3OAR60            0.00000     0.00000\n",
      "3OAR80            0.00000     0.00000\n",
      "3OAS80            0.00000     0.00000\n",
      "4ABUTD            0.00000     0.00000\n",
      "4CMLCL_kt         0.00000     0.00000\n",
      "4HTHRS            0.00000     0.00000\n",
      "56DH5FLURAAMH     0.00000     0.00000\n",
      "5FLURAPRT         0.00000     0.00000\n",
      "5HLTDL            0.00000     0.00000\n",
      "5HXKYNDCL         0.00000     0.00000\n",
      "A5PISO          -12.18847   -13.54274\n",
      "AACOAR_syn     1000.00000 -1000.00000\n",
      "AACOAT            0.00000 -1000.00000\n",
      "AASPh             0.00000   -38.70629\n",
      "ABUTD             0.00000     0.00000\n",
      "ACACT1            0.00000   -15.37521\n",
      "ACACT10m        946.88358   -15.37521\n",
      "ACACT2            0.00000     0.00000\n",
      "ACACT3            0.00000     0.00000\n",
      "ACACT4m           0.00000     0.00000\n",
      "ACACT5m           0.00000     0.00000\n",
      "ACACT6m           0.00000     0.00000\n",
      "ACACT7m           0.00000  -975.62306\n",
      "ACAS_2ahbut     -39.27873 -1000.00000\n",
      "ACBIPGT          -0.50300    -0.55889\n",
      "ACCOAC         1000.00000   200.00000\n",
      "ACCOAC_1        800.00000     0.00000\n",
      "ACCOAL            0.00000     0.00000\n",
      "ACGK              0.00000  -795.65374\n",
      "ACGS              0.00000  -795.65374\n",
      "ACOA40OR          0.00000     0.00000\n",
      "ACOAD1            0.00000     0.00000\n",
      "ACOAD10m          0.00000 -1000.00000\n",
      "ACOAD2            0.00000     0.00000\n",
      "ACOAD3            0.00000     0.00000\n",
      "ACOAD4            0.00000     0.00000\n",
      "ACOAD5            0.00000     0.00000\n",
      "ACOAD6            0.00000     0.00000\n",
      "ACOAD7          975.62306     0.00000\n",
      "...                   ...         ...\n",
      "XYLK           1000.00000 -1000.00000\n",
      "ZN2t4pp          -0.50300    -0.55889\n",
      "rxn00016_c0       0.00000     0.00000\n",
      "rxn00816_c0       0.00000     0.00000\n",
      "rxn01044_c0    1000.00000 -1000.00000\n",
      "rxn01080_c0       0.00000     0.00000\n",
      "rxn01292_c0     800.00000     0.00000\n",
      "rxn01457_c0       0.00000     0.00000\n",
      "rxn02362_c0       0.00000     0.00000\n",
      "rxn03462_c0       0.00000     0.00000\n",
      "rxn03893_c0      -0.50300    -0.55889\n",
      "rxn04052_c0       0.00000     0.00000\n",
      "rxn05336_c0       0.00000     0.00000\n",
      "rxn05342_c0      18.05699    16.25129\n",
      "rxn05343_c0       0.00000     0.00000\n",
      "rxn05344_c0       0.00000     0.00000\n",
      "rxn05345_c0     -16.25129   -18.05699\n",
      "rxn05346_c0       0.00000     0.00000\n",
      "rxn05347_c0       0.00000     0.00000\n",
      "rxn05348_c0       0.00000     0.00000\n",
      "rxn05359_c0     -13.83769   -15.37521\n",
      "rxn05363_c0     -13.83769   -15.37521\n",
      "rxn05367_c0     -13.83769   -15.37521\n",
      "rxn05371_c0     -13.83769   -15.37521\n",
      "rxn05375_c0     -13.83769   -15.37521\n",
      "rxn05379_c0     -13.83769   -15.37521\n",
      "rxn05384_c0     -13.83769   -15.37521\n",
      "rxn05388_c0     -13.83769   -15.37521\n",
      "rxn05392_c0     -13.83769   -15.37521\n",
      "rxn05396_c0     -13.83769   -15.37521\n",
      "rxn05400_c0     -13.83769   -15.37521\n",
      "rxn05404_c0     -13.83769   -15.37521\n",
      "rxn05409_c0       0.00000     0.00000\n",
      "rxn05413_c0       0.00000     0.00000\n",
      "rxn05417_c0       0.00000     0.00000\n",
      "rxn05421_c0       0.00000     0.00000\n",
      "rxn05425_c0       0.00000     0.00000\n",
      "rxn05429_c0       0.00000     0.00000\n",
      "rxn05460_c0       0.00000     0.00000\n",
      "rxn05485_c0     566.98133 -1000.00000\n",
      "rxn05671_c0    1000.00000 -1000.00000\n",
      "rxn06181_c0       0.00000     0.00000\n",
      "rxn06453_c0       0.00000     0.00000\n",
      "rxn06723_c0      -8.12565    -9.02850\n",
      "rxn08333_c0      -1.00601    -1.11778\n",
      "rxn09448_c0       0.00000     0.00000\n",
      "rxn09988_c0       0.00000     0.00000\n",
      "rxn11612_c0       0.00000     0.00000\n",
      "rxn12008_c0      -1.50901    -1.67668\n",
      "rxn13990_c0     983.74871   -18.05699\n",
      "\n",
      "[1539 rows x 2 columns]\n"
     ]
    }
   ],
   "source": [
    "fva_results = cobra.flux_analysis.flux_variability_analysis(xam_model, xam_model.reactions, fraction_of_optimum=0.9)\n",
    "fva_df = pandas.DataFrame.from_dict(fva_results).T.round(5)\n",
    "print(fva_df)"
   ]
  },
  {
   "cell_type": "code",
   "execution_count": 87,
   "metadata": {
    "collapsed": false,
    "nbpresent": {
     "id": "32d20010-cb86-4f1f-9bcf-7f3fdee58fd2"
    }
   },
   "outputs": [
    {
     "data": {
      "text/plain": [
       "<matplotlib.axes._subplots.AxesSubplot at 0x11fc659d0>"
      ]
     },
     "execution_count": 87,
     "metadata": {},
     "output_type": "execute_result"
    },
    {
     "data": {
      "text/plain": [
       "<matplotlib.figure.Figure at 0x11a0ae6d0>"
      ]
     },
     "metadata": {},
     "output_type": "display_data"
    },
    {
     "data": {
      "image/png": "[encoded data removed]",
      "text/plain": [
       "<matplotlib.figure.Figure at 0x11a083450>"
      ]
     },
     "metadata": {},
     "output_type": "display_data"
    },
    {
     "data": {
      "image/png": "[encoded data removed]",
      "text/plain": [
       "<matplotlib.figure.Figure at 0x11f4b6910>"
      ]
     },
     "metadata": {},
     "output_type": "display_data"
    }
   ],
   "source": [
    "fva_df_sort = fva_df.sort_values(by=['maximum', 'minimum'])\n",
    "plt.figure(dpi=400)\n",
    "fva_df_sort.plot.box()\n",
    "#plt.savefig('FVA_Xam_plot_90.svg', format='svg', dpi=1200)\n",
    "fva_df_sort.plot.line()\n",
    "#plt.savefig('FVA_Xam_line_90.png', format='png', dpi=1200)"
   ]
  },
  {
   "cell_type": "code",
   "execution_count": 88,
   "metadata": {
    "collapsed": false
   },
   "outputs": [
    {
     "data": {
      "image/png": "[encoded data removed]",
      "text/plain": [
       "<matplotlib.figure.Figure at 0x11a0b7150>"
      ]
     },
     "metadata": {},
     "output_type": "display_data"
    }
   ],
   "source": [
    "fva_df_sort.plot.bar()\n",
    "plt.tick_params(labeltop=False, labelbottom=False, bottom=False, top=False, labelright=True)\n",
    "#plt.savefig('FVA_Xam_bar_90.svg', format='svg', dpi=400)\n",
    "#plt.savefig('FVA_Xam_bar_90.png', format='png', dpi=400)"
   ]
  },
  {
   "cell_type": "markdown",
   "metadata": {},
   "source": [
    "### FVA 50%"
   ]
  },
  {
   "cell_type": "code",
   "execution_count": 89,
   "metadata": {
    "collapsed": false,
    "nbpresent": {
     "id": "45ce90e6-c867-4814-a6a7-6329cb44b38c"
    },
    "scrolled": true
   },
   "outputs": [
    {
     "name": "stdout",
     "output_type": "stream",
     "text": [
      "                  maximum     minimum\n",
      "reaction                             \n",
      "10FTHFGLULL       0.00000     0.00000\n",
      "2DHPFALDL         0.00000     0.00000\n",
      "2HBO              0.00000     0.00000\n",
      "2OH3K5MPPISO      0.00000     0.00000\n",
      "34DHOXPEGOX       0.00000     0.00000\n",
      "3HAO              0.00000     0.00000\n",
      "3HBCOAHL          0.00000  -933.77562\n",
      "3HLYTCL           0.00000     0.00000\n",
      "3OAR100           0.00000     0.00000\n",
      "3OAR120           0.00000     0.00000\n",
      "3OAR40_1          0.00000     0.00000\n",
      "3OAR60            0.00000     0.00000\n",
      "3OAR80            0.00000     0.00000\n",
      "3OAS80            0.00000     0.00000\n",
      "4ABUTD            0.00000     0.00000\n",
      "4CMLCL_kt         0.00000     0.00000\n",
      "4HTHRS            0.00000     0.00000\n",
      "56DH5FLURAAMH     0.00000     0.00000\n",
      "5FLURAPRT         0.00000     0.00000\n",
      "5HLTDL            0.00000     0.00000\n",
      "5HXKYNDCL         0.00000     0.00000\n",
      "A5PISO           -6.77137   -13.54274\n",
      "AACOAR_syn     1000.00000 -1000.00000\n",
      "AACOAT            0.00000 -1000.00000\n",
      "AASPh             0.00000   -38.70629\n",
      "ABUTD             0.00000     0.00000\n",
      "ACACT1            0.00000   -15.37521\n",
      "ACACT10m        970.49088   -15.37521\n",
      "ACACT2            0.00000     0.00000\n",
      "ACACT3            0.00000     0.00000\n",
      "ACACT4m           0.00000     0.00000\n",
      "ACACT5m           0.00000     0.00000\n",
      "ACACT6m           0.00000     0.00000\n",
      "ACACT7m           0.00000  -986.45726\n",
      "ACAS_2ahbut     -21.82152 -1000.00000\n",
      "ACBIPGT          -0.27945    -0.55889\n",
      "ACCOAC         1000.00000 -1000.00000\n",
      "ACCOAC_1       1000.00000     0.00000\n",
      "ACCOAL            0.00000     0.00000\n",
      "ACGK              0.00000 -1000.00000\n",
      "ACGS              0.00000 -1000.00000\n",
      "ACOA40OR          0.00000     0.00000\n",
      "ACOAD1            0.00000     0.00000\n",
      "ACOAD10m          0.00000 -1000.00000\n",
      "ACOAD2            0.00000     0.00000\n",
      "ACOAD3            0.00000     0.00000\n",
      "ACOAD4            0.00000     0.00000\n",
      "ACOAD5            0.00000     0.00000\n",
      "ACOAD6            0.00000     0.00000\n",
      "ACOAD7          986.45726     0.00000\n",
      "...                   ...         ...\n",
      "XYLK           1000.00000 -1000.00000\n",
      "ZN2t4pp          -0.27945    -0.55889\n",
      "rxn00016_c0       0.00000     0.00000\n",
      "rxn00816_c0       0.00000     0.00000\n",
      "rxn01044_c0    1000.00000 -1000.00000\n",
      "rxn01080_c0       0.00000     0.00000\n",
      "rxn01292_c0    1000.00000     0.00000\n",
      "rxn01457_c0       0.00000     0.00000\n",
      "rxn02362_c0       0.00000     0.00000\n",
      "rxn03462_c0       0.00000     0.00000\n",
      "rxn03893_c0      -0.27945    -0.55889\n",
      "rxn04052_c0       0.00000     0.00000\n",
      "rxn05336_c0       0.00000     0.00000\n",
      "rxn05342_c0      18.05699     9.02850\n",
      "rxn05343_c0       0.00000     0.00000\n",
      "rxn05344_c0       0.00000     0.00000\n",
      "rxn05345_c0      -9.02850   -18.05699\n",
      "rxn05346_c0       0.00000     0.00000\n",
      "rxn05347_c0       0.00000     0.00000\n",
      "rxn05348_c0       0.00000     0.00000\n",
      "rxn05359_c0      -7.68761   -15.37521\n",
      "rxn05363_c0      -7.68761   -15.37521\n",
      "rxn05367_c0      -7.68761   -15.37521\n",
      "rxn05371_c0      -7.68761   -15.37521\n",
      "rxn05375_c0      -7.68761   -15.37521\n",
      "rxn05379_c0      -7.68761   -15.37521\n",
      "rxn05384_c0      -7.68761   -15.37521\n",
      "rxn05388_c0      -7.68761   -15.37521\n",
      "rxn05392_c0      -7.68761   -15.37521\n",
      "rxn05396_c0      -7.68761   -15.37521\n",
      "rxn05400_c0      -7.68761   -15.37521\n",
      "rxn05404_c0      -7.68761   -15.37521\n",
      "rxn05409_c0       0.00000     0.00000\n",
      "rxn05413_c0       0.00000     0.00000\n",
      "rxn05417_c0       0.00000     0.00000\n",
      "rxn05421_c0       0.00000     0.00000\n",
      "rxn05425_c0       0.00000     0.00000\n",
      "rxn05429_c0       0.00000     0.00000\n",
      "rxn05460_c0       0.00000     0.00000\n",
      "rxn05485_c0    1000.00000 -1000.00000\n",
      "rxn05671_c0    1000.00000 -1000.00000\n",
      "rxn06181_c0       0.00000     0.00000\n",
      "rxn06453_c0       0.00000     0.00000\n",
      "rxn06723_c0      -4.51425    -9.02850\n",
      "rxn08333_c0      -0.55889    -1.11778\n",
      "rxn09448_c0       0.00000     0.00000\n",
      "rxn09988_c0       0.00000     0.00000\n",
      "rxn11612_c0       0.00000     0.00000\n",
      "rxn12008_c0      -0.83834    -1.67668\n",
      "rxn13990_c0     990.97150   -18.05699\n",
      "\n",
      "[1539 rows x 2 columns]\n"
     ]
    }
   ],
   "source": [
    "fva_results = cobra.flux_analysis.flux_variability_analysis(xam_model, xam_model.reactions, fraction_of_optimum=0.5)\n",
    "fva_df = pandas.DataFrame.from_dict(fva_results).T.round(5)\n",
    "fva_df.index.name = 'reaction'\n",
    "print(fva_df)"
   ]
  },
  {
   "cell_type": "code",
   "execution_count": 90,
   "metadata": {
    "collapsed": false,
    "nbpresent": {
     "id": "210ef375-0724-46ae-b5f7-d5aadc32df11"
    },
    "scrolled": true
   },
   "outputs": [
    {
     "name": "stdout",
     "output_type": "stream",
     "text": [
      "                   maximum     minimum\n",
      "reaction                              \n",
      "EX_rxn13782_c0   -90.24670  -180.49341\n",
      "EX_rxn13783_c0   -90.24670  -180.49341\n",
      "EX_rxn13784_c0   -90.24670  -180.49341\n",
      "MCOATA           -89.99414  -179.98829\n",
      "EX_pi_e          -72.44057 -1000.00000\n",
      "PIabc            -72.44057 -1000.00000\n",
      "APLh             -66.22438 -1000.00000\n",
      "IMDHT            -33.87761   -82.97096\n",
      "IPMD             -33.87761   -82.97096\n",
      "IPPS             -33.87761   -82.97096\n",
      "OMCDC            -33.87761   -82.97096\n",
      "EX_lys__L_e      -28.01696   -56.03393\n",
      "LYSt2m           -28.01696   -56.03393\n",
      "CDPMEK           -27.62282   -55.24565\n",
      "CMS              -27.62282   -55.24565\n",
      "DXPRIi           -27.62282   -55.24565\n",
      "DXPS             -27.62282   -55.24565\n",
      "MCS              -27.62282   -55.24565\n",
      "DDPA             -25.67388   -51.34776\n",
      "DHQTi            -25.67388   -51.34776\n",
      "SHKK             -25.67388   -51.34776\n",
      "EX_arg__L_e      -22.26357 -1000.00000\n",
      "ACAS_2ahbut      -21.82152 -1000.00000\n",
      "MNXR79704        -21.82152 -1000.00000\n",
      "ASNS1            -18.12432 -1000.00000\n",
      "PRPPS            -15.34251 -1000.00000\n",
      "PHETA1           -13.94487   -27.88975\n",
      "PPNDH            -13.94487   -27.88975\n",
      "EX_ttdca_e       -13.54274 -1000.00000\n",
      "FACOAL140        -13.54274 -1000.00000\n",
      "MNXR53366        -13.54274 -1000.00000\n",
      "GMHEPAT           -9.02850   -18.05699\n",
      "MNXR2786          -9.02850   -18.05699\n",
      "S7PI              -9.02850   -18.05699\n",
      "UAGDP             -9.02850   -18.05699\n",
      "rxn05345_c0       -9.02850   -18.05699\n",
      "EX_ocdca_e        -7.68761   -15.37521\n",
      "MNXR27634         -7.68761   -15.37521\n",
      "MNXR27638         -7.68761   -15.37521\n",
      "MNXR27642         -7.68761   -15.37521\n",
      "MNXR27647         -7.68761   -15.37521\n",
      "MNXR27651         -7.68761   -15.37521\n",
      "MNXR27655         -7.68761   -15.37521\n",
      "MNXR27659         -7.68761   -15.37521\n",
      "MNXR27663         -7.68761   -15.37521\n",
      "MNXR27667         -7.68761   -15.37521\n",
      "MNXR27672         -7.68761   -15.37521\n",
      "MNXR27676         -7.68761   -15.37521\n",
      "MNXR27680         -7.68761   -15.37521\n",
      "MNXR53357         -7.68761   -15.37521\n",
      "...                    ...         ...\n",
      "EX_cpd15561     1000.00000    -0.00000\n",
      "EX_din_e        1000.00000     0.00000\n",
      "EX_h2o_e        1000.00000     0.00000\n",
      "EX_uri_e        1000.00000     0.00000\n",
      "FACOAL160       1000.00000     0.00000\n",
      "FBP             1000.00000     0.00000\n",
      "FTCL            1000.00000     0.00000\n",
      "G5DHx           1000.00000     0.00000\n",
      "G6PDA           1000.00000     0.00000\n",
      "GAM             1000.00000     0.00000\n",
      "GAPDH_nadp_hi   1000.00000     0.00000\n",
      "IDPh            1000.00000     0.00000\n",
      "L_LACD2         1000.00000     0.00000\n",
      "L_LACD3         1000.00000     0.00000\n",
      "MALTabc         1000.00000     0.00000\n",
      "MCITL2          1000.00000     0.00000\n",
      "MNXR15065       1000.00000     0.00000\n",
      "MNXR16307       1000.00000     0.00000\n",
      "MNXR5404        1000.00000     0.00000\n",
      "MNXR79613       1000.00000    -0.00000\n",
      "MNXR80382       1000.00000     0.00000\n",
      "MNXR86939       1000.00000     0.00000\n",
      "MNXR93627       1000.00000     0.00000\n",
      "MNXR93687       1000.00000     0.00000\n",
      "NADH10          1000.00000     0.00000\n",
      "NADH5           1000.00000     0.00000\n",
      "NTD1            1000.00000     0.00000\n",
      "NTD4            1000.00000     0.00000\n",
      "NTD5            1000.00000     0.00000\n",
      "NTD7            1000.00000     0.00000\n",
      "NTRIR2x         1000.00000     0.00000\n",
      "NTRIR2y         1000.00000     0.00000\n",
      "OCOAT1          1000.00000     0.00000\n",
      "PGAMT           1000.00000     0.00000\n",
      "PROabc          1000.00000     0.00000\n",
      "PSP             1000.00000     0.00000\n",
      "RNMK            1000.00000     0.00000\n",
      "SBP             1000.00000     0.00000\n",
      "TAL             1000.00000     0.00000\n",
      "THRS            1000.00000     0.00000\n",
      "rxn01292_c0     1000.00000     0.00000\n",
      "DHFR            1000.00000     0.83834\n",
      "TDSRh           1000.00000     4.33744\n",
      "MTHFD           1000.00000     4.91771\n",
      "TTDCAt2         1000.00000    13.54274\n",
      "KARI            1000.00000    21.82152\n",
      "KARI_23dhmp     1000.00000    21.82152\n",
      "ARGORNt7        1000.00000    22.26357\n",
      "EX_orn_e        1000.00000    22.26357\n",
      "DHAD1           1000.00000    66.22438\n",
      "\n",
      "[1539 rows x 2 columns]\n"
     ]
    }
   ],
   "source": [
    "fva_df_sort = fva_df.sort_values(by=['maximum', 'minimum'])\n",
    "print(fva_df_sort)"
   ]
  },
  {
   "cell_type": "code",
   "execution_count": 91,
   "metadata": {
    "collapsed": false,
    "scrolled": true
   },
   "outputs": [
    {
     "name": "stdout",
     "output_type": "stream",
     "text": [
      "                maximum  minimum\n",
      "reaction                        \n",
      "AACOAR_syn       1000.0  -1000.0\n",
      "ACCOAC           1000.0  -1000.0\n",
      "ACONT            1000.0  -1000.0\n",
      "ACONTa           1000.0  -1000.0\n",
      "ACONTb           1000.0  -1000.0\n",
      "ADK1             1000.0  -1000.0\n",
      "AGTi             1000.0  -1000.0\n",
      "AKGDH            1000.0  -1000.0\n",
      "ALAR             1000.0  -1000.0\n",
      "ATGDm            1000.0  -1000.0\n",
      "ATPS4m           1000.0  -1000.0\n",
      "BCTA_val_h       1000.0  -1000.0\n",
      "CHOLD            1000.0  -1000.0\n",
      "CITt2r           1000.0  -1000.0\n",
      "CO2t             1000.0  -1000.0\n",
      "COALDDH          1000.0  -1000.0\n",
      "CTPS1            1000.0  -1000.0\n",
      "DAAD             1000.0  -1000.0\n",
      "DALAt2pp         1000.0  -1000.0\n",
      "DDGLCNt2r        1000.0  -1000.0\n",
      "DDGLK            1000.0  -1000.0\n",
      "EDA              1000.0  -1000.0\n",
      "ENO              1000.0  -1000.0\n",
      "ETHAt2pp         1000.0  -1000.0\n",
      "EX_2ddglcn_e     1000.0  -1000.0\n",
      "EX_MNXR94191_e   1000.0  -1000.0\n",
      "EX_ala__D_e      1000.0  -1000.0\n",
      "EX_cit_e         1000.0  -1000.0\n",
      "EX_co2_e         1000.0  -1000.0\n",
      "EX_cpd00122_e    1000.0  -1000.0\n",
      "EX_cpd00154_e    1000.0  -1000.0\n",
      "EX_etha_e        1000.0  -1000.0\n",
      "EX_fru_e         1000.0  -1000.0\n",
      "EX_fum_e         1000.0  -1000.0\n",
      "EX_gam_e         1000.0  -1000.0\n",
      "EX_glu__L_e      1000.0  -1000.0\n",
      "EX_gly_e         1000.0  -1000.0\n",
      "EX_glyc_e        1000.0  -1000.0\n",
      "EX_h_e           1000.0  -1000.0\n",
      "EX_hxan_e        1000.0  -1000.0\n",
      "EX_ins_e         1000.0  -1000.0\n",
      "EX_mal__L_e      1000.0  -1000.0\n",
      "EX_man_e         1000.0  -1000.0\n",
      "EX_nh4_e         1000.0  -1000.0\n",
      "EX_no2_e         1000.0  -1000.0\n",
      "EX_no3_e         1000.0  -1000.0\n",
      "EX_pro__L_e      1000.0  -1000.0\n",
      "EX_sbt__D_e      1000.0  -1000.0\n",
      "EX_ser__L_e      1000.0  -1000.0\n",
      "EX_succ_e        1000.0  -1000.0\n",
      "...                 ...      ...\n",
      "NDPK9            1000.0  -1000.0\n",
      "NFORGLUAH        1000.0  -1000.0\n",
      "NH4t             1000.0  -1000.0\n",
      "NO2t2r           1000.0  -1000.0\n",
      "NO3R2            1000.0  -1000.0\n",
      "NO3t2            1000.0  -1000.0\n",
      "P5CD             1000.0  -1000.0\n",
      "P5CR             1000.0  -1000.0\n",
      "P5CRx            1000.0  -1000.0\n",
      "PFK              1000.0  -1000.0\n",
      "PFK_3            1000.0  -1000.0\n",
      "PFK_adp          1000.0  -1000.0\n",
      "PGI              1000.0  -1000.0\n",
      "PGK              1000.0  -1000.0\n",
      "PGM              1000.0  -1000.0\n",
      "PLIPA1A120pp     1000.0  -1000.0\n",
      "PLIPA1A140pp     1000.0  -1000.0\n",
      "PLIPA1A160pp     1000.0  -1000.0\n",
      "PLIPA1A180pp     1000.0  -1000.0\n",
      "PLIPA1E160       1000.0  -1000.0\n",
      "PLIPA2A120pp     1000.0  -1000.0\n",
      "PLIPA2A140pp     1000.0  -1000.0\n",
      "PLIPA2A160pp     1000.0  -1000.0\n",
      "PLIPA2A180pp     1000.0  -1000.0\n",
      "PPC              1000.0  -1000.0\n",
      "PROD2            1000.0  -1000.0\n",
      "PROt2r           1000.0  -1000.0\n",
      "PYK              1000.0  -1000.0\n",
      "R01465m          1000.0  -1000.0\n",
      "RBK              1000.0  -1000.0\n",
      "RPE              1000.0  -1000.0\n",
      "RPI              1000.0  -1000.0\n",
      "SADT             1000.0  -1000.0\n",
      "SADT2            1000.0  -1000.0\n",
      "SBTPD            1000.0  -1000.0\n",
      "SBTpts           1000.0  -1000.0\n",
      "SERt2m           1000.0  -1000.0\n",
      "SPTc             1000.0  -1000.0\n",
      "SUCCt2_2         1000.0  -1000.0\n",
      "SUCCt2b          1000.0  -1000.0\n",
      "SUCLm            1000.0  -1000.0\n",
      "TALA             1000.0  -1000.0\n",
      "THD2             1000.0  -1000.0\n",
      "THRA             1000.0  -1000.0\n",
      "TPI              1000.0  -1000.0\n",
      "VPAMTr           1000.0  -1000.0\n",
      "XYLK             1000.0  -1000.0\n",
      "rxn01044_c0      1000.0  -1000.0\n",
      "rxn05485_c0      1000.0  -1000.0\n",
      "rxn05671_c0      1000.0  -1000.0\n",
      "\n",
      "[256 rows x 2 columns]\n"
     ]
    }
   ],
   "source": [
    "import numpy\n",
    "\n",
    "fva_df_sort_equal = fva_df_sort[(fva_df_sort[\"maximum\"] == 1000) & (fva_df_sort[\"minimum\"] == -1000)]\n",
    "print(fva_df_sort_equal)"
   ]
  },
  {
   "cell_type": "code",
   "execution_count": 92,
   "metadata": {
    "collapsed": false
   },
   "outputs": [
    {
     "data": {
      "text/plain": [
       "<matplotlib.axes._subplots.AxesSubplot at 0x12715e3d0>"
      ]
     },
     "execution_count": 92,
     "metadata": {},
     "output_type": "execute_result"
    },
    {
     "data": {
      "text/plain": [
       "<matplotlib.figure.Figure at 0x11e9b8890>"
      ]
     },
     "metadata": {},
     "output_type": "display_data"
    },
    {
     "data": {
      "image/png": "[encoded data removed]",
      "text/plain": [
       "<matplotlib.figure.Figure at 0x119d8fd10>"
      ]
     },
     "metadata": {},
     "output_type": "display_data"
    },
    {
     "data": {
      "image/png": "[encoded data removed]",
      "text/plain": [
       "<matplotlib.figure.Figure at 0x11a0b4c90>"
      ]
     },
     "metadata": {},
     "output_type": "display_data"
    }
   ],
   "source": [
    "plt.figure(dpi=400)\n",
    "fva_df_sort.plot.box()\n",
    "#plt.savefig('FVA_Xam_box_50.svg', format='svg', dpi=1200)\n",
    "#plt.savefig('FVA_Xam_box_50.png', format='png', dpi=1200)\n",
    "fva_df_sort.plot.line()\n",
    "#plt.savefig('FVA_Xam_plot_50.svg', format='svg', dpi=1200)\n",
    "#plt.savefig('FVA_Xam_plot_50.png', format='png', dpi=1200)"
   ]
  },
  {
   "cell_type": "code",
   "execution_count": 93,
   "metadata": {
    "collapsed": false
   },
   "outputs": [
    {
     "data": {
      "image/png": "[encoded data removed]",
      "text/plain": [
       "<matplotlib.figure.Figure at 0x11f8cfe10>"
      ]
     },
     "metadata": {},
     "output_type": "display_data"
    }
   ],
   "source": [
    "fva_df_sort.plot.bar()\n",
    "plt.tick_params(labeltop=False, labelbottom=False, bottom=False, top=False, labelright=True)\n",
    "#plt.savefig('FVA_Xam_bar_50.svg', format='svg', dpi=1200)\n",
    "#plt.savefig('FVA_Xam_bar_50.png', format='png', dpi=1200)"
   ]
  },
  {
   "cell_type": "code",
   "execution_count": 94,
   "metadata": {
    "collapsed": false,
    "scrolled": true
   },
   "outputs": [
    {
     "name": "stdout",
     "output_type": "stream",
     "text": [
      "                 maximum     minimum\n",
      "reaction                            \n",
      "AMPTASECG        0.55889  -999.72055\n",
      "MG2t             0.55889  -999.72055\n",
      "Kt1              1.11778  -999.44111\n",
      "THMDt2           2.89163  -997.71585\n",
      "HACD9           15.37521  -970.49088\n",
      "MNXR14768       15.40577   -23.59137\n",
      "MNXR87148       18.05699  -990.97150\n",
      "MNXR3495        25.82364   -13.17235\n",
      "SO4t2           39.45118  -999.72055\n",
      "GCC2cm         176.09180 -1000.00000\n",
      "FERO           500.13972  -500.41917\n",
      "PDHam2hi       904.26649 -1000.00000\n",
      "CYTK1          924.38157 -1000.00000\n",
      "KARI_23dhmb    933.77562 -1000.00000\n",
      "UMPK           935.20983  -989.17174\n",
      "ADNK1          963.32094 -1000.00000\n",
      "ASPATh         963.75136 -1000.00000\n",
      "EX_ASPt5n_e    963.75136 -1000.00000\n",
      "EX_adn_e       964.43873 -1000.00000\n",
      "TKT2           965.29763 -1000.00000\n",
      "BCTA_glu_h     966.12239 -1000.00000\n",
      "EX_cytd_e      967.42433 -1000.00000\n",
      "ITCY           967.42433 -1000.00000\n",
      "ACACT10m       970.49088   -15.37521\n",
      "ECOAH9ir       970.49088   -15.37521\n",
      "IMPD           977.50421  -999.72055\n",
      "ORNTA          977.73643   -45.08604\n",
      "NDPK8          983.21168 -1000.00000\n",
      "MNXR93746      984.65749 -1000.00000\n",
      "HXAND          984.65749  -992.56728\n",
      "EX_tre_e       988.71438 -1000.00000\n",
      "TRE6PS         988.71438 -1000.00000\n",
      "GALUi          990.97150  -997.74288\n",
      "rxn13990_c0    990.97150   -18.05699\n",
      "MTHFC          992.56728 -1000.00000\n",
      "HDH            992.84672  -999.72055\n",
      "ACS            995.48575 -1000.00000\n",
      "DURIK1         995.66256 -1000.00000\n",
      "EX_dad_2_e     995.66256 -1000.00000\n",
      "EX_dcyt_e      995.66256 -1000.00000\n",
      "NADK           996.01762 -1000.00000\n",
      "MNXR94202      997.11715 -1000.00000\n",
      "MNXR94226      997.11715 -1000.00000\n",
      "TMDK1          997.71585 -1000.00000\n",
      "EX_thymd_e     997.71585    -2.89163\n",
      "GK2            998.55419  -984.65749\n",
      "NDPK3          998.55419  -925.82739\n",
      "EX_o2_e        998.67263 -1000.00000\n",
      "DURIt2         999.16166 -1000.00000\n",
      "MNXR1587       999.16166    -1.67668\n",
      "...                  ...         ...\n",
      "RPE           1000.00000 -1000.00000\n",
      "RPI           1000.00000 -1000.00000\n",
      "SADT          1000.00000 -1000.00000\n",
      "SADT2         1000.00000 -1000.00000\n",
      "SBTPD         1000.00000 -1000.00000\n",
      "SBTpts        1000.00000 -1000.00000\n",
      "SERt2m        1000.00000 -1000.00000\n",
      "SPTc          1000.00000 -1000.00000\n",
      "SUCCt2_2      1000.00000 -1000.00000\n",
      "SUCCt2b       1000.00000 -1000.00000\n",
      "SUCLm         1000.00000 -1000.00000\n",
      "TALA          1000.00000 -1000.00000\n",
      "THD2          1000.00000 -1000.00000\n",
      "THRA          1000.00000 -1000.00000\n",
      "TPI           1000.00000 -1000.00000\n",
      "VPAMTr        1000.00000 -1000.00000\n",
      "XYLK          1000.00000 -1000.00000\n",
      "rxn01044_c0   1000.00000 -1000.00000\n",
      "rxn05485_c0   1000.00000 -1000.00000\n",
      "rxn05671_c0   1000.00000 -1000.00000\n",
      "EX_duri_e     1000.00000  -999.16166\n",
      "LPLIPAL2E180  1000.00000  -999.03905\n",
      "PLIPA1E180    1000.00000  -999.03905\n",
      "O2t           1000.00000  -998.67263\n",
      "MNXR94254     1000.00000  -997.11715\n",
      "MNXR94265     1000.00000  -997.11715\n",
      "NDPK4         1000.00000  -996.01762\n",
      "DADNt2        1000.00000  -995.66256\n",
      "DCYTt2        1000.00000  -995.66256\n",
      "NDPK6         1000.00000  -995.66256\n",
      "URIDK2m       1000.00000  -995.66256\n",
      "AGDC          1000.00000  -995.48575\n",
      "FPGFTh        1000.00000  -992.56728\n",
      "PGMT          1000.00000  -988.71438\n",
      "TREpts        1000.00000  -988.71438\n",
      "CPS           1000.00000  -984.65749\n",
      "XTSNH         1000.00000  -984.65749\n",
      "GK1           1000.00000  -983.21168\n",
      "MNXR79548     1000.00000  -978.17848\n",
      "MNXR93748     1000.00000  -978.17848\n",
      "GUDBUTNAH     1000.00000  -977.73643\n",
      "MNXR40622     1000.00000  -977.73643\n",
      "CYTDt2        1000.00000  -967.42433\n",
      "MNXR93704     1000.00000  -966.12239\n",
      "TKT1          1000.00000  -965.29763\n",
      "ADNt2         1000.00000  -964.43873\n",
      "ASPt2_2       1000.00000  -963.75136\n",
      "DMORh         1000.00000  -933.77562\n",
      "KARI_3hmoa    1000.00000  -933.77562\n",
      "PDHbr         1000.00000  -904.26649\n",
      "\n",
      "[341 rows x 2 columns]\n",
      "341\n"
     ]
    }
   ],
   "source": [
    "import numpy\n",
    "\n",
    "fva_df_sort_equal = fva_df_sort[(fva_df_sort[\"maximum\"] > 0) & (fva_df_sort[\"minimum\"] < 0)]\n",
    "print(fva_df_sort_equal)\n",
    "print(len(fva_df_sort_equal))"
   ]
  },
  {
   "cell_type": "code",
   "execution_count": 109,
   "metadata": {
    "collapsed": false,
    "nbpresent": {
     "id": "f8516322-89f8-45d5-aaff-c16efa62c6a8"
    },
    "scrolled": true
   },
   "outputs": [
    {
     "ename": "TypeError",
     "evalue": "object of type 'NoneType' has no len()",
     "output_type": "error",
     "traceback": [
      "\u001b[0;31m---------------------------------------------------------------------------\u001b[0m",
      "\u001b[0;31mTypeError\u001b[0m                                 Traceback (most recent call last)",
      "\u001b[0;32m<ipython-input-109-21676e925e12>\u001b[0m in \u001b[0;36m<module>\u001b[0;34m()\u001b[0m\n\u001b[0;32m----> 1\u001b[0;31m \u001b[0mxam_model\u001b[0m\u001b[0;34m.\u001b[0m\u001b[0mmetabolites\u001b[0m\u001b[0;34m.\u001b[0m\u001b[0mnadh_c\u001b[0m\u001b[0;34m.\u001b[0m\u001b[0msummary\u001b[0m\u001b[0;34m(\u001b[0m\u001b[0mfva\u001b[0m\u001b[0;34m=\u001b[0m\u001b[0;36m0.95\u001b[0m\u001b[0;34m)\u001b[0m\u001b[0;34m\u001b[0m\u001b[0m\n\u001b[0m",
      "\u001b[0;32m/Users/david/anaconda/envs/python2/lib/python2.7/site-packages/cobra/core/Metabolite.pyc\u001b[0m in \u001b[0;36msummary\u001b[0;34m(self, **kwargs)\u001b[0m\n\u001b[1;32m    163\u001b[0m         \u001b[0;32mtry\u001b[0m\u001b[0;34m:\u001b[0m\u001b[0;34m\u001b[0m\u001b[0m\n\u001b[1;32m    164\u001b[0m             \u001b[0;32mfrom\u001b[0m \u001b[0;34m.\u001b[0m\u001b[0;34m.\u001b[0m\u001b[0mflux_analysis\u001b[0m\u001b[0;34m.\u001b[0m\u001b[0msummary\u001b[0m \u001b[0;32mimport\u001b[0m \u001b[0mmetabolite_summary\u001b[0m\u001b[0;34m\u001b[0m\u001b[0m\n\u001b[0;32m--> 165\u001b[0;31m             \u001b[0;32mreturn\u001b[0m \u001b[0mmetabolite_summary\u001b[0m\u001b[0;34m(\u001b[0m\u001b[0mself\u001b[0m\u001b[0;34m,\u001b[0m \u001b[0;34m**\u001b[0m\u001b[0mkwargs\u001b[0m\u001b[0;34m)\u001b[0m\u001b[0;34m\u001b[0m\u001b[0m\n\u001b[0m\u001b[1;32m    166\u001b[0m         \u001b[0;32mexcept\u001b[0m \u001b[0mImportError\u001b[0m\u001b[0;34m:\u001b[0m\u001b[0;34m\u001b[0m\u001b[0m\n\u001b[1;32m    167\u001b[0m             \u001b[0mwarn\u001b[0m\u001b[0;34m(\u001b[0m\u001b[0;34m'Summary methods require pandas'\u001b[0m\u001b[0;34m)\u001b[0m\u001b[0;34m\u001b[0m\u001b[0m\n",
      "\u001b[0;32m/Users/david/anaconda/envs/python2/lib/python2.7/site-packages/cobra/flux_analysis/summary.pyc\u001b[0m in \u001b[0;36mmetabolite_summary\u001b[0;34m(met, threshold, fva, **solver_args)\u001b[0m\n\u001b[1;32m     82\u001b[0m             lambda x: format_long_string(x, 8))\n\u001b[1;32m     83\u001b[0m \u001b[0;34m\u001b[0m\u001b[0m\n\u001b[0;32m---> 84\u001b[0;31m     \u001b[0mhead\u001b[0m \u001b[0;34m=\u001b[0m \u001b[0;34m\"PRODUCING REACTIONS -- \"\u001b[0m \u001b[0;34m+\u001b[0m \u001b[0mformat_long_string\u001b[0m\u001b[0;34m(\u001b[0m\u001b[0mmet\u001b[0m\u001b[0;34m.\u001b[0m\u001b[0mname\u001b[0m\u001b[0;34m,\u001b[0m \u001b[0;36m55\u001b[0m\u001b[0;34m)\u001b[0m\u001b[0;34m\u001b[0m\u001b[0m\n\u001b[0m\u001b[1;32m     85\u001b[0m     \u001b[0mprint_\u001b[0m\u001b[0;34m(\u001b[0m\u001b[0mhead\u001b[0m\u001b[0;34m)\u001b[0m\u001b[0;34m\u001b[0m\u001b[0m\n\u001b[1;32m     86\u001b[0m     \u001b[0mprint_\u001b[0m\u001b[0;34m(\u001b[0m\u001b[0;34m\"-\"\u001b[0m \u001b[0;34m*\u001b[0m \u001b[0mlen\u001b[0m\u001b[0;34m(\u001b[0m\u001b[0mhead\u001b[0m\u001b[0;34m)\u001b[0m\u001b[0;34m)\u001b[0m\u001b[0;34m\u001b[0m\u001b[0m\n",
      "\u001b[0;32m/Users/david/anaconda/envs/python2/lib/python2.7/site-packages/cobra/flux_analysis/summary.pyc\u001b[0m in \u001b[0;36mformat_long_string\u001b[0;34m(string, max_length)\u001b[0m\n\u001b[1;32m      8\u001b[0m \u001b[0;34m\u001b[0m\u001b[0m\n\u001b[1;32m      9\u001b[0m \u001b[0;32mdef\u001b[0m \u001b[0mformat_long_string\u001b[0m\u001b[0;34m(\u001b[0m\u001b[0mstring\u001b[0m\u001b[0;34m,\u001b[0m \u001b[0mmax_length\u001b[0m\u001b[0;34m)\u001b[0m\u001b[0;34m:\u001b[0m\u001b[0;34m\u001b[0m\u001b[0m\n\u001b[0;32m---> 10\u001b[0;31m     \u001b[0;32mif\u001b[0m \u001b[0mlen\u001b[0m\u001b[0;34m(\u001b[0m\u001b[0mstring\u001b[0m\u001b[0;34m)\u001b[0m \u001b[0;34m>\u001b[0m \u001b[0mmax_length\u001b[0m\u001b[0;34m:\u001b[0m\u001b[0;34m\u001b[0m\u001b[0m\n\u001b[0m\u001b[1;32m     11\u001b[0m         \u001b[0mstring\u001b[0m \u001b[0;34m=\u001b[0m \u001b[0mstring\u001b[0m\u001b[0;34m[\u001b[0m\u001b[0;34m:\u001b[0m\u001b[0mmax_length\u001b[0m \u001b[0;34m-\u001b[0m \u001b[0;36m3\u001b[0m\u001b[0;34m]\u001b[0m\u001b[0;34m\u001b[0m\u001b[0m\n\u001b[1;32m     12\u001b[0m         \u001b[0mstring\u001b[0m \u001b[0;34m+=\u001b[0m \u001b[0;34m'...'\u001b[0m\u001b[0;34m\u001b[0m\u001b[0m\n",
      "\u001b[0;31mTypeError\u001b[0m: object of type 'NoneType' has no len()"
     ]
    }
   ],
   "source": [
    "xam_model.metabolites.nadh_c.summary(fva=0.95)"
   ]
  },
  {
   "cell_type": "markdown",
   "metadata": {
    "nbpresent": {
     "id": "9d26ee0c-053a-4cca-97b0-afdad5780207"
    }
   },
   "source": [
    "### pFBA"
   ]
  },
  {
   "cell_type": "code",
   "execution_count": 103,
   "metadata": {
    "collapsed": true,
    "nbpresent": {
     "id": "1add68ed-7042-4b00-84b4-7b4110bccbb3"
    }
   },
   "outputs": [],
   "source": [
    "pFBA_sol = cobra.flux_analysis.optimize_minimal_flux(xam_model)"
   ]
  },
  {
   "cell_type": "code",
   "execution_count": 104,
   "metadata": {
    "collapsed": false,
    "nbpresent": {
     "id": "c2418a0f-1b6f-477a-9483-d02d75d88368"
    }
   },
   "outputs": [
    {
     "data": {
      "text/plain": [
       "5.684341886080802e-14"
      ]
     },
     "execution_count": 104,
     "metadata": {},
     "output_type": "execute_result"
    }
   ],
   "source": [
    "abs(FBA_sol.f - pFBA_sol.f)"
   ]
  },
  {
   "cell_type": "code",
   "execution_count": 107,
   "metadata": {
    "collapsed": true,
    "nbpresent": {
     "id": "6b35d368-3b87-42b6-9fdf-3d0d6a97bbac"
    }
   },
   "outputs": [],
   "source": [
    "xam_model.reactions.Biomass.name"
   ]
  }
 ],
 "metadata": {
  "anaconda-cloud": {},
  "kernelspec": {
   "display_name": "Python 3",
   "language": "python",
   "name": "python3"
  },
  "language_info": {
   "codemirror_mode": {
    "name": "ipython",
    "version": 3
   },
   "file_extension": ".py",
   "mimetype": "text/x-python",
   "name": "python",
   "nbconvert_exporter": "python",
   "pygments_lexer": "ipython3",
   "version": "3.4.5"
  },
  "nbpresent": {
   "slides": {
    "119309f6-cd6f-476d-8ed7-e0e675a60c38": {
     "id": "119309f6-cd6f-476d-8ed7-e0e675a60c38",
     "prev": "4f24e721-cf11-4e3b-b115-f35167ae34a2",
     "regions": {
      "2d74ddc0-9eef-4ad9-8a22-cfb7759ce808": {
       "attrs": {
        "height": 0.8,
        "width": 0.8,
        "x": 0.1,
        "y": 0.1
       },
       "content": {
        "cell": "e0a579e0-a8f3-48a5-ba04-a67c34d92958",
        "part": "whole"
       },
       "id": "2d74ddc0-9eef-4ad9-8a22-cfb7759ce808"
      }
     }
    },
    "1f0d93ec-01b2-4ffb-8abe-3386176fc5cd": {
     "id": "1f0d93ec-01b2-4ffb-8abe-3386176fc5cd",
     "prev": "3339cae2-b882-47dd-b557-ede244d76cf1",
     "regions": {
      "dc718618-d852-49f5-96b7-36bac32c1b89": {
       "attrs": {
        "height": 0.8,
        "width": 0.8,
        "x": 0.1,
        "y": 0.1
       },
       "content": {
        "cell": "210ef375-0724-46ae-b5f7-d5aadc32df11",
        "part": "whole"
       },
       "id": "dc718618-d852-49f5-96b7-36bac32c1b89"
      }
     }
    },
    "26a6df42-71f6-4e37-b682-8e3ab2ef16db": {
     "id": "26a6df42-71f6-4e37-b682-8e3ab2ef16db",
     "prev": "119309f6-cd6f-476d-8ed7-e0e675a60c38",
     "regions": {
      "8eb2843f-de53-4bae-9385-c6c1ad94d8b8": {
       "attrs": {
        "height": 0.8,
        "width": 0.8,
        "x": 0.1,
        "y": 0.1
       },
       "content": {
        "cell": "b88f9111-ba96-4573-b358-ec290ba123db",
        "part": "whole"
       },
       "id": "8eb2843f-de53-4bae-9385-c6c1ad94d8b8"
      }
     }
    },
    "296ab81d-9ede-447b-99f4-239669289a70": {
     "id": "296ab81d-9ede-447b-99f4-239669289a70",
     "prev": "fd276e80-641c-44fa-8ceb-96c9fc2111c4",
     "regions": {
      "89016892-b240-4726-9ec6-9e5fabfed28d": {
       "attrs": {
        "height": 0.8,
        "width": 0.8,
        "x": 0.1,
        "y": 0.1
       },
       "content": {
        "cell": "aea6a92f-03de-4f66-8ee0-1a44672d6dad",
        "part": "whole"
       },
       "id": "89016892-b240-4726-9ec6-9e5fabfed28d"
      }
     }
    },
    "2c35c218-f927-4b63-892b-1d98a09f0a47": {
     "id": "2c35c218-f927-4b63-892b-1d98a09f0a47",
     "prev": "f0a5b65c-42b1-4395-a9a3-8b92d148d5a5",
     "regions": {
      "3a4ae935-2d4d-40c4-a228-e318f47f0cc4": {
       "attrs": {
        "height": 0.8,
        "width": 0.8,
        "x": 0.1,
        "y": 0.1
       },
       "content": {
        "cell": "69f66504-6d49-4d8c-a5a3-ab8f921f4dbf",
        "part": "whole"
       },
       "id": "3a4ae935-2d4d-40c4-a228-e318f47f0cc4"
      }
     }
    },
    "3339cae2-b882-47dd-b557-ede244d76cf1": {
     "id": "3339cae2-b882-47dd-b557-ede244d76cf1",
     "prev": "d93a2e1b-930d-4f81-96ac-0dabd7a6b3be",
     "regions": {
      "0be80782-98b7-4837-985a-ceebe1f31ab8": {
       "attrs": {
        "height": 0.8,
        "width": 0.8,
        "x": 0.1,
        "y": 0.1
       },
       "content": {
        "cell": "45ce90e6-c867-4814-a6a7-6329cb44b38c",
        "part": "whole"
       },
       "id": "0be80782-98b7-4837-985a-ceebe1f31ab8"
      }
     }
    },
    "473c19a5-af0a-4222-b915-39d31cc98024": {
     "id": "473c19a5-af0a-4222-b915-39d31cc98024",
     "prev": "81ab21ea-cc12-4a8d-875a-058afc358892",
     "regions": {
      "fd1a8f14-23e8-4245-97e0-9f85e8cdccc2": {
       "attrs": {
        "height": 0.8,
        "width": 0.8,
        "x": 0.1,
        "y": 0.1
       },
       "content": {
        "cell": "736496c3-d272-43f4-bb80-815c3f55bc01",
        "part": "whole"
       },
       "id": "fd1a8f14-23e8-4245-97e0-9f85e8cdccc2"
      }
     }
    },
    "4aefdb87-52f6-467e-8153-ecb986a1b3bd": {
     "id": "4aefdb87-52f6-467e-8153-ecb986a1b3bd",
     "prev": "7a25e160-8802-4dd0-9e5c-787fa9e1254d",
     "regions": {
      "834d450e-80b9-41cb-b20d-8664b7c35ef6": {
       "attrs": {
        "height": 0.8,
        "width": 0.8,
        "x": 0.1,
        "y": 0.1
       },
       "content": {
        "cell": "62bfbed0-e99c-489c-bee1-1c545b713de0",
        "part": "whole"
       },
       "id": "834d450e-80b9-41cb-b20d-8664b7c35ef6"
      }
     }
    },
    "4f24e721-cf11-4e3b-b115-f35167ae34a2": {
     "id": "4f24e721-cf11-4e3b-b115-f35167ae34a2",
     "prev": "cfb55e8d-3741-4520-a19c-e6e8e168e04c",
     "regions": {
      "573bd6d9-0889-49ff-821b-9fd7f35b7b9a": {
       "attrs": {
        "height": 0.8,
        "width": 0.8,
        "x": 0.1,
        "y": 0.1
       },
       "content": {
        "cell": "ba77a9e9-8b01-44e7-8566-4c938698ba58",
        "part": "whole"
       },
       "id": "573bd6d9-0889-49ff-821b-9fd7f35b7b9a"
      }
     }
    },
    "5f68fab9-9bea-4705-9d54-b207c88c789d": {
     "id": "5f68fab9-9bea-4705-9d54-b207c88c789d",
     "prev": "1f0d93ec-01b2-4ffb-8abe-3386176fc5cd",
     "regions": {
      "59596a12-a94f-47e7-994c-90752c4c865e": {
       "attrs": {
        "height": 0.8,
        "width": 0.8,
        "x": 0.1,
        "y": 0.1
       },
       "content": {
        "cell": "f8516322-89f8-45d5-aaff-c16efa62c6a8",
        "part": "whole"
       },
       "id": "59596a12-a94f-47e7-994c-90752c4c865e"
      }
     }
    },
    "6dbb033b-5093-40ca-8ac5-f6ab580cf58c": {
     "id": "6dbb033b-5093-40ca-8ac5-f6ab580cf58c",
     "prev": "296ab81d-9ede-447b-99f4-239669289a70",
     "regions": {
      "477b03bd-7641-4bc1-a654-f8b4a8683d88": {
       "attrs": {
        "height": 0.8,
        "width": 0.8,
        "x": 0.1,
        "y": 0.1
       },
       "content": {
        "cell": "b7d6bd13-ed7a-43a6-b878-6a84fc5e4934",
        "part": "whole"
       },
       "id": "477b03bd-7641-4bc1-a654-f8b4a8683d88"
      }
     }
    },
    "798ed030-9d8d-48f8-a76d-431db0078628": {
     "id": "798ed030-9d8d-48f8-a76d-431db0078628",
     "prev": "b95488ca-82f5-44c2-a7fa-d4d55b49c12a",
     "regions": {
      "d7e0e304-2d2c-4422-ab9e-c05675862a9c": {
       "attrs": {
        "height": 0.8,
        "width": 0.8,
        "x": 0.1,
        "y": 0.1
       },
       "content": {
        "cell": "74944b1c-2e67-4d31-8c8a-895d6440eb76",
        "part": "whole"
       },
       "id": "d7e0e304-2d2c-4422-ab9e-c05675862a9c"
      }
     }
    },
    "79f8cc4f-4a1c-4ba8-a878-ebb589c64cfd": {
     "id": "79f8cc4f-4a1c-4ba8-a878-ebb589c64cfd",
     "prev": "de1afcbc-2732-4dbc-8f98-dbf2b32e9ee7",
     "regions": {
      "25e8ae73-2f1f-4a23-823b-448d9319836d": {
       "attrs": {
        "height": 0.8,
        "width": 0.8,
        "x": 0.1,
        "y": 0.1
       },
       "content": {
        "cell": "60a77757-d3fc-43dc-9156-af6c9e843585",
        "part": "whole"
       },
       "id": "25e8ae73-2f1f-4a23-823b-448d9319836d"
      }
     }
    },
    "7a25e160-8802-4dd0-9e5c-787fa9e1254d": {
     "id": "7a25e160-8802-4dd0-9e5c-787fa9e1254d",
     "prev": "88b5395c-7cad-4c15-ae3c-6160e9b3c4f9",
     "regions": {
      "efb32268-a6a0-44b3-9810-e97c1f64502b": {
       "attrs": {
        "height": 0.8,
        "width": 0.8,
        "x": 0.1,
        "y": 0.1
       },
       "content": {
        "cell": "6b35d368-3b87-42b6-9fdf-3d0d6a97bbac",
        "part": "whole"
       },
       "id": "efb32268-a6a0-44b3-9810-e97c1f64502b"
      }
     }
    },
    "7b683c5c-242b-436f-8bc2-aabae863af63": {
     "id": "7b683c5c-242b-436f-8bc2-aabae863af63",
     "prev": "5f68fab9-9bea-4705-9d54-b207c88c789d",
     "regions": {
      "f45d084d-125d-48fa-b5ce-d4c9365bf257": {
       "attrs": {
        "height": 0.8,
        "width": 0.8,
        "x": 0.1,
        "y": 0.1
       },
       "content": {
        "cell": "9d26ee0c-053a-4cca-97b0-afdad5780207",
        "part": "whole"
       },
       "id": "f45d084d-125d-48fa-b5ce-d4c9365bf257"
      }
     }
    },
    "81ab21ea-cc12-4a8d-875a-058afc358892": {
     "id": "81ab21ea-cc12-4a8d-875a-058afc358892",
     "prev": null,
     "regions": {
      "789630a2-c92d-411e-a1ac-47e46087ef93": {
       "attrs": {
        "height": 0.8,
        "width": 0.8,
        "x": 0.1183727034120734,
        "y": 0.1093321668124818
       },
       "content": {
        "cell": "fc845f2d-32cd-4d1a-b494-86ca667a869f",
        "part": "whole"
       },
       "id": "789630a2-c92d-411e-a1ac-47e46087ef93"
      }
     }
    },
    "87c97b20-4696-4dd5-83d0-b0f98d993767": {
     "id": "87c97b20-4696-4dd5-83d0-b0f98d993767",
     "prev": "7b683c5c-242b-436f-8bc2-aabae863af63",
     "regions": {
      "857bac9c-0285-478d-b03a-04a01f1b8bbe": {
       "attrs": {
        "height": 0.8,
        "width": 0.8,
        "x": 0.1,
        "y": 0.1
       },
       "content": {
        "cell": "1add68ed-7042-4b00-84b4-7b4110bccbb3",
        "part": "whole"
       },
       "id": "857bac9c-0285-478d-b03a-04a01f1b8bbe"
      }
     }
    },
    "88b5395c-7cad-4c15-ae3c-6160e9b3c4f9": {
     "id": "88b5395c-7cad-4c15-ae3c-6160e9b3c4f9",
     "prev": "87c97b20-4696-4dd5-83d0-b0f98d993767",
     "regions": {
      "9a12123f-c796-4e93-85c4-aa38f711b652": {
       "attrs": {
        "height": 0.8,
        "width": 0.8,
        "x": 0.1,
        "y": 0.1
       },
       "content": {
        "cell": "c2418a0f-1b6f-477a-9483-d02d75d88368",
        "part": "whole"
       },
       "id": "9a12123f-c796-4e93-85c4-aa38f711b652"
      }
     }
    },
    "a9c9af89-4ca1-486e-ab81-fadbc08b0109": {
     "id": "a9c9af89-4ca1-486e-ab81-fadbc08b0109",
     "prev": "79f8cc4f-4a1c-4ba8-a878-ebb589c64cfd",
     "regions": {
      "50038137-5bb0-455c-b165-49f8020fe834": {
       "attrs": {
        "height": 0.8,
        "width": 0.8,
        "x": 0.1,
        "y": 0.1
       },
       "content": {
        "cell": "346c8ec9-460b-45f6-915d-8b778c391dcd",
        "part": "whole"
       },
       "id": "50038137-5bb0-455c-b165-49f8020fe834"
      }
     }
    },
    "b95488ca-82f5-44c2-a7fa-d4d55b49c12a": {
     "id": "b95488ca-82f5-44c2-a7fa-d4d55b49c12a",
     "prev": "f12b0790-304d-4796-8ba4-c9bdd37ee5af",
     "regions": {
      "70d5b23f-3c05-472c-a8c8-7aeb81e3a1c9": {
       "attrs": {
        "height": 0.8,
        "width": 0.8,
        "x": 0.1,
        "y": 0.1
       },
       "content": {
        "cell": "817241a2-c398-4632-a863-a1bd2ef14f84",
        "part": "whole"
       },
       "id": "70d5b23f-3c05-472c-a8c8-7aeb81e3a1c9"
      }
     }
    },
    "cfb55e8d-3741-4520-a19c-e6e8e168e04c": {
     "id": "cfb55e8d-3741-4520-a19c-e6e8e168e04c",
     "prev": "798ed030-9d8d-48f8-a76d-431db0078628",
     "regions": {
      "8a997241-d26a-42cd-a2ca-1e7b32569708": {
       "attrs": {
        "height": 0.8,
        "width": 0.8,
        "x": 0.1,
        "y": 0.1
       },
       "content": {
        "cell": "5db83ade-e88e-4809-8450-ff32bffb9efd",
        "part": "whole"
       },
       "id": "8a997241-d26a-42cd-a2ca-1e7b32569708"
      }
     }
    },
    "d93a2e1b-930d-4f81-96ac-0dabd7a6b3be": {
     "id": "d93a2e1b-930d-4f81-96ac-0dabd7a6b3be",
     "prev": "26a6df42-71f6-4e37-b682-8e3ab2ef16db",
     "regions": {
      "85443726-e5e9-42c1-9ce6-4668197197fd": {
       "attrs": {
        "height": 0.8,
        "width": 0.8,
        "x": 0.1,
        "y": 0.1
       },
       "content": {
        "cell": "32d20010-cb86-4f1f-9bcf-7f3fdee58fd2",
        "part": "whole"
       },
       "id": "85443726-e5e9-42c1-9ce6-4668197197fd"
      }
     }
    },
    "de1afcbc-2732-4dbc-8f98-dbf2b32e9ee7": {
     "id": "de1afcbc-2732-4dbc-8f98-dbf2b32e9ee7",
     "prev": "473c19a5-af0a-4222-b915-39d31cc98024",
     "regions": {
      "f4eec18b-bbc1-4c29-a659-d5d58450a346": {
       "attrs": {
        "height": 0.8,
        "width": 0.8,
        "x": 0.1,
        "y": 0.1
       },
       "content": {
        "cell": "f1433caf-87c4-43d1-9d6b-e2205053a60e",
        "part": "whole"
       },
       "id": "f4eec18b-bbc1-4c29-a659-d5d58450a346"
      }
     }
    },
    "f0a5b65c-42b1-4395-a9a3-8b92d148d5a5": {
     "id": "f0a5b65c-42b1-4395-a9a3-8b92d148d5a5",
     "prev": "a9c9af89-4ca1-486e-ab81-fadbc08b0109",
     "regions": {
      "c6894fc4-9e26-4c7a-9445-955be2bbad7f": {
       "attrs": {
        "height": 0.8,
        "width": 0.8,
        "x": 0.1,
        "y": 0.1
       },
       "content": {
        "cell": "05aba8c4-a2d9-4139-b870-027435f4da5d",
        "part": "whole"
       },
       "id": "c6894fc4-9e26-4c7a-9445-955be2bbad7f"
      }
     }
    },
    "f12b0790-304d-4796-8ba4-c9bdd37ee5af": {
     "id": "f12b0790-304d-4796-8ba4-c9bdd37ee5af",
     "prev": "6dbb033b-5093-40ca-8ac5-f6ab580cf58c",
     "regions": {
      "3e2aeec1-1832-4ea6-8788-35e12aef13d9": {
       "attrs": {
        "height": 0.8,
        "width": 0.8,
        "x": 0.1,
        "y": 0.1
       },
       "content": {
        "cell": "13994332-a0ee-4332-9987-f800ba181fa7",
        "part": "whole"
       },
       "id": "3e2aeec1-1832-4ea6-8788-35e12aef13d9"
      }
     }
    },
    "fd276e80-641c-44fa-8ceb-96c9fc2111c4": {
     "id": "fd276e80-641c-44fa-8ceb-96c9fc2111c4",
     "prev": "2c35c218-f927-4b63-892b-1d98a09f0a47",
     "regions": {
      "07bb5d3d-3cce-42b1-986b-d59c45f99aca": {
       "attrs": {
        "height": 0.8,
        "width": 0.8,
        "x": 0.1,
        "y": 0.1
       },
       "content": {
        "cell": "05b10ec2-40b5-4790-a542-5db4c66a6fbe",
        "part": "whole"
       },
       "id": "07bb5d3d-3cce-42b1-986b-d59c45f99aca"
      }
     }
    }
   },
   "themes": {}
  }
 },
 "nbformat": 4,
 "nbformat_minor": 1
}
