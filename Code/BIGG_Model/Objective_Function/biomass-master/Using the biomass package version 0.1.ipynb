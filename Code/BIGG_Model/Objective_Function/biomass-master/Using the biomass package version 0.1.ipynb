{
 "cells": [
  {
   "cell_type": "markdown",
   "metadata": {},
   "source": [
    "### Usage of the biomass package version 0.1\n",
    "\n",
    "The biomass package is used to generate metabolite coefficients in the biomass objective function of a metabolic model. The main advantage of this package is that it weights the coefficients based on experimental, relatively easy to generate OMICs datasets.\n",
    "\n",
    "OMICS data standard input format:\n",
    "- A 2 columns csv file labelled \"gene_id\" and \"abundances\"\n",
    "\n",
    "The datasets supported in version 0.1 are the following:\n",
    "- Genomic: genome sequence as a fasta file\n",
    "- Transcriptomic: processed RNA-seq data in the standard input format\n",
    "- Proteomic: processed proteomic data in the standard input format\n",
    "\n",
    "To be included in version 0.2:\n",
    "- Lipidomic\n",
    "- Metabolomic\n",
    "\n",
    "The functionnal elements of version 0.1 are:\n",
    "- DNA\n",
    "- RNA\n",
    "- Protein\n",
    "- Update\n",
    "\n",
    "The main method for the classes DNA,RNA and Protein are get_coefficients(). They return a dictionnary of metabolites associated with coefficients that can be utilized to update the biomass objective function.\n",
    "The Update class main method is update_biomass(). It replaces the existing coefficient of the given metabolites by the ones calculated "
   ]
  },
  {
   "cell_type": "code",
   "execution_count": 1,
   "metadata": {
    "collapsed": true
   },
   "outputs": [],
   "source": [
    "#Define cell weight and proportion of each main components of the cell\n",
    "#These parameters have default values\n",
    "cell_weight = 0.3 \n",
    "protein_ratio = 0.6\n",
    "dna_ratio = 0.1\n",
    "rna_ratio = 0.2"
   ]
  },
  {
   "cell_type": "code",
   "execution_count": 2,
   "metadata": {},
   "outputs": [
    {
     "data": {
      "text/plain": [
       "'10fthf_c + 12dgr180 + 5fthf_c + alatrna_c + amet_c + argtrna_c + ascb6p_c + asntrna_c + asptrna_c + atp_c + ca2_c + cl_c + clpn_c + coa_c + cobalt2_c + crm_mf_c + ctp_c + cystrna_c + datp_c + dctp_c + dgtp_c + dttp_c + fad_c + fe3_c + fmettrna_c + glntrna_c + glutrna_c + glytrna_c + gtp_c + histrna_c + iletrna_c + k_c + leutrna_c + lipopb_c + lpail345p_c + lystrna_c + mal__L_c + mettrna_c + mg2_c + mlthf_c + mn2_c + mobd_c + na1_c + ni2_c + orn_c + pa180_c + pail345p_c + pail_c + pan4p_c + pc_c + pg_c + phetrna_c + protrna_c + ptrc_c + ribflv_c + s_c + sertrna_c + sphmyln_mf_c + spmd_c + thf_c + thmpp_c + thrtrna_c + trptrna_c + tyrtrna_c + uacgam_c + utp_c + valtrna_c + zn2_c --> glutrna(gln)_c + trnaala_c + trnaarg_c + trnaasn_c + trnaasp_c + trnacys_c + trnaglu_c + trnagly_c + trnahis_c + trnaile_c + trnaleu_c + trnalys_c + 2.0 trnamet_c + trnaphe_c + trnapro_c + trnaser_c + trnathr_c + trnatrp_c + trnatyr_c + trnaval_c'"
      ]
     },
     "execution_count": 2,
     "metadata": {},
     "output_type": "execute_result"
    }
   ],
   "source": [
    "#Import a metabolic model\n",
    "#Two extensions are supported .json and .xml\n",
    "import cobra\n",
    "model = cobra.io.load_json_model('/home/jean-christophe/Documents/Maitrise_UCSD/Modelling/Mesoplasma_florum/Functionnal_testing/finalMeso1.json')\n",
    "#This model has a biomass objective function without coefficients\n",
    "model.reactions.BIOMASS.reaction"
   ]
  },
  {
   "cell_type": "code",
   "execution_count": 3,
   "metadata": {
    "collapsed": true
   },
   "outputs": [],
   "source": [
    "#The path to the model\n",
    "path_to_model = '/home/jean-christophe/Documents/Maitrise_UCSD/Modelling/Mesoplasma_florum/Functionnal_testing/finalMeso1.json'"
   ]
  },
  {
   "cell_type": "code",
   "execution_count": 4,
   "metadata": {
    "collapsed": true
   },
   "outputs": [],
   "source": [
    "#Import genome sequence\n",
    "path_to_fasta = '/home/jean-christophe/Documents/Maitrise_UCSD/GenBank_files/Mflorum_DNA.fasta'\n",
    "#Import Genbank annotation file\n",
    "path_to_genbank = '/home/jean-christophe/Documents/Maitrise_UCSD/GenBank_files/Mflorum.gbff'"
   ]
  },
  {
   "cell_type": "code",
   "execution_count": 5,
   "metadata": {
    "collapsed": true
   },
   "outputs": [],
   "source": [
    "import pandas as pd"
   ]
  },
  {
   "cell_type": "code",
   "execution_count": 6,
   "metadata": {
    "collapsed": true
   },
   "outputs": [],
   "source": [
    "#Import transcriptomic data\n",
    "transcriptomic = pd.read_csv('transcriptomic.csv')"
   ]
  },
  {
   "cell_type": "code",
   "execution_count": 7,
   "metadata": {
    "collapsed": true
   },
   "outputs": [],
   "source": [
    "#Import proteomic data\n",
    "proteomic = pd.read_csv('proteomics.csv')"
   ]
  },
  {
   "cell_type": "code",
   "execution_count": 8,
   "metadata": {
    "scrolled": true
   },
   "outputs": [
    {
     "name": "stdout",
     "output_type": "stream",
     "text": [
      "{<Metabolite dgtp_c at 0x7f675e289810>: 0.022407104330214745, <Metabolite datp_c at 0x7f675e26c290>: 0.0626995792763276, <Metabolite dctp_c at 0x7f675e2897d0>: 0.024606894127236167, <Metabolite dttp_c at 0x7f675e289790>: 0.06417773683777436}\n",
      "Found dgtp_c in biomass reaction\n",
      "The actual model None solves in <Solution 0.53 at 0x7f675e98aad0> and its biomass contains 87 metabolites\n",
      "The actual model None solves in <Solution 0.53 at 0x7f675ee7a790> and its biomass contains 88 metabolites\n",
      "10fthf_c + 12dgr180 + 5fthf_c + alatrna_c + amet_c + argtrna_c + ascb6p_c + asntrna_c + asptrna_c + atp_c + ca2_c + cl_c + clpn_c + coa_c + cobalt2_c + crm_mf_c + ctp_c + cystrna_c + datp_c + dctp_c + 0.0224071043302 dgtp_c + dttp_c + fad_c + fe3_c + fmettrna_c + glntrna_c + glutrna_c + glytrna_c + gtp_c + histrna_c + iletrna_c + k_c + leutrna_c + lipopb_c + lpail345p_c + lystrna_c + mal__L_c + mettrna_c + mg2_c + mlthf_c + mn2_c + mobd_c + na1_c + ni2_c + orn_c + pa180_c + pail345p_c + pail_c + pan4p_c + pc_c + pg_c + phetrna_c + protrna_c + ptrc_c + ribflv_c + s_c + sertrna_c + sphmyln_mf_c + spmd_c + thf_c + thmpp_c + thrtrna_c + trptrna_c + tyrtrna_c + uacgam_c + utp_c + valtrna_c + zn2_c --> glutrna(gln)_c + trnaala_c + trnaarg_c + trnaasn_c + trnaasp_c + trnacys_c + trnaglu_c + trnagly_c + trnahis_c + trnaile_c + trnaleu_c + trnalys_c + 2.0 trnamet_c + trnaphe_c + trnapro_c + trnaser_c + trnathr_c + trnatrp_c + trnatyr_c + trnaval_c\n",
      "Found datp_c in biomass reaction\n",
      "The actual model None solves in <Solution 0.55 at 0x7f675e98ac90> and its biomass contains 87 metabolites\n",
      "The actual model None solves in <Solution 0.55 at 0x7f675e98aad0> and its biomass contains 88 metabolites\n",
      "10fthf_c + 12dgr180 + 5fthf_c + alatrna_c + amet_c + argtrna_c + ascb6p_c + asntrna_c + asptrna_c + atp_c + ca2_c + cl_c + clpn_c + coa_c + cobalt2_c + crm_mf_c + ctp_c + cystrna_c + 0.0626995792763 datp_c + dctp_c + 0.0224071043302 dgtp_c + dttp_c + fad_c + fe3_c + fmettrna_c + glntrna_c + glutrna_c + glytrna_c + gtp_c + histrna_c + iletrna_c + k_c + leutrna_c + lipopb_c + lpail345p_c + lystrna_c + mal__L_c + mettrna_c + mg2_c + mlthf_c + mn2_c + mobd_c + na1_c + ni2_c + orn_c + pa180_c + pail345p_c + pail_c + pan4p_c + pc_c + pg_c + phetrna_c + protrna_c + ptrc_c + ribflv_c + s_c + sertrna_c + sphmyln_mf_c + spmd_c + thf_c + thmpp_c + thrtrna_c + trptrna_c + tyrtrna_c + uacgam_c + utp_c + valtrna_c + zn2_c --> glutrna(gln)_c + trnaala_c + trnaarg_c + trnaasn_c + trnaasp_c + trnacys_c + trnaglu_c + trnagly_c + trnahis_c + trnaile_c + trnaleu_c + trnalys_c + 2.0 trnamet_c + trnaphe_c + trnapro_c + trnaser_c + trnathr_c + trnatrp_c + trnatyr_c + trnaval_c\n",
      "Found dctp_c in biomass reaction\n",
      "The actual model None solves in <Solution 0.56 at 0x7f675ee7a790> and its biomass contains 87 metabolites\n",
      "The actual model None solves in <Solution 0.56 at 0x7f675e98aad0> and its biomass contains 88 metabolites\n",
      "10fthf_c + 12dgr180 + 5fthf_c + alatrna_c + amet_c + argtrna_c + ascb6p_c + asntrna_c + asptrna_c + atp_c + ca2_c + cl_c + clpn_c + coa_c + cobalt2_c + crm_mf_c + ctp_c + cystrna_c + 0.0626995792763 datp_c + 0.0246068941272 dctp_c + 0.0224071043302 dgtp_c + dttp_c + fad_c + fe3_c + fmettrna_c + glntrna_c + glutrna_c + glytrna_c + gtp_c + histrna_c + iletrna_c + k_c + leutrna_c + lipopb_c + lpail345p_c + lystrna_c + mal__L_c + mettrna_c + mg2_c + mlthf_c + mn2_c + mobd_c + na1_c + ni2_c + orn_c + pa180_c + pail345p_c + pail_c + pan4p_c + pc_c + pg_c + phetrna_c + protrna_c + ptrc_c + ribflv_c + s_c + sertrna_c + sphmyln_mf_c + spmd_c + thf_c + thmpp_c + thrtrna_c + trptrna_c + tyrtrna_c + uacgam_c + utp_c + valtrna_c + zn2_c --> glutrna(gln)_c + trnaala_c + trnaarg_c + trnaasn_c + trnaasp_c + trnacys_c + trnaglu_c + trnagly_c + trnahis_c + trnaile_c + trnaleu_c + trnalys_c + 2.0 trnamet_c + trnaphe_c + trnapro_c + trnaser_c + trnathr_c + trnatrp_c + trnatyr_c + trnaval_c\n",
      "Found dttp_c in biomass reaction\n",
      "The actual model None solves in <Solution 0.57 at 0x7f675ee7a790> and its biomass contains 87 metabolites\n",
      "The actual model None solves in <Solution 0.57 at 0x7f675e98aad0> and its biomass contains 88 metabolites\n",
      "10fthf_c + 12dgr180 + 5fthf_c + alatrna_c + amet_c + argtrna_c + ascb6p_c + asntrna_c + asptrna_c + atp_c + ca2_c + cl_c + clpn_c + coa_c + cobalt2_c + crm_mf_c + ctp_c + cystrna_c + 0.0626995792763 datp_c + 0.0246068941272 dctp_c + 0.0224071043302 dgtp_c + 0.0641777368378 dttp_c + fad_c + fe3_c + fmettrna_c + glntrna_c + glutrna_c + glytrna_c + gtp_c + histrna_c + iletrna_c + k_c + leutrna_c + lipopb_c + lpail345p_c + lystrna_c + mal__L_c + mettrna_c + mg2_c + mlthf_c + mn2_c + mobd_c + na1_c + ni2_c + orn_c + pa180_c + pail345p_c + pail_c + pan4p_c + pc_c + pg_c + phetrna_c + protrna_c + ptrc_c + ribflv_c + s_c + sertrna_c + sphmyln_mf_c + spmd_c + thf_c + thmpp_c + thrtrna_c + trptrna_c + tyrtrna_c + uacgam_c + utp_c + valtrna_c + zn2_c --> glutrna(gln)_c + trnaala_c + trnaarg_c + trnaasn_c + trnaasp_c + trnacys_c + trnaglu_c + trnagly_c + trnahis_c + trnaile_c + trnaleu_c + trnalys_c + 2.0 trnamet_c + trnaphe_c + trnapro_c + trnaser_c + trnathr_c + trnatrp_c + trnatyr_c + trnaval_c\n"
     ]
    }
   ],
   "source": [
    "#Update DNA coefficients\n",
    "from biomass import DNA\n",
    "dna_update = DNA()\n",
    "dna_biomass_coefficients = dna_update.get_coefficients(path_to_fasta,path_to_model)\n",
    "print(dna_biomass_coefficients)\n",
    "dna_update.update_biomass_coefficients(dna_biomass_coefficients,model)"
   ]
  },
  {
   "cell_type": "code",
   "execution_count": 9,
   "metadata": {},
   "outputs": [
    {
     "name": "stdout",
     "output_type": "stream",
     "text": [
      "Found utp_c in biomass reaction\n",
      "The actual model None solves in <Solution 0.59 at 0x7f675e00fa10> and its biomass contains 87 metabolites\n",
      "The actual model None solves in <Solution 0.58 at 0x7f675e98aad0> and its biomass contains 88 metabolites\n",
      "10fthf_c + 12dgr180 + 5fthf_c + alatrna_c + amet_c + argtrna_c + ascb6p_c + asntrna_c + asptrna_c + atp_c + ca2_c + cl_c + clpn_c + coa_c + cobalt2_c + crm_mf_c + ctp_c + cystrna_c + 0.0626995792763 datp_c + 0.0246068941272 dctp_c + 0.0224071043302 dgtp_c + 0.0641777368378 dttp_c + fad_c + fe3_c + fmettrna_c + glntrna_c + glutrna_c + glytrna_c + gtp_c + histrna_c + iletrna_c + k_c + leutrna_c + lipopb_c + lpail345p_c + lystrna_c + mal__L_c + mettrna_c + mg2_c + mlthf_c + mn2_c + mobd_c + na1_c + ni2_c + orn_c + pa180_c + pail345p_c + pail_c + pan4p_c + pc_c + pg_c + phetrna_c + protrna_c + ptrc_c + ribflv_c + s_c + sertrna_c + sphmyln_mf_c + spmd_c + thf_c + thmpp_c + thrtrna_c + trptrna_c + tyrtrna_c + uacgam_c + 0.121001274816 utp_c + valtrna_c + zn2_c --> glutrna(gln)_c + trnaala_c + trnaarg_c + trnaasn_c + trnaasp_c + trnacys_c + trnaglu_c + trnagly_c + trnahis_c + trnaile_c + trnaleu_c + trnalys_c + 2.0 trnamet_c + trnaphe_c + trnapro_c + trnaser_c + trnathr_c + trnatrp_c + trnatyr_c + trnaval_c\n",
      "Found gtp_c in biomass reaction\n",
      "The actual model None solves in <Solution 0.59 at 0x7f675e00fcd0> and its biomass contains 87 metabolites\n",
      "The actual model None solves in <Solution 0.59 at 0x7f675e98aad0> and its biomass contains 88 metabolites\n",
      "10fthf_c + 12dgr180 + 5fthf_c + alatrna_c + amet_c + argtrna_c + ascb6p_c + asntrna_c + asptrna_c + atp_c + ca2_c + cl_c + clpn_c + coa_c + cobalt2_c + crm_mf_c + ctp_c + cystrna_c + 0.0626995792763 datp_c + 0.0246068941272 dctp_c + 0.0224071043302 dgtp_c + 0.0641777368378 dttp_c + fad_c + fe3_c + fmettrna_c + glntrna_c + glutrna_c + glytrna_c + 0.0696258413273 gtp_c + histrna_c + iletrna_c + k_c + leutrna_c + lipopb_c + lpail345p_c + lystrna_c + mal__L_c + mettrna_c + mg2_c + mlthf_c + mn2_c + mobd_c + na1_c + ni2_c + orn_c + pa180_c + pail345p_c + pail_c + pan4p_c + pc_c + pg_c + phetrna_c + protrna_c + ptrc_c + ribflv_c + s_c + sertrna_c + sphmyln_mf_c + spmd_c + thf_c + thmpp_c + thrtrna_c + trptrna_c + tyrtrna_c + uacgam_c + 0.121001274816 utp_c + valtrna_c + zn2_c --> glutrna(gln)_c + trnaala_c + trnaarg_c + trnaasn_c + trnaasp_c + trnacys_c + trnaglu_c + trnagly_c + trnahis_c + trnaile_c + trnaleu_c + trnalys_c + 2.0 trnamet_c + trnaphe_c + trnapro_c + trnaser_c + trnathr_c + trnatrp_c + trnatyr_c + trnaval_c\n",
      "Found atp_c in biomass reaction\n",
      "The actual model None solves in <Solution 0.59 at 0x7f675e00fdd0> and its biomass contains 87 metabolites\n",
      "The actual model None solves in <Solution 0.59 at 0x7f675e98aad0> and its biomass contains 88 metabolites\n",
      "10fthf_c + 12dgr180 + 5fthf_c + alatrna_c + amet_c + argtrna_c + ascb6p_c + asntrna_c + asptrna_c + 0.155320069502 atp_c + ca2_c + cl_c + clpn_c + coa_c + cobalt2_c + crm_mf_c + ctp_c + cystrna_c + 0.0626995792763 datp_c + 0.0246068941272 dctp_c + 0.0224071043302 dgtp_c + 0.0641777368378 dttp_c + fad_c + fe3_c + fmettrna_c + glntrna_c + glutrna_c + glytrna_c + 0.0696258413273 gtp_c + histrna_c + iletrna_c + k_c + leutrna_c + lipopb_c + lpail345p_c + lystrna_c + mal__L_c + mettrna_c + mg2_c + mlthf_c + mn2_c + mobd_c + na1_c + ni2_c + orn_c + pa180_c + pail345p_c + pail_c + pan4p_c + pc_c + pg_c + phetrna_c + protrna_c + ptrc_c + ribflv_c + s_c + sertrna_c + sphmyln_mf_c + spmd_c + thf_c + thmpp_c + thrtrna_c + trptrna_c + tyrtrna_c + uacgam_c + 0.121001274816 utp_c + valtrna_c + zn2_c --> glutrna(gln)_c + trnaala_c + trnaarg_c + trnaasn_c + trnaasp_c + trnacys_c + trnaglu_c + trnagly_c + trnahis_c + trnaile_c + trnaleu_c + trnalys_c + 2.0 trnamet_c + trnaphe_c + trnapro_c + trnaser_c + trnathr_c + trnatrp_c + trnatyr_c + trnaval_c\n",
      "Found ctp_c in biomass reaction\n",
      "The actual model None solves in <Solution 0.59 at 0x7f675e00fa10> and its biomass contains 87 metabolites\n",
      "The actual model None solves in <Solution 0.59 at 0x7f675e98aad0> and its biomass contains 88 metabolites\n",
      "10fthf_c + 12dgr180 + 5fthf_c + alatrna_c + amet_c + argtrna_c + ascb6p_c + asntrna_c + asptrna_c + 0.155320069502 atp_c + ca2_c + cl_c + clpn_c + coa_c + cobalt2_c + crm_mf_c + 0.0576276422952 ctp_c + cystrna_c + 0.0626995792763 datp_c + 0.0246068941272 dctp_c + 0.0224071043302 dgtp_c + 0.0641777368378 dttp_c + fad_c + fe3_c + fmettrna_c + glntrna_c + glutrna_c + glytrna_c + 0.0696258413273 gtp_c + histrna_c + iletrna_c + k_c + leutrna_c + lipopb_c + lpail345p_c + lystrna_c + mal__L_c + mettrna_c + mg2_c + mlthf_c + mn2_c + mobd_c + na1_c + ni2_c + orn_c + pa180_c + pail345p_c + pail_c + pan4p_c + pc_c + pg_c + phetrna_c + protrna_c + ptrc_c + ribflv_c + s_c + sertrna_c + sphmyln_mf_c + spmd_c + thf_c + thmpp_c + thrtrna_c + trptrna_c + tyrtrna_c + uacgam_c + 0.121001274816 utp_c + valtrna_c + zn2_c --> glutrna(gln)_c + trnaala_c + trnaarg_c + trnaasn_c + trnaasp_c + trnacys_c + trnaglu_c + trnagly_c + trnahis_c + trnaile_c + trnaleu_c + trnalys_c + 2.0 trnamet_c + trnaphe_c + trnapro_c + trnaser_c + trnathr_c + trnatrp_c + trnatyr_c + trnaval_c\n"
     ]
    }
   ],
   "source": [
    "#Update RNA coefficients\n",
    "from biomass import RNA\n",
    "rna_update = RNA()\n",
    "rna_biomass_coefficients = rna_update.get_coefficients(path_to_genbank,path_to_model,transcriptomic,\n",
    "                             CELL_WEIGHT=cell_weight,TOTAL_RNA_RATIO=rna_ratio)\n",
    "#The fractions of ribosomal, transfer and messenger RNA can also be defined\n",
    "rna_update.update_biomass_coefficients(rna_biomass_coefficients,model)"
   ]
  },
  {
   "cell_type": "code",
   "execution_count": 13,
   "metadata": {},
   "outputs": [
    {
     "name": "stdout",
     "output_type": "stream",
     "text": [
      "{'A': 0.5159110997956983, 'C': 0.024764164647747312, 'E': 0.3236038498960037, 'D': 0.24063727925750836, 'G': 0.514084868214509, 'F': 0.13775204382857814, 'I': 0.38866814279916834, 'H': 0.05279661803935423, 'K': 0.42289554665706036, 'M': 0.10039334382981344, 'L': 0.3701278253832807, 'N': 0.26425478270623226, 'Q': 0.1276979910952906, 'P': 0.14989571771940108, 'S': 0.32422059315282087, 'R': 0.12698594044292985, 'T': 0.2918719442117945, 'W': 0.019700095170848194, 'V': 0.3621775122609601, 'Y': 0.09542866936675634}\n"
     ]
    }
   ],
   "source": [
    "#Update Protein coefficients\n",
    "from biomass import Protein\n",
    "protein_update = Protein()\n",
    "\n",
    "protein_coefficients = protein_update.get_coefficients(path_to_genbank,path_to_model,proteomic)\n",
    "print(protein_coefficients)"
   ]
  },
  {
   "cell_type": "code",
   "execution_count": null,
   "metadata": {
    "collapsed": true
   },
   "outputs": [],
   "source": [
    "protein_update.update_biomass_coefficients()"
   ]
  }
 ],
 "metadata": {
  "kernelspec": {
   "display_name": "Python 2",
   "language": "python",
   "name": "python2"
  },
  "language_info": {
   "codemirror_mode": {
    "name": "ipython",
    "version": 2
   },
   "file_extension": ".py",
   "mimetype": "text/x-python",
   "name": "python",
   "nbconvert_exporter": "python",
   "pygments_lexer": "ipython2",
   "version": "2.7.12"
  }
 },
 "nbformat": 4,
 "nbformat_minor": 2
}
